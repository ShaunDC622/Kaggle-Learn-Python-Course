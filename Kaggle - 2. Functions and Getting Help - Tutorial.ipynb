{
 "cells": [
  {
   "cell_type": "markdown",
   "id": "bcb18d2e-b90a-41ff-8393-e9e55a95f86d",
   "metadata": {},
   "source": [
    "# Functions and Getting Help"
   ]
  },
  {
   "cell_type": "markdown",
   "id": "43e9dc2c-375c-4794-af2e-c366459f34cd",
   "metadata": {},
   "source": [
    "## Getting Help"
   ]
  },
  {
   "cell_type": "markdown",
   "id": "7625d13d-b54b-401c-9776-340e79db3a29",
   "metadata": {},
   "source": [
    "We start off the session by exploring the built-in Python function called help()."
   ]
  },
  {
   "cell_type": "code",
   "execution_count": 1,
   "id": "a48e9e04-e2ca-4fca-bb51-b968665afd9c",
   "metadata": {},
   "outputs": [
    {
     "name": "stdout",
     "output_type": "stream",
     "text": [
      "Help on built-in function round in module builtins:\n",
      "\n",
      "round(number, ndigits=None)\n",
      "    Round a number to a given precision in decimal digits.\n",
      "\n",
      "    The return value is an integer if ndigits is omitted or None.  Otherwise\n",
      "    the return value has the same type as the number.  ndigits may be negative.\n",
      "\n"
     ]
    }
   ],
   "source": [
    "help(round)"
   ]
  },
  {
   "cell_type": "markdown",
   "id": "ed196d11-da28-4686-8d9a-4c5b8869c21a",
   "metadata": {},
   "source": [
    "As seen above, if you place a Python object in the argument of help, it will explain what the object is all about."
   ]
  },
  {
   "cell_type": "markdown",
   "id": "97196669-e5e0-4d8c-9c4c-42f73f40c26d",
   "metadata": {},
   "source": [
    "Another way of doing this is to place a question mark, ?, at the end of a Python object:"
   ]
  },
  {
   "cell_type": "code",
   "execution_count": 4,
   "id": "cac3897a-a63e-418b-9357-3ec101a3a2e3",
   "metadata": {},
   "outputs": [
    {
     "data": {
      "text/plain": [
       "\u001b[1;31mSignature:\u001b[0m \u001b[0mround\u001b[0m\u001b[1;33m(\u001b[0m\u001b[0mnumber\u001b[0m\u001b[1;33m,\u001b[0m \u001b[0mndigits\u001b[0m\u001b[1;33m=\u001b[0m\u001b[1;32mNone\u001b[0m\u001b[1;33m)\u001b[0m\u001b[1;33m\u001b[0m\u001b[1;33m\u001b[0m\u001b[0m\n",
       "\u001b[1;31mDocstring:\u001b[0m\n",
       "Round a number to a given precision in decimal digits.\n",
       "\n",
       "The return value is an integer if ndigits is omitted or None.  Otherwise\n",
       "the return value has the same type as the number.  ndigits may be negative.\n",
       "\u001b[1;31mType:\u001b[0m      builtin_function_or_method"
      ]
     },
     "metadata": {},
     "output_type": "display_data"
    }
   ],
   "source": [
    "round?"
   ]
  },
  {
   "cell_type": "code",
   "execution_count": 5,
   "id": "c48f620b-d298-48ca-9715-4e14e93fba9b",
   "metadata": {},
   "outputs": [
    {
     "data": {
      "text/plain": [
       "\u001b[1;31mInit signature:\u001b[0m \u001b[0mint\u001b[0m\u001b[1;33m(\u001b[0m\u001b[0mself\u001b[0m\u001b[1;33m,\u001b[0m \u001b[1;33m/\u001b[0m\u001b[1;33m,\u001b[0m \u001b[1;33m*\u001b[0m\u001b[0margs\u001b[0m\u001b[1;33m,\u001b[0m \u001b[1;33m**\u001b[0m\u001b[0mkwargs\u001b[0m\u001b[1;33m)\u001b[0m\u001b[1;33m\u001b[0m\u001b[1;33m\u001b[0m\u001b[0m\n",
       "\u001b[1;31mDocstring:\u001b[0m     \n",
       "int([x]) -> integer\n",
       "int(x, base=10) -> integer\n",
       "\n",
       "Convert a number or string to an integer, or return 0 if no arguments\n",
       "are given.  If x is a number, return x.__int__().  For floating-point\n",
       "numbers, this truncates towards zero.\n",
       "\n",
       "If x is not a number or if base is given, then x must be a string,\n",
       "bytes, or bytearray instance representing an integer literal in the\n",
       "given base.  The literal can be preceded by '+' or '-' and be surrounded\n",
       "by whitespace.  The base defaults to 10.  Valid bases are 0 and 2-36.\n",
       "Base 0 means to interpret the base from the string as an integer literal.\n",
       ">>> int('0b100', base=0)\n",
       "4\n",
       "\u001b[1;31mType:\u001b[0m           type\n",
       "\u001b[1;31mSubclasses:\u001b[0m     bool, IntEnum, IntFlag, _NamedIntConstant, Handle"
      ]
     },
     "metadata": {},
     "output_type": "display_data"
    }
   ],
   "source": [
    "int?"
   ]
  },
  {
   "cell_type": "markdown",
   "id": "22f2cf89-ec20-4b73-b8b7-3adcc009b7a0",
   "metadata": {},
   "source": [
    "However, you cannot run a help command or put ? at the end of it if the Python object is evaluating something:"
   ]
  },
  {
   "cell_type": "code",
   "execution_count": 6,
   "id": "0803d474-db9c-4e09-8561-73f14079f1a1",
   "metadata": {},
   "outputs": [
    {
     "name": "stdout",
     "output_type": "stream",
     "text": [
      "Help on int object:\n",
      "\n",
      "class int(object)\n",
      " |  int([x]) -> integer\n",
      " |  int(x, base=10) -> integer\n",
      " |\n",
      " |  Convert a number or string to an integer, or return 0 if no arguments\n",
      " |  are given.  If x is a number, return x.__int__().  For floating-point\n",
      " |  numbers, this truncates towards zero.\n",
      " |\n",
      " |  If x is not a number or if base is given, then x must be a string,\n",
      " |  bytes, or bytearray instance representing an integer literal in the\n",
      " |  given base.  The literal can be preceded by '+' or '-' and be surrounded\n",
      " |  by whitespace.  The base defaults to 10.  Valid bases are 0 and 2-36.\n",
      " |  Base 0 means to interpret the base from the string as an integer literal.\n",
      " |  >>> int('0b100', base=0)\n",
      " |  4\n",
      " |\n",
      " |  Built-in subclasses:\n",
      " |      bool\n",
      " |\n",
      " |  Methods defined here:\n",
      " |\n",
      " |  __abs__(self, /)\n",
      " |      abs(self)\n",
      " |\n",
      " |  __add__(self, value, /)\n",
      " |      Return self+value.\n",
      " |\n",
      " |  __and__(self, value, /)\n",
      " |      Return self&value.\n",
      " |\n",
      " |  __bool__(self, /)\n",
      " |      True if self else False\n",
      " |\n",
      " |  __ceil__(...)\n",
      " |      Ceiling of an Integral returns itself.\n",
      " |\n",
      " |  __divmod__(self, value, /)\n",
      " |      Return divmod(self, value).\n",
      " |\n",
      " |  __eq__(self, value, /)\n",
      " |      Return self==value.\n",
      " |\n",
      " |  __float__(self, /)\n",
      " |      float(self)\n",
      " |\n",
      " |  __floor__(...)\n",
      " |      Flooring an Integral returns itself.\n",
      " |\n",
      " |  __floordiv__(self, value, /)\n",
      " |      Return self//value.\n",
      " |\n",
      " |  __format__(self, format_spec, /)\n",
      " |      Convert to a string according to format_spec.\n",
      " |\n",
      " |  __ge__(self, value, /)\n",
      " |      Return self>=value.\n",
      " |\n",
      " |  __getattribute__(self, name, /)\n",
      " |      Return getattr(self, name).\n",
      " |\n",
      " |  __getnewargs__(self, /)\n",
      " |\n",
      " |  __gt__(self, value, /)\n",
      " |      Return self>value.\n",
      " |\n",
      " |  __hash__(self, /)\n",
      " |      Return hash(self).\n",
      " |\n",
      " |  __index__(self, /)\n",
      " |      Return self converted to an integer, if self is suitable for use as an index into a list.\n",
      " |\n",
      " |  __int__(self, /)\n",
      " |      int(self)\n",
      " |\n",
      " |  __invert__(self, /)\n",
      " |      ~self\n",
      " |\n",
      " |  __le__(self, value, /)\n",
      " |      Return self<=value.\n",
      " |\n",
      " |  __lshift__(self, value, /)\n",
      " |      Return self<<value.\n",
      " |\n",
      " |  __lt__(self, value, /)\n",
      " |      Return self<value.\n",
      " |\n",
      " |  __mod__(self, value, /)\n",
      " |      Return self%value.\n",
      " |\n",
      " |  __mul__(self, value, /)\n",
      " |      Return self*value.\n",
      " |\n",
      " |  __ne__(self, value, /)\n",
      " |      Return self!=value.\n",
      " |\n",
      " |  __neg__(self, /)\n",
      " |      -self\n",
      " |\n",
      " |  __or__(self, value, /)\n",
      " |      Return self|value.\n",
      " |\n",
      " |  __pos__(self, /)\n",
      " |      +self\n",
      " |\n",
      " |  __pow__(self, value, mod=None, /)\n",
      " |      Return pow(self, value, mod).\n",
      " |\n",
      " |  __radd__(self, value, /)\n",
      " |      Return value+self.\n",
      " |\n",
      " |  __rand__(self, value, /)\n",
      " |      Return value&self.\n",
      " |\n",
      " |  __rdivmod__(self, value, /)\n",
      " |      Return divmod(value, self).\n",
      " |\n",
      " |  __repr__(self, /)\n",
      " |      Return repr(self).\n",
      " |\n",
      " |  __rfloordiv__(self, value, /)\n",
      " |      Return value//self.\n",
      " |\n",
      " |  __rlshift__(self, value, /)\n",
      " |      Return value<<self.\n",
      " |\n",
      " |  __rmod__(self, value, /)\n",
      " |      Return value%self.\n",
      " |\n",
      " |  __rmul__(self, value, /)\n",
      " |      Return value*self.\n",
      " |\n",
      " |  __ror__(self, value, /)\n",
      " |      Return value|self.\n",
      " |\n",
      " |  __round__(...)\n",
      " |      Rounding an Integral returns itself.\n",
      " |\n",
      " |      Rounding with an ndigits argument also returns an integer.\n",
      " |\n",
      " |  __rpow__(self, value, mod=None, /)\n",
      " |      Return pow(value, self, mod).\n",
      " |\n",
      " |  __rrshift__(self, value, /)\n",
      " |      Return value>>self.\n",
      " |\n",
      " |  __rshift__(self, value, /)\n",
      " |      Return self>>value.\n",
      " |\n",
      " |  __rsub__(self, value, /)\n",
      " |      Return value-self.\n",
      " |\n",
      " |  __rtruediv__(self, value, /)\n",
      " |      Return value/self.\n",
      " |\n",
      " |  __rxor__(self, value, /)\n",
      " |      Return value^self.\n",
      " |\n",
      " |  __sizeof__(self, /)\n",
      " |      Returns size in memory, in bytes.\n",
      " |\n",
      " |  __sub__(self, value, /)\n",
      " |      Return self-value.\n",
      " |\n",
      " |  __truediv__(self, value, /)\n",
      " |      Return self/value.\n",
      " |\n",
      " |  __trunc__(...)\n",
      " |      Truncating an Integral returns itself.\n",
      " |\n",
      " |  __xor__(self, value, /)\n",
      " |      Return self^value.\n",
      " |\n",
      " |  as_integer_ratio(self, /)\n",
      " |      Return a pair of integers, whose ratio is equal to the original int.\n",
      " |\n",
      " |      The ratio is in lowest terms and has a positive denominator.\n",
      " |\n",
      " |      >>> (10).as_integer_ratio()\n",
      " |      (10, 1)\n",
      " |      >>> (-10).as_integer_ratio()\n",
      " |      (-10, 1)\n",
      " |      >>> (0).as_integer_ratio()\n",
      " |      (0, 1)\n",
      " |\n",
      " |  bit_count(self, /)\n",
      " |      Number of ones in the binary representation of the absolute value of self.\n",
      " |\n",
      " |      Also known as the population count.\n",
      " |\n",
      " |      >>> bin(13)\n",
      " |      '0b1101'\n",
      " |      >>> (13).bit_count()\n",
      " |      3\n",
      " |\n",
      " |  bit_length(self, /)\n",
      " |      Number of bits necessary to represent self in binary.\n",
      " |\n",
      " |      >>> bin(37)\n",
      " |      '0b100101'\n",
      " |      >>> (37).bit_length()\n",
      " |      6\n",
      " |\n",
      " |  conjugate(...)\n",
      " |      Returns self, the complex conjugate of any int.\n",
      " |\n",
      " |  is_integer(self, /)\n",
      " |      Returns True. Exists for duck type compatibility with float.is_integer.\n",
      " |\n",
      " |  to_bytes(self, /, length=1, byteorder='big', *, signed=False)\n",
      " |      Return an array of bytes representing an integer.\n",
      " |\n",
      " |      length\n",
      " |        Length of bytes object to use.  An OverflowError is raised if the\n",
      " |        integer is not representable with the given number of bytes.  Default\n",
      " |        is length 1.\n",
      " |      byteorder\n",
      " |        The byte order used to represent the integer.  If byteorder is 'big',\n",
      " |        the most significant byte is at the beginning of the byte array.  If\n",
      " |        byteorder is 'little', the most significant byte is at the end of the\n",
      " |        byte array.  To request the native byte order of the host system, use\n",
      " |        `sys.byteorder' as the byte order value.  Default is to use 'big'.\n",
      " |      signed\n",
      " |        Determines whether two's complement is used to represent the integer.\n",
      " |        If signed is False and a negative integer is given, an OverflowError\n",
      " |        is raised.\n",
      " |\n",
      " |  ----------------------------------------------------------------------\n",
      " |  Class methods defined here:\n",
      " |\n",
      " |  from_bytes(bytes, byteorder='big', *, signed=False)\n",
      " |      Return the integer represented by the given array of bytes.\n",
      " |\n",
      " |      bytes\n",
      " |        Holds the array of bytes to convert.  The argument must either\n",
      " |        support the buffer protocol or be an iterable object producing bytes.\n",
      " |        Bytes and bytearray are examples of built-in objects that support the\n",
      " |        buffer protocol.\n",
      " |      byteorder\n",
      " |        The byte order used to represent the integer.  If byteorder is 'big',\n",
      " |        the most significant byte is at the beginning of the byte array.  If\n",
      " |        byteorder is 'little', the most significant byte is at the end of the\n",
      " |        byte array.  To request the native byte order of the host system, use\n",
      " |        `sys.byteorder' as the byte order value.  Default is to use 'big'.\n",
      " |      signed\n",
      " |        Indicates whether two's complement is used to represent the integer.\n",
      " |\n",
      " |  ----------------------------------------------------------------------\n",
      " |  Static methods defined here:\n",
      " |\n",
      " |  __new__(*args, **kwargs)\n",
      " |      Create and return a new object.  See help(type) for accurate signature.\n",
      " |\n",
      " |  ----------------------------------------------------------------------\n",
      " |  Data descriptors defined here:\n",
      " |\n",
      " |  denominator\n",
      " |      the denominator of a rational number in lowest terms\n",
      " |\n",
      " |  imag\n",
      " |      the imaginary part of a complex number\n",
      " |\n",
      " |  numerator\n",
      " |      the numerator of a rational number in lowest terms\n",
      " |\n",
      " |  real\n",
      " |      the real part of a complex number\n",
      "\n"
     ]
    }
   ],
   "source": [
    "help(round(2.021))"
   ]
  },
  {
   "cell_type": "markdown",
   "id": "801e4420-c097-4889-98a6-03dc415397b3",
   "metadata": {},
   "source": [
    "It will simply give you possible options you can pass through help and what output you can expect."
   ]
  },
  {
   "cell_type": "markdown",
   "id": "669f51b1-6333-45a0-aa43-43ee00515c4d",
   "metadata": {},
   "source": [
    "Funny enough, you CAN run help on help:"
   ]
  },
  {
   "cell_type": "code",
   "execution_count": 8,
   "id": "378a64a4-884d-452b-9990-50c0aa92b96e",
   "metadata": {},
   "outputs": [
    {
     "name": "stdout",
     "output_type": "stream",
     "text": [
      "Help on _Helper in module _sitebuiltins object:\n",
      "\n",
      "class _Helper(builtins.object)\n",
      " |  Define the builtin 'help'.\n",
      " |\n",
      " |  This is a wrapper around pydoc.help that provides a helpful message\n",
      " |  when 'help' is typed at the Python interactive prompt.\n",
      " |\n",
      " |  Calling help() at the Python prompt starts an interactive help session.\n",
      " |  Calling help(thing) prints help for the python object 'thing'.\n",
      " |\n",
      " |  Methods defined here:\n",
      " |\n",
      " |  __call__(self, *args, **kwds)\n",
      " |      Call self as a function.\n",
      " |\n",
      " |  __repr__(self)\n",
      " |      Return repr(self).\n",
      " |\n",
      " |  ----------------------------------------------------------------------\n",
      " |  Data descriptors defined here:\n",
      " |\n",
      " |  __dict__\n",
      " |      dictionary for instance variables\n",
      " |\n",
      " |  __weakref__\n",
      " |      list of weak references to the object\n",
      "\n"
     ]
    }
   ],
   "source": [
    "help(help)"
   ]
  },
  {
   "cell_type": "markdown",
   "id": "50be4e1e-bfd0-4980-8bc5-1b8d3e6f4deb",
   "metadata": {},
   "source": [
    "## Defining functions"
   ]
  },
  {
   "cell_type": "markdown",
   "id": "06a1910b-d28b-4313-bca9-56d6396ed264",
   "metadata": {},
   "source": [
    "This sub-section will now focus on user-defined functions. Python won't always have a function you're looking for, but it is possible to define your own functions. Let's consider one such example now:"
   ]
  },
  {
   "cell_type": "code",
   "execution_count": 14,
   "id": "733c99ad-4c45-489b-affb-b06229641eae",
   "metadata": {},
   "outputs": [],
   "source": [
    "def least_difference(a, b, c):\n",
    "    ''' By providing three values, a, b, and c, the function will\n",
    "    compute the difference of the pairings a & b, b & c, and a & c, \n",
    "    and then pick out the difference with the lowest/minimum value.\n",
    "    Note that the order doesn't matter since the differences are\n",
    "    absolute differences, akin to a distance calculation'''\n",
    "    diff1 = abs(a - b)\n",
    "    diff2 = abs(b - c)\n",
    "    diff3 = abs(a - c)\n",
    "    return min(diff1, diff2, diff3)"
   ]
  },
  {
   "cell_type": "markdown",
   "id": "dc252f19-949f-4c66-b371-151c74407cc2",
   "metadata": {},
   "source": [
    "Although Kaggle provided the code, I added the description of the code in the red, triple apostrophe quotes. As the description states, this user-defined function needs to be provided 3 values, and it will compute the absolute differences of pairings between the 3 values, and lastly pick out the difference with the lowest/minimum value. Let's see an example using this function now:"
   ]
  },
  {
   "cell_type": "code",
   "execution_count": 13,
   "id": "d0ed6bbe-28a1-4927-8842-096ee161f199",
   "metadata": {},
   "outputs": [
    {
     "data": {
      "text/plain": [
       "1"
      ]
     },
     "execution_count": 13,
     "metadata": {},
     "output_type": "execute_result"
    }
   ],
   "source": [
    "least_difference(2, 3, 5)"
   ]
  },
  {
   "cell_type": "markdown",
   "id": "bb21e1ab-d265-4ecf-91a1-3da78f90eb1b",
   "metadata": {},
   "source": [
    "This is a success! We can tell by performing trivial, mental calculations that $|2-3| = |3-2| = 1$ is the lowest valued difference from these 3 values (i.e. 2, 3 and 5)."
   ]
  },
  {
   "cell_type": "markdown",
   "id": "9462b187-a791-42e9-8bda-3aa9d9adc7fe",
   "metadata": {},
   "source": [
    "We can also run user-defined functions through built-in Python functions; print is a good example of this:"
   ]
  },
  {
   "cell_type": "code",
   "execution_count": 15,
   "id": "a4103c0a-463f-4d36-a455-9621f1d94406",
   "metadata": {},
   "outputs": [
    {
     "name": "stdout",
     "output_type": "stream",
     "text": [
      "9 0 1\n"
     ]
    }
   ],
   "source": [
    "print(\n",
    "    least_difference(1, 10, 100),\n",
    "    least_difference(1, 10, 10),\n",
    "    least_difference(5, 6, 7), \n",
    "    # Python allows trailing commas in argument lists. How nice is that?\n",
    ")"
   ]
  },
  {
   "cell_type": "markdown",
   "id": "641f10f4-b392-467c-b7d6-6f213b9a1923",
   "metadata": {},
   "source": [
    "Since I added a description to the least_difference function, when I use help to understand least_difference, it will return the description:"
   ]
  },
  {
   "cell_type": "code",
   "execution_count": 16,
   "id": "5acf9e9d-acab-4878-aab9-849b487fa34c",
   "metadata": {},
   "outputs": [
    {
     "name": "stdout",
     "output_type": "stream",
     "text": [
      "Help on function least_difference in module __main__:\n",
      "\n",
      "least_difference(a, b, c)\n",
      "    By providing three values, a, b, and c, the function will\n",
      "    compute the difference of the pairings a & b, b & c, and a & c.\n",
      "    Note that the order doesn't matter since the differences are\n",
      "    absolute differences, akin to a distance calculation\n",
      "\n"
     ]
    }
   ],
   "source": [
    "help(least_difference)"
   ]
  },
  {
   "cell_type": "markdown",
   "id": "9892d8fa-b822-4e8f-b11d-e5e7961c32b0",
   "metadata": {},
   "source": [
    "(Kaggle eventually talks about this and adds a description to the function; I will copy what they did, but change the name of the function)"
   ]
  },
  {
   "cell_type": "code",
   "execution_count": 17,
   "id": "ec02ee1d-ff43-46ac-8dc4-9531c0e0e6b9",
   "metadata": {},
   "outputs": [],
   "source": [
    "def new_least_difference(a, b, c):\n",
    "    \"\"\"Return the smallest difference between any two numbers\n",
    "    among a, b and c.\n",
    "    \n",
    "    >>> least_difference(1, 5, -5)\n",
    "    4\n",
    "    \"\"\"\n",
    "    diff1 = abs(a - b)\n",
    "    diff2 = abs(b - c)\n",
    "    diff3 = abs(a - c)\n",
    "    return min(diff1, diff2, diff3)"
   ]
  },
  {
   "cell_type": "code",
   "execution_count": 18,
   "id": "c6d4497d-4d25-4779-9efa-468cd7914dab",
   "metadata": {},
   "outputs": [
    {
     "name": "stdout",
     "output_type": "stream",
     "text": [
      "Help on function new_least_difference in module __main__:\n",
      "\n",
      "new_least_difference(a, b, c)\n",
      "    Return the smallest difference between any two numbers\n",
      "    among a, b and c.\n",
      "\n",
      "    >>> least_difference(1, 5, -5)\n",
      "    4\n",
      "\n"
     ]
    }
   ],
   "source": [
    "help(new_least_difference)"
   ]
  },
  {
   "cell_type": "markdown",
   "id": "0d8ec32b-2fe1-4dd0-9be8-a9057e22a691",
   "metadata": {},
   "source": [
    "It is $\\textbf{super}$ important to know that user-defined functions that require users to provide values in their arguments need at least 'def' and 'return' in their construction. If, for example, you do not include the 'return', this is what happens:"
   ]
  },
  {
   "cell_type": "code",
   "execution_count": 19,
   "id": "07618e99-3813-4403-82d1-e4476044f4d2",
   "metadata": {},
   "outputs": [
    {
     "name": "stdout",
     "output_type": "stream",
     "text": [
      "None None None\n"
     ]
    }
   ],
   "source": [
    "def least_difference(a, b, c):\n",
    "    \"\"\"Return the smallest difference between any two numbers\n",
    "    among a, b and c.\n",
    "    \"\"\"\n",
    "    diff1 = abs(a - b)\n",
    "    diff2 = abs(b - c)\n",
    "    diff3 = abs(a - c)\n",
    "    min(diff1, diff2, diff3)\n",
    "    \n",
    "print(\n",
    "    least_difference(1, 10, 100),\n",
    "    least_difference(1, 10, 10),\n",
    "    least_difference(5, 6, 7),\n",
    ")"
   ]
  },
  {
   "cell_type": "markdown",
   "id": "4e34af2c-c385-41d3-a5d3-590133127976",
   "metadata": {},
   "source": [
    "The print function will return nothing (or 'None' as seen above, which is a special value other languages call 'Null'), since it does not know what 'least_difference' is, since it does not know what this user-defined function $\\textbf{returns}$!"
   ]
  },
  {
   "cell_type": "markdown",
   "id": "e782c6ab-9ab1-4f60-bbf0-fddfa3cc9d3a",
   "metadata": {},
   "source": [
    "Below is a silly example of where print will return 'None':"
   ]
  },
  {
   "cell_type": "code",
   "execution_count": 20,
   "id": "d28535b8-ac67-46d0-ac98-4fe0614969ed",
   "metadata": {},
   "outputs": [
    {
     "name": "stdout",
     "output_type": "stream",
     "text": [
      "\n",
      "None\n"
     ]
    }
   ],
   "source": [
    "mystery = print()\n",
    "print(mystery)"
   ]
  },
  {
   "cell_type": "markdown",
   "id": "839d3eab-a4b5-4acb-83d4-05546b02411c",
   "metadata": {},
   "source": [
    "## Default arguments"
   ]
  },
  {
   "cell_type": "markdown",
   "id": "9951adb2-e2ec-4ebe-8837-f86f97aa746f",
   "metadata": {},
   "source": [
    "Some built-in Python functions can have their outputs altered from their usual, default output. A perfect example of this is the function print."
   ]
  },
  {
   "cell_type": "code",
   "execution_count": 21,
   "id": "8596f402-c7b5-4371-a0fe-964be4a06dac",
   "metadata": {},
   "outputs": [
    {
     "name": "stdout",
     "output_type": "stream",
     "text": [
      "1 2 3\n"
     ]
    }
   ],
   "source": [
    "print(1,2,3)"
   ]
  },
  {
   "cell_type": "markdown",
   "id": "f602851f-9a61-42fb-8148-705605a5c451",
   "metadata": {},
   "source": [
    "We see that print took 3 arguments, printed them, and separated them by a space. This is print's default output, but it can be altered by specifying how you want to separate the outputs; this is where 'sep' comes in:"
   ]
  },
  {
   "cell_type": "code",
   "execution_count": 22,
   "id": "07e06542-7d25-44b4-aa57-fcaf6d601e6f",
   "metadata": {},
   "outputs": [
    {
     "name": "stdout",
     "output_type": "stream",
     "text": [
      "1 , 2 , 3\n",
      "1 . 2 . 3\n",
      "1 > 2 > 3\n"
     ]
    }
   ],
   "source": [
    "print(1, 2, 3, sep=' , ')\n",
    "print(1, 2, 3, sep=' . ')\n",
    "print(1, 2, 3, sep=' > ')"
   ]
  },
  {
   "cell_type": "markdown",
   "id": "a8904d24-ed0d-48b1-b090-e056915bfddb",
   "metadata": {},
   "source": [
    "By adding 'sep' at the end with its corresponding value ($\\textbf{in string format}$), print will then separate its arguments as specified."
   ]
  },
  {
   "cell_type": "markdown",
   "id": "5afb56ca-8ac6-4f70-bf2c-7794bff0a550",
   "metadata": {},
   "source": [
    "It is possible to create user-defined functions that, if called without providing a value in their argument, will return a default result; in these cases, a return statement is not required. Let's see an example of this below:"
   ]
  },
  {
   "cell_type": "code",
   "execution_count": 24,
   "id": "f37d1d59-b5e4-4968-b5de-45b01d8682dc",
   "metadata": {},
   "outputs": [],
   "source": [
    "def greet(who=\"Colin\"):\n",
    "    print(\"Hello,\", who)"
   ]
  },
  {
   "cell_type": "code",
   "execution_count": 25,
   "id": "2b2aedda-a544-4ee5-a62f-d9757f8d45b5",
   "metadata": {},
   "outputs": [
    {
     "name": "stdout",
     "output_type": "stream",
     "text": [
      "Hello, Colin\n"
     ]
    }
   ],
   "source": [
    "greet()"
   ]
  },
  {
   "cell_type": "markdown",
   "id": "4474216b-8a5c-47e5-b7ad-da34cd429fba",
   "metadata": {},
   "source": [
    "As seen in the two cells above, the function 'greet' was defined such that the default value its argument takes is 'Colin', thus it will work without an input in the argument. Let's now explore the function when providing a value in its argument:"
   ]
  },
  {
   "cell_type": "code",
   "execution_count": 27,
   "id": "c1279df2-574a-4b5b-a853-20e8b4c21813",
   "metadata": {},
   "outputs": [
    {
     "name": "stdout",
     "output_type": "stream",
     "text": [
      "Hello, Kaggle\n",
      "Hello, World!\n"
     ]
    }
   ],
   "source": [
    "greet(who=\"Kaggle\")\n",
    "# (In this case, we don't need to specify the name of the argument, because it's unambiguous.)\n",
    "greet(\"World!\")"
   ]
  },
  {
   "cell_type": "markdown",
   "id": "67f11af9-fbf5-47cd-bfd1-2dd1ffece795",
   "metadata": {},
   "source": [
    "## Functions applied to functions"
   ]
  },
  {
   "cell_type": "markdown",
   "id": "90641c47-7531-400a-8810-1e8c9c2d3afd",
   "metadata": {},
   "source": [
    "It is possible, albeit abstract at first, to supply functions as arguments of other functions. Thankfully, Kaggle provides a good example to consider; let's have a look at it:"
   ]
  },
  {
   "cell_type": "code",
   "execution_count": 29,
   "id": "ef4f465b-2b47-4e5b-b2ba-632c90dcc4c6",
   "metadata": {},
   "outputs": [],
   "source": [
    "def mult_by_five(x):\n",
    "    return 5 * x\n",
    "\n",
    "def call(fn, arg):\n",
    "    \"\"\"Call function, fn, on argument, arg\"\"\"\n",
    "    return fn(arg)\n",
    "\n",
    "def squared_call(fn, arg):\n",
    "    \"\"\"Call function, fn, on the result of calling fn on arg\"\"\"\n",
    "    return fn(fn(arg))"
   ]
  },
  {
   "cell_type": "markdown",
   "id": "8b7520c7-acf7-4a2d-9b27-63dc0d400f1b",
   "metadata": {},
   "source": [
    "The important functions to focus on are 'call' and 'squared_call', whereas 'mult_by_five' is a guinea pig function being used with these important functions. If you place 'mult_by_five' into 'call' with an appropriate argument, you will simply get the result of 'mult_by_five' with the argument provided. 'squared_call' is simply a function that performs 'call' twice, provided an appropriate argument is used. \n",
    "\n",
    "Let's see this in action:"
   ]
  },
  {
   "cell_type": "code",
   "execution_count": 30,
   "id": "a1508c02-c69a-4615-9373-1c69dc4a9d0f",
   "metadata": {},
   "outputs": [
    {
     "name": "stdout",
     "output_type": "stream",
     "text": [
      "5\n",
      "25\n"
     ]
    }
   ],
   "source": [
    "print(\n",
    "    call(mult_by_five, 1),\n",
    "    squared_call(mult_by_five, 1), \n",
    "    sep='\\n', # '\\n' is the newline character - it starts a new line\n",
    ")"
   ]
  },
  {
   "cell_type": "markdown",
   "id": "0b9cee43-4c58-472b-a774-04e3e7830c8d",
   "metadata": {},
   "source": [
    "Kaggle teaches us that these functions that operate on other functions are called $\\textit{higher-order functions}$. Another example of a built-in Python higher-order function is one surrounding the 'max' function."
   ]
  },
  {
   "cell_type": "code",
   "execution_count": 35,
   "id": "711a98ea-9ab4-401e-8d4d-60205bcc1858",
   "metadata": {},
   "outputs": [
    {
     "name": "stdout",
     "output_type": "stream",
     "text": [
      "Help on built-in function max in module builtins:\n",
      "\n",
      "max(...)\n",
      "    max(iterable, *[, default=obj, key=func]) -> value\n",
      "    max(arg1, arg2, *args, *[, key=func]) -> value\n",
      "\n",
      "    With a single iterable argument, return its biggest item. The\n",
      "    default keyword-only argument specifies an object to return if\n",
      "    the provided iterable is empty.\n",
      "    With two or more arguments, return the largest argument.\n",
      "\n"
     ]
    }
   ],
   "source": [
    "help(max)"
   ]
  },
  {
   "cell_type": "markdown",
   "id": "d69a744d-144c-47c8-96ec-b99be62ed6cd",
   "metadata": {},
   "source": [
    "The example will make use of the structure of max that uses the 'key' input. 'key' is similar to thinking about 'keyword', as it is the constant focus when performing something - this is important to remember for our example. Let us now study such an example:"
   ]
  },
  {
   "cell_type": "code",
   "execution_count": 36,
   "id": "88c43df2-72e7-456b-baa0-9399c73684d1",
   "metadata": {},
   "outputs": [
    {
     "name": "stdout",
     "output_type": "stream",
     "text": [
      "Which number is biggest?\n",
      "100\n",
      "Which number is the biggest modulo 5?\n",
      "14\n"
     ]
    }
   ],
   "source": [
    "def mod_5(x):\n",
    "    \"\"\"Return the remainder of x after dividing by 5\"\"\"\n",
    "    return x % 5\n",
    "# First, defining the function that will be used as the key, in this case, it is the function of modulo 5.\n",
    "print(\n",
    "    'Which number is biggest?',\n",
    "    max(100, 51, 14),\n",
    "    'Which number is the biggest modulo 5?',\n",
    "    max(100, 51, 14, key=mod_5),\n",
    "    sep='\\n',\n",
    ")"
   ]
  },
  {
   "cell_type": "markdown",
   "id": "5fae6cb3-bde3-4d87-88b6-088977735c7f",
   "metadata": {},
   "source": [
    "Study the difference in answers and how they were constructed. Obviously, between the numbers 100, 51 and 14, 100 is the largest valued number. However, when in terms of modulo 5, $100\\mod5 = 0$, $51 \\mod 5 = 1$, and $14 \\mod 5 = 4$, thus 14 is the largest number when used in the computation of modulo 5 -- this is the purpose and usage of key within max or functions that can make use of a key argument."
   ]
  },
  {
   "cell_type": "markdown",
   "id": "02005b59-088c-4eb8-aa90-be5978e4fd98",
   "metadata": {},
   "source": [
    "This concludes the tutorial portion of section 2; next will be the exercise portion for this section."
   ]
  },
  {
   "cell_type": "code",
   "execution_count": null,
   "id": "228dc7fc-8edb-499d-a2cc-2c21204456bb",
   "metadata": {},
   "outputs": [],
   "source": []
  }
 ],
 "metadata": {
  "kernelspec": {
   "display_name": "Python [conda env:base] *",
   "language": "python",
   "name": "conda-base-py"
  },
  "language_info": {
   "codemirror_mode": {
    "name": "ipython",
    "version": 3
   },
   "file_extension": ".py",
   "mimetype": "text/x-python",
   "name": "python",
   "nbconvert_exporter": "python",
   "pygments_lexer": "ipython3",
   "version": "3.12.7"
  }
 },
 "nbformat": 4,
 "nbformat_minor": 5
}
