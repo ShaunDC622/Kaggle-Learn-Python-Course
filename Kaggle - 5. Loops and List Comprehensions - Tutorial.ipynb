{
 "cells": [
  {
   "cell_type": "markdown",
   "id": "25cb61c9-cc83-4ee3-ad32-726802e95d08",
   "metadata": {},
   "source": [
    "# Loops and List Comprehensions"
   ]
  },
  {
   "cell_type": "markdown",
   "id": "c9c700b7-8c6a-491e-b2ae-69ed0f45f203",
   "metadata": {},
   "source": [
    "## Loops"
   ]
  },
  {
   "cell_type": "markdown",
   "id": "d341e5bc-9474-4504-9ac8-063b69845318",
   "metadata": {},
   "source": [
    "When you want a code to execute repeatedly until a condition is met, we make use of loops (it should be intuitive since you loop around and around until the desirsed condition is met)."
   ]
  },
  {
   "cell_type": "code",
   "execution_count": 1,
   "id": "452c3ae2-3490-4c2a-a711-c126e55fbc5f",
   "metadata": {},
   "outputs": [],
   "source": [
    "planets = ['Mercury', 'Venus', 'Earth', 'Mars', 'Jupiter', 'Saturn', 'Uranus', 'Neptune']\n",
    "# Creating the list called planets; the elements/items are strings."
   ]
  },
  {
   "cell_type": "code",
   "execution_count": 2,
   "id": "fb09c95b-a3cb-4542-a55e-d984351e88b5",
   "metadata": {},
   "outputs": [
    {
     "name": "stdout",
     "output_type": "stream",
     "text": [
      "Mercury Venus Earth Mars Jupiter Saturn Uranus Neptune "
     ]
    }
   ],
   "source": [
    "for planet in planets:\n",
    "    print(planet, end=' ') # print all on same line"
   ]
  },
  {
   "cell_type": "markdown",
   "id": "3b8d9af2-9832-4ef6-beef-b40ee8c69843",
   "metadata": {},
   "source": [
    "Note the syntax: we use `for`, which we call a 'for loop', we state the dummy variable (\"planet\" in this case) and use the preposition `in` to highlight the variable will take on the values within the list, and lastly, it is followed with a colon, ENTER, and an indentation - this is important for the code to function properly. There is no need for a `return` call since this isn't a function, but a loop; however, you must state what is it you want the code to do after the indentation."
   ]
  },
  {
   "cell_type": "markdown",
   "id": "f95c2ea6-44f5-4cf3-8d95-109cc69a740b",
   "metadata": {},
   "source": [
    "Let's consider another example:"
   ]
  },
  {
   "cell_type": "code",
   "execution_count": 3,
   "id": "cf2d61bd-433b-4dab-9ced-e8129139b2dd",
   "metadata": {},
   "outputs": [],
   "source": [
    "multiplicands = (2, 2, 2, 3, 3, 5)\n",
    "product = 1"
   ]
  },
  {
   "cell_type": "code",
   "execution_count": 4,
   "id": "1e5f17e0-8e78-48bc-b505-a0934102bcdd",
   "metadata": {},
   "outputs": [],
   "source": [
    "for mult in multiplicands:\n",
    "    product = product * mult"
   ]
  },
  {
   "cell_type": "code",
   "execution_count": 5,
   "id": "b508a42f-0362-4446-904b-81424e42813f",
   "metadata": {},
   "outputs": [
    {
     "data": {
      "text/plain": [
       "360"
      ]
     },
     "execution_count": 5,
     "metadata": {},
     "output_type": "execute_result"
    }
   ],
   "source": [
    "product"
   ]
  },
  {
   "cell_type": "markdown",
   "id": "b777465f-d60e-4814-a815-9a88ba5f5e1f",
   "metadata": {},
   "source": [
    "In this example, we initially set the variable 'product' to update by multiplying itself with the elements/items in the tuple 'multiplicands'. In the end, we call on the value of 'product', which is the result of:\n",
    "$$ \\text{product} = 1 \\times 2 \\times 2 \\times 2 \\times 3 \\times 3 \\times 5 = 360$$"
   ]
  },
  {
   "cell_type": "markdown",
   "id": "22b9073a-719c-41cf-8388-188cf3f64b03",
   "metadata": {},
   "source": [
    "So far, we have seen the `for` loop used in a print which lists the items and to update a variable's value using items in a tuple. Loops can also be used on strings; the following is an example of that:"
   ]
  },
  {
   "cell_type": "code",
   "execution_count": 6,
   "id": "03a6d04c-7bef-47d7-bd0e-e7703f25d7c9",
   "metadata": {},
   "outputs": [],
   "source": [
    "s = 'steganograpHy is the practicE of conceaLing a file, message, image, or video within another fiLe, message, image, Or video.'\n",
    "msg = ''"
   ]
  },
  {
   "cell_type": "code",
   "execution_count": 7,
   "id": "ad211d63-8b3b-4093-b948-39d846df1988",
   "metadata": {},
   "outputs": [
    {
     "name": "stdout",
     "output_type": "stream",
     "text": [
      "HELLO"
     ]
    }
   ],
   "source": [
    "# print all the uppercase letters in s, one at a time\n",
    "for char in s:\n",
    "    if char.isupper():\n",
    "        print(char, end='') "
   ]
  },
  {
   "cell_type": "markdown",
   "id": "3de96a29-afbb-49d2-9a36-13e19007433b",
   "metadata": {},
   "source": [
    "Your eyes do not deceive you: you can use conditionals in loops too!"
   ]
  },
  {
   "cell_type": "markdown",
   "id": "4c9c5834-342c-44e4-a36f-94b342d5b8eb",
   "metadata": {},
   "source": [
    "## range()"
   ]
  },
  {
   "cell_type": "markdown",
   "id": "8a1fdc51-bdc1-43d0-b88e-b05055fe398b",
   "metadata": {},
   "source": [
    "`range()` is a function you will see come up a lot. Let us see what it does using `help()`:"
   ]
  },
  {
   "cell_type": "code",
   "execution_count": 8,
   "id": "ee28247f-5180-4573-967a-8a48af53da74",
   "metadata": {},
   "outputs": [
    {
     "name": "stdout",
     "output_type": "stream",
     "text": [
      "Help on class range in module builtins:\n",
      "\n",
      "class range(object)\n",
      " |  range(stop) -> range object\n",
      " |  range(start, stop[, step]) -> range object\n",
      " |\n",
      " |  Return an object that produces a sequence of integers from start (inclusive)\n",
      " |  to stop (exclusive) by step.  range(i, j) produces i, i+1, i+2, ..., j-1.\n",
      " |  start defaults to 0, and stop is omitted!  range(4) produces 0, 1, 2, 3.\n",
      " |  These are exactly the valid indices for a list of 4 elements.\n",
      " |  When step is given, it specifies the increment (or decrement).\n",
      " |\n",
      " |  Methods defined here:\n",
      " |\n",
      " |  __bool__(self, /)\n",
      " |      True if self else False\n",
      " |\n",
      " |  __contains__(self, key, /)\n",
      " |      Return bool(key in self).\n",
      " |\n",
      " |  __eq__(self, value, /)\n",
      " |      Return self==value.\n",
      " |\n",
      " |  __ge__(self, value, /)\n",
      " |      Return self>=value.\n",
      " |\n",
      " |  __getattribute__(self, name, /)\n",
      " |      Return getattr(self, name).\n",
      " |\n",
      " |  __getitem__(self, key, /)\n",
      " |      Return self[key].\n",
      " |\n",
      " |  __gt__(self, value, /)\n",
      " |      Return self>value.\n",
      " |\n",
      " |  __hash__(self, /)\n",
      " |      Return hash(self).\n",
      " |\n",
      " |  __iter__(self, /)\n",
      " |      Implement iter(self).\n",
      " |\n",
      " |  __le__(self, value, /)\n",
      " |      Return self<=value.\n",
      " |\n",
      " |  __len__(self, /)\n",
      " |      Return len(self).\n",
      " |\n",
      " |  __lt__(self, value, /)\n",
      " |      Return self<value.\n",
      " |\n",
      " |  __ne__(self, value, /)\n",
      " |      Return self!=value.\n",
      " |\n",
      " |  __reduce__(...)\n",
      " |      Helper for pickle.\n",
      " |\n",
      " |  __repr__(self, /)\n",
      " |      Return repr(self).\n",
      " |\n",
      " |  __reversed__(...)\n",
      " |      Return a reverse iterator.\n",
      " |\n",
      " |  count(...)\n",
      " |      rangeobject.count(value) -> integer -- return number of occurrences of value\n",
      " |\n",
      " |  index(...)\n",
      " |      rangeobject.index(value) -> integer -- return index of value.\n",
      " |      Raise ValueError if the value is not present.\n",
      " |\n",
      " |  ----------------------------------------------------------------------\n",
      " |  Static methods defined here:\n",
      " |\n",
      " |  __new__(*args, **kwargs)\n",
      " |      Create and return a new object.  See help(type) for accurate signature.\n",
      " |\n",
      " |  ----------------------------------------------------------------------\n",
      " |  Data descriptors defined here:\n",
      " |\n",
      " |  start\n",
      " |\n",
      " |  step\n",
      " |\n",
      " |  stop\n",
      "\n"
     ]
    }
   ],
   "source": [
    "help(range)"
   ]
  },
  {
   "cell_type": "markdown",
   "id": "0aa22d47-99bb-4e95-85f3-9ee744bff763",
   "metadata": {},
   "source": [
    "It is a traditional tool for loops, especially since it can create the required step-behaviour lists require. "
   ]
  },
  {
   "cell_type": "code",
   "execution_count": 9,
   "id": "d003eebb-b1de-4270-b4fc-e3800c38b118",
   "metadata": {},
   "outputs": [
    {
     "name": "stdout",
     "output_type": "stream",
     "text": [
      "0 1 2 3 4 "
     ]
    }
   ],
   "source": [
    "for i in range(5):\n",
    "    print(i, end=\" \")"
   ]
  },
  {
   "cell_type": "markdown",
   "id": "5d51532c-c1a8-4872-baf3-2a46bae9ef79",
   "metadata": {},
   "source": [
    "It is important to note the following:\n",
    "\n",
    "(1) If you only specify one argument, the default starting value is 0, the default length of each step is 1, and the range of numbers generated from `range` matches the argument specified (only in this case). To add to this, the final number is **never** included; `range(5)` stops at 4, not 5, for example."
   ]
  },
  {
   "cell_type": "code",
   "execution_count": 10,
   "id": "e37acb06-56a0-4ebf-a8e8-09da81cc579c",
   "metadata": {},
   "outputs": [
    {
     "name": "stdout",
     "output_type": "stream",
     "text": [
      "1 2 3 4 "
     ]
    }
   ],
   "source": [
    "for i in range(1,5):\n",
    "    print(i, end=\" \")"
   ]
  },
  {
   "cell_type": "markdown",
   "id": "7dd8cb06-b53d-41be-8a4d-5f3483ec0966",
   "metadata": {},
   "source": [
    "(2) If you only specify 2 arguments, the default length of each step is 1 (same with the case with `range` with 1 argument). Once again, 5 is the stopping point and is not included."
   ]
  },
  {
   "cell_type": "code",
   "execution_count": 11,
   "id": "04c1e961-9cd1-487a-9d2e-5823664e535e",
   "metadata": {},
   "outputs": [
    {
     "name": "stdout",
     "output_type": "stream",
     "text": [
      "0 2 4 6 8 "
     ]
    }
   ],
   "source": [
    "for i in range(0,10,2):\n",
    "    print(i, end=\" \")"
   ]
  },
  {
   "cell_type": "markdown",
   "id": "27c1e56b-b7e5-4410-9dad-fe8f12c45770",
   "metadata": {},
   "source": [
    "(3) If all 3 arguments are specified, `range` will perform as it was constructed to do: start at the value of the first argument, step towards the second argument (BUT not include it), at the step-length specified in the third argument."
   ]
  },
  {
   "cell_type": "code",
   "execution_count": 12,
   "id": "a3d247cc-f0f1-42af-a123-fdb4a8340dbf",
   "metadata": {},
   "outputs": [
    {
     "name": "stdout",
     "output_type": "stream",
     "text": [
      "Doing important work. i = 0\n",
      "Doing important work. i = 1\n",
      "Doing important work. i = 2\n",
      "Doing important work. i = 3\n",
      "Doing important work. i = 4\n"
     ]
    }
   ],
   "source": [
    "for i in range(5):\n",
    "    print(\"Doing important work. i =\", i)"
   ]
  },
  {
   "cell_type": "markdown",
   "id": "947924e5-da84-4106-92ea-66ca0204d894",
   "metadata": {},
   "source": [
    "## `while` loops"
   ]
  },
  {
   "cell_type": "markdown",
   "id": "ac332175-bd38-4e7f-a986-4e2327898f84",
   "metadata": {},
   "source": [
    "`while` loops differ slightly from `for` loops, where you need to specify a condition and as long as the condition is met, the loop will continue. Let us examine a simple example of such a loop:"
   ]
  },
  {
   "cell_type": "code",
   "execution_count": 13,
   "id": "b7997895-74fb-46b5-9d42-4aead1026cfd",
   "metadata": {},
   "outputs": [
    {
     "name": "stdout",
     "output_type": "stream",
     "text": [
      "0 1 2 3 4 5 6 7 8 9 "
     ]
    }
   ],
   "source": [
    "i = 0\n",
    "while i < 10:\n",
    "    print(i, end=' ')\n",
    "    i += 1 # increase the value of i by 1"
   ]
  },
  {
   "cell_type": "markdown",
   "id": "20b86dfb-f174-48c3-9761-d32bc58ba144",
   "metadata": {},
   "source": [
    "Not that the last line in the cell above has the updating of the variable to increase it by 1 AND it is within the indentation of the `while` docstring - this is important for the cell to run as it does."
   ]
  },
  {
   "cell_type": "markdown",
   "id": "9fc68d66-3622-4f52-80e1-760184b4c750",
   "metadata": {},
   "source": [
    "Let us consider another example of a `while` loop that uses `break`:"
   ]
  },
  {
   "cell_type": "code",
   "execution_count": 14,
   "id": "2d56cee5-d3c5-435a-bda0-72f14be10e22",
   "metadata": {},
   "outputs": [
    {
     "name": "stdout",
     "output_type": "stream",
     "text": [
      "0\n",
      "1\n",
      "2\n",
      "3\n",
      "4\n",
      "5\n"
     ]
    }
   ],
   "source": [
    "i = 0\n",
    "while i < 10:\n",
    "  print(i)\n",
    "  if i == 5:\n",
    "    break\n",
    "  i += 1"
   ]
  },
  {
   "cell_type": "markdown",
   "id": "7e067cad-83aa-413e-9b8b-722648bebb91",
   "metadata": {},
   "source": [
    "`break` is used to stop a while loop at a specific point, even if the `while` condition is `True`. This is especially helpful with massive data, and you wish to study the data in smaller batches."
   ]
  },
  {
   "cell_type": "code",
   "execution_count": 15,
   "id": "75c781c5-78e5-415d-9f74-841c436192ca",
   "metadata": {},
   "outputs": [
    {
     "name": "stdout",
     "output_type": "stream",
     "text": [
      "0\n",
      "1\n",
      "2\n",
      "4\n",
      "5\n",
      "6\n"
     ]
    }
   ],
   "source": [
    "i = 0\n",
    "while i < 6:\n",
    "    if i == 0:\n",
    "        print(i)\n",
    "    i += 1\n",
    "    if i == 3:\n",
    "        continue\n",
    "    print(i)"
   ]
  },
  {
   "cell_type": "markdown",
   "id": "f1c31fc5-c056-4922-9888-273003db877b",
   "metadata": {},
   "source": [
    "`continue` is simple to understand, but it can be unintuitive at first, seeing as it is called \"continue\" and not, say, \"skip\". It is an extra condition that, if met during the loop, will skip the action and move onto the next iteration. With the example above, the cell prints the value of the variable; it is once the value of the variable is 3, it does not perform what comes after it (the `print(i)` at the bottom) and moves to the next iteration (which is what comes immediately below the colon of the while loop)."
   ]
  },
  {
   "cell_type": "code",
   "execution_count": 16,
   "id": "a05c98a2-887c-46b5-a2b9-54c32b4f486d",
   "metadata": {},
   "outputs": [
    {
     "name": "stdout",
     "output_type": "stream",
     "text": [
      "1\n",
      "2\n",
      "3\n",
      "4\n",
      "5\n",
      "i is no longer less than 6\n"
     ]
    }
   ],
   "source": [
    "i = 1\n",
    "while i < 6:\n",
    "  print(i)\n",
    "  i += 1\n",
    "else:\n",
    "  print(\"i is no longer less than 6\")"
   ]
  },
  {
   "cell_type": "markdown",
   "id": "269045dd-a020-45ae-a648-2e92bb815ee0",
   "metadata": {},
   "source": [
    "`else` can also be used with `while` - it basically acts as the final action if the condition of the while loop is `False`. It is important to note that it does not fall under the indentation of `while`."
   ]
  },
  {
   "cell_type": "markdown",
   "id": "19b65e2d-5564-4a1b-9049-5388977878f4",
   "metadata": {},
   "source": [
    "## List comprehensions"
   ]
  },
  {
   "cell_type": "markdown",
   "id": "63ae5da4-8008-48e7-b51a-54a60da6b647",
   "metadata": {},
   "source": [
    "List comprehensions are a smart combination of lists and loops; once you grow more comfortable with both, list comprehensions will become a breeze~\n",
    "Let's look at an example of one:"
   ]
  },
  {
   "cell_type": "code",
   "execution_count": 17,
   "id": "56b5f127-8e7b-4b25-8992-7079be759992",
   "metadata": {},
   "outputs": [],
   "source": [
    "squares = [n**2 for n in range(10)]\n",
    "# A list called \"squares\" contains items based on the specs in the for loop within it."
   ]
  },
  {
   "cell_type": "code",
   "execution_count": 18,
   "id": "bbb52b3c-5d81-45be-ba96-f46ea325c4d8",
   "metadata": {},
   "outputs": [
    {
     "name": "stdout",
     "output_type": "stream",
     "text": [
      "[0, 1, 4, 9, 16, 25, 36, 49, 64, 81]\n"
     ]
    }
   ],
   "source": [
    "print(squares)\n",
    "# or simply run the list 'squares' without the \"print\" (and quotation marks, of course)."
   ]
  },
  {
   "cell_type": "markdown",
   "id": "9898e174-cb4b-4458-83e2-f0ecd2979be2",
   "metadata": {},
   "source": [
    "You can, of course, produce the same result without using a list comprehension; below is a demonstration of such:"
   ]
  },
  {
   "cell_type": "code",
   "execution_count": 19,
   "id": "6dce8cc1-a83a-4902-ac4c-94cd7407c673",
   "metadata": {},
   "outputs": [
    {
     "data": {
      "text/plain": [
       "[0, 1, 4, 9, 16, 25, 36, 49, 64, 81]"
      ]
     },
     "execution_count": 19,
     "metadata": {},
     "output_type": "execute_result"
    }
   ],
   "source": [
    "squares = []\n",
    "for n in range(10):\n",
    "    squares.append(n**2)\n",
    "squares"
   ]
  },
  {
   "cell_type": "markdown",
   "id": "34e58f8c-8797-4cd6-8880-bae977f21fb0",
   "metadata": {},
   "source": [
    "`if` conditions can be added to list comprehensions; below is an example:"
   ]
  },
  {
   "cell_type": "code",
   "execution_count": 25,
   "id": "84cffdba-b690-4cbd-a5b2-8759c0ec7134",
   "metadata": {},
   "outputs": [
    {
     "data": {
      "text/plain": [
       "['Venus', 'Earth', 'Mars', 'Saturn', 'Uranus']"
      ]
     },
     "execution_count": 25,
     "metadata": {},
     "output_type": "execute_result"
    }
   ],
   "source": [
    "short_planets = [planet for planet in planets if len(planet) < 7]\n",
    "short_planets"
   ]
  },
  {
   "cell_type": "markdown",
   "id": "48b3f586-1564-40d9-8766-7dacc8f62f82",
   "metadata": {},
   "source": [
    "Understanding or keeping track of variables in a list comprehension can get a bit confusing. In the example above, we use \"planet\" three times, and the understanding of why this was done can get lost.\n",
    "The structure of the for loop is correct, and since nothing beyond simply calling the items within the list is done, that is why we see the first 2 instances of \"planet\" used. The third time is when it is used in the `len` function as part of the if condition.\n",
    "\n",
    "\n",
    "\n",
    "(If you're familiar with SQL, you might think of this as being like a \"WHERE\" clause)"
   ]
  },
  {
   "cell_type": "markdown",
   "id": "3a53ca4b-61da-4899-a1d3-92eaba588a37",
   "metadata": {},
   "source": [
    "Below is an example of filtering with an `if` condition and applying some transformation to the loop variable:"
   ]
  },
  {
   "cell_type": "code",
   "execution_count": 28,
   "id": "9ab7a43b-eab3-4606-a5b7-2dab998349aa",
   "metadata": {},
   "outputs": [
    {
     "data": {
      "text/plain": [
       "['VENUS!', 'EARTH!', 'MARS!', 'SATURN!', 'URANUS!']"
      ]
     },
     "execution_count": 28,
     "metadata": {},
     "output_type": "execute_result"
    }
   ],
   "source": [
    "# str.upper() returns an all uppercase version of a string\n",
    "loud_short_planets = [planet.upper() + '!' for planet in planets if len(planet) < 7]\n",
    "loud_short_planets"
   ]
  },
  {
   "cell_type": "code",
   "execution_count": 30,
   "id": "42774ca5-8b63-4831-890c-3697cbfba821",
   "metadata": {},
   "outputs": [
    {
     "data": {
      "text/plain": [
       "['~venus~', '~earth~', '~mars~', '~saturn~', '~uranus~']"
      ]
     },
     "execution_count": 30,
     "metadata": {},
     "output_type": "execute_result"
    }
   ],
   "source": [
    "# str.lower() returns an all lowercase version of a string\n",
    "loud_short_planets = ['~' + planet.lower() + '~' for planet in planets if len(planet) < 7]\n",
    "loud_short_planets"
   ]
  },
  {
   "cell_type": "markdown",
   "id": "48b81a04-0b6d-498b-b0a9-2138d55eecff",
   "metadata": {},
   "source": [
    "Just like with most coding languages, you can change the cell/docstring structure so that it is easier to read:"
   ]
  },
  {
   "cell_type": "code",
   "execution_count": 32,
   "id": "86442168-02bb-4e01-a492-7cd1205dd7f2",
   "metadata": {},
   "outputs": [
    {
     "data": {
      "text/plain": [
       "['VENUS!!', 'EARTH!!', 'MARS!!']"
      ]
     },
     "execution_count": 32,
     "metadata": {},
     "output_type": "execute_result"
    }
   ],
   "source": [
    "[\n",
    "    planet.upper() + '!!' \n",
    "    for planet in planets \n",
    "    if len(planet) < 6\n",
    "]"
   ]
  },
  {
   "cell_type": "markdown",
   "id": "08367775-6dce-454b-a8a7-3ac1b08331e2",
   "metadata": {},
   "source": [
    "(Again thinking from an SQL standpoint, you could think of these three lines as SELECT, FROM, and WHERE)"
   ]
  },
  {
   "cell_type": "markdown",
   "id": "fa39c4d2-2f4e-4507-91c1-f1dd82b2b858",
   "metadata": {},
   "source": [
    "The expression on the left doesn't technically have to involve the loop variable (though it'd be pretty unusual for it not to). What do you think the expression below will evaluate to? Run the cell to see for yourself:"
   ]
  },
  {
   "cell_type": "code",
   "execution_count": 34,
   "id": "69b49e86-7252-4297-be5e-7ccd6f5f3f1f",
   "metadata": {},
   "outputs": [
    {
     "data": {
      "text/plain": [
       "[42, 42, 42, 42, 42, 42, 42, 42]"
      ]
     },
     "execution_count": 34,
     "metadata": {},
     "output_type": "execute_result"
    }
   ],
   "source": [
    "[42 for planet in planets]"
   ]
  },
  {
   "cell_type": "markdown",
   "id": "ccef27f3-ebbf-420b-a28c-0924c930f86b",
   "metadata": {},
   "source": [
    "What essentially has happened is that you created a list that for every item in \"planets\", you replace it with the entry 42, hence why the output has 8 items all with the value of 42."
   ]
  },
  {
   "cell_type": "markdown",
   "id": "7cdf47e1-26d5-4c6f-a4df-758e5519440a",
   "metadata": {},
   "source": [
    "List comprehensions combined with functions like `min`, `max`, and `sum` can lead to impressive one-line solutions for problems that would otherwise require several lines of code.\n",
    "\n",
    "For example, compare the following two cells of code that do the same thing:"
   ]
  },
  {
   "cell_type": "code",
   "execution_count": 35,
   "id": "c10deaae-7707-4ccd-8804-eb8929430c76",
   "metadata": {},
   "outputs": [],
   "source": [
    "def count_negatives(nums):\n",
    "    \"\"\"Return the number of negative numbers in the given list.\n",
    "    \n",
    "    >>> count_negatives([5, -1, -2, 0, 3])\n",
    "    2\n",
    "    \"\"\"\n",
    "    n_negative = 0\n",
    "    for num in nums:\n",
    "        if num < 0:\n",
    "            n_negative = n_negative + 1\n",
    "    return n_negative"
   ]
  },
  {
   "cell_type": "code",
   "execution_count": 36,
   "id": "39b738f9-882d-45e7-8167-1ec377301ebd",
   "metadata": {},
   "outputs": [],
   "source": [
    "def count_negatives(nums):\n",
    "    return len([num for num in nums if num < 0])"
   ]
  },
  {
   "cell_type": "markdown",
   "id": "1258e971-1876-4d4f-bed7-92d3a8b7d463",
   "metadata": {},
   "source": [
    "Read both cells carefully and surely you will see that they both do the same thing, but the latter does it in such a sophisticated manner and requires less to type out."
   ]
  },
  {
   "cell_type": "markdown",
   "id": "11e89989-87bb-4b93-bfe8-95f7627af113",
   "metadata": {},
   "source": [
    "If the priority is to minimise the length of code, there is an even better option still:"
   ]
  },
  {
   "cell_type": "code",
   "execution_count": 37,
   "id": "6c31bcae-31b3-4862-97ab-c2ccf2493b1a",
   "metadata": {},
   "outputs": [],
   "source": [
    "def count_negatives(nums):\n",
    "    # Reminder: in the \"booleans and conditionals\" exercises, we learned about a quirk of \n",
    "    # Python where it calculates something like True + True + False + True to be equal to 3.\n",
    "    return sum([num < 0 for num in nums])"
   ]
  },
  {
   "cell_type": "markdown",
   "id": "95daf2ab-f1a3-4d7a-934a-1f586a9a25a3",
   "metadata": {},
   "source": [
    "Now, you might get worried or concerned, or simply ask, which code is the \"best\". Well, that is entirely subjective and depends on you. If you only care that the code does what you want, then all 3 are the best. If you care that you minimise the code length and only you understand it, perhaps the 3rd one is best. If you feel a mix of optimising but still being straightforward enough to understand, then the 2nd one is best. Or you want it to be very clear ever step of the way, and you don't care how lengthly it gets, then the 1st one is the best."
   ]
  },
  {
   "cell_type": "markdown",
   "id": "7a4afcfc-98de-48de-9ae8-37414fbe2463",
   "metadata": {},
   "source": [
    "Solving a problem with less code is always nice, but it's worth keeping in mind the following lines from [The Zen of Python](https://en.wikipedia.org/wiki/Zen_of_Python):\n",
    "\n",
    "    Readability counts.\n",
    "    Explicit is better than implicit.\n",
    "\n",
    "So, use these tools to make compact, readable programs. However, when you have to choose, favour code that is easy for others to understand."
   ]
  },
  {
   "cell_type": "code",
   "execution_count": null,
   "id": "4e6614fb-1abb-4b71-9662-4a28573e8863",
   "metadata": {},
   "outputs": [],
   "source": []
  }
 ],
 "metadata": {
  "kernelspec": {
   "display_name": "Python [conda env:base] *",
   "language": "python",
   "name": "conda-base-py"
  },
  "language_info": {
   "codemirror_mode": {
    "name": "ipython",
    "version": 3
   },
   "file_extension": ".py",
   "mimetype": "text/x-python",
   "name": "python",
   "nbconvert_exporter": "python",
   "pygments_lexer": "ipython3",
   "version": "3.12.7"
  }
 },
 "nbformat": 4,
 "nbformat_minor": 5
}
