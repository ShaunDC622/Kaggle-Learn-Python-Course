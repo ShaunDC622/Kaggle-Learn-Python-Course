{
 "cells": [
  {
   "cell_type": "markdown",
   "id": "8d0f50c1-0a75-4a79-9beb-0f4ca58ca978",
   "metadata": {},
   "source": [
    "# Lists"
   ]
  },
  {
   "cell_type": "markdown",
   "id": "fb7b6d30-03f1-406e-bb5e-def2c33d542a",
   "metadata": {},
   "source": [
    "## Introduction to lists"
   ]
  },
  {
   "cell_type": "markdown",
   "id": "ae2f2036-72d2-4305-a9f7-d19f5e5a18b6",
   "metadata": {},
   "source": [
    "Lists in Python represent ordered sequences of values. By looking at its syntax, it will remind some of row and column vectors in matrix representation theory. An example of a list is seen below:"
   ]
  },
  {
   "cell_type": "code",
   "execution_count": 1,
   "id": "1e1520aa-6d6f-4a04-a6e7-b7fc3cd210cc",
   "metadata": {},
   "outputs": [],
   "source": [
    "primes = [2, 3, 5, 7]"
   ]
  },
  {
   "cell_type": "code",
   "execution_count": 2,
   "id": "074ea63c-0665-402f-9d4e-94358764f690",
   "metadata": {},
   "outputs": [
    {
     "data": {
      "text/plain": [
       "list"
      ]
     },
     "execution_count": 2,
     "metadata": {},
     "output_type": "execute_result"
    }
   ],
   "source": [
    "type(primes)\n",
    "# lists are their own type of data."
   ]
  },
  {
   "cell_type": "code",
   "execution_count": 3,
   "id": "b1700c61-b2c8-40d5-b00f-9248aa587ded",
   "metadata": {},
   "outputs": [
    {
     "data": {
      "text/plain": [
       "2"
      ]
     },
     "execution_count": 3,
     "metadata": {},
     "output_type": "execute_result"
    }
   ],
   "source": [
    "primes[0] #calling on the element in the 0th position; 0th position is actually the first position."
   ]
  },
  {
   "cell_type": "code",
   "execution_count": 4,
   "id": "69ba5d74-23b1-4b46-bb4d-783b1f5a8fd0",
   "metadata": {},
   "outputs": [
    {
     "data": {
      "text/plain": [
       "3"
      ]
     },
     "execution_count": 4,
     "metadata": {},
     "output_type": "execute_result"
    }
   ],
   "source": [
    "primes[1] #calling on the element in the 1st position"
   ]
  },
  {
   "cell_type": "code",
   "execution_count": 5,
   "id": "157ec8e4-0ce9-4d24-967c-93b892a3ff78",
   "metadata": {},
   "outputs": [
    {
     "data": {
      "text/plain": [
       "7"
      ]
     },
     "execution_count": 5,
     "metadata": {},
     "output_type": "execute_result"
    }
   ],
   "source": [
    "primes[-1] #calling on the element in the last position"
   ]
  },
  {
   "cell_type": "code",
   "execution_count": 6,
   "id": "fcf6d489-da49-4081-8ac1-1a1575926cf8",
   "metadata": {},
   "outputs": [
    {
     "data": {
      "text/plain": [
       "5"
      ]
     },
     "execution_count": 6,
     "metadata": {},
     "output_type": "execute_result"
    }
   ],
   "source": [
    "primes[-2] #calling on the element in the second last position"
   ]
  },
  {
   "cell_type": "markdown",
   "id": "ed895311-abb2-4ce8-98fa-4ced24c24cec",
   "metadata": {},
   "source": [
    "The example above was a list with numerical values; we can also make lists like the following:"
   ]
  },
  {
   "cell_type": "code",
   "execution_count": 7,
   "id": "29d0e019-e83e-427f-8d59-3c6987f47d2b",
   "metadata": {},
   "outputs": [],
   "source": [
    "planets = ['Mercury', 'Venus', 'Earth', 'Mars', 'Jupiter', 'Saturn', 'Uranus', 'Neptune']"
   ]
  },
  {
   "cell_type": "code",
   "execution_count": 8,
   "id": "cbc858d5-d727-4399-8a44-79bd02ff807d",
   "metadata": {},
   "outputs": [
    {
     "name": "stdout",
     "output_type": "stream",
     "text": [
      "Mercury is the closest planent next to the Sun. Next is Venus\n"
     ]
    }
   ],
   "source": [
    "print(planets[0],'is the closest planent next to the Sun. Next is',planets[1])"
   ]
  },
  {
   "cell_type": "markdown",
   "id": "55d48d0b-66b3-4bf8-ade7-e88d30039e99",
   "metadata": {},
   "source": [
    "We can even make a list of lists; what some will notice is that it looks similar to matrices in matrix representation theory:"
   ]
  },
  {
   "cell_type": "code",
   "execution_count": 9,
   "id": "6e353ba6-8970-4294-b669-c767f613218f",
   "metadata": {},
   "outputs": [],
   "source": [
    "hands = [\n",
    "    ['J', 'Q', 'K'],\n",
    "    ['2', '2', '2'],\n",
    "    ['6', 'A', 'K'], # (Comma after the last element is optional)\n",
    "]\n",
    "\n",
    "# (You can also write this on one line, but it can get hard to read)\n",
    "hands = [['J', 'Q', 'K'], ['2', '2', '2'], ['6', 'A', 'K']]"
   ]
  },
  {
   "cell_type": "markdown",
   "id": "7886f66c-5fb1-4774-b0b9-7daccda775b4",
   "metadata": {},
   "source": [
    "You can also have different datatypes mixed into your list:"
   ]
  },
  {
   "cell_type": "code",
   "execution_count": 10,
   "id": "286b4478-48c2-41dc-a90a-599f4f684dd3",
   "metadata": {},
   "outputs": [],
   "source": [
    "mixed_list = ['Table', 34, True]"
   ]
  },
  {
   "cell_type": "markdown",
   "id": "b2346ac8-c3f4-4dc4-aaab-e713591cd2f7",
   "metadata": {},
   "source": [
    "## Indexing"
   ]
  },
  {
   "cell_type": "markdown",
   "id": "bef7bded-4ac6-46d5-9779-d9f54e23c4bf",
   "metadata": {},
   "source": [
    "I have already used indexing in an example; it is when I call upon an element in a list."
   ]
  },
  {
   "cell_type": "code",
   "execution_count": 11,
   "id": "849744e2-d826-4884-af36-4b9ed540880a",
   "metadata": {},
   "outputs": [
    {
     "data": {
      "text/plain": [
       "'Mercury'"
      ]
     },
     "execution_count": 11,
     "metadata": {},
     "output_type": "execute_result"
    }
   ],
   "source": [
    "planets[0]"
   ]
  },
  {
   "cell_type": "markdown",
   "id": "55f998e2-4452-4b19-a495-d89d1a0e6899",
   "metadata": {},
   "source": [
    "Indexing starts at 0, not 1. If you have an incredibly long list and you do not know how many elements it has, it is still possible to call upon the last element in the list:"
   ]
  },
  {
   "cell_type": "code",
   "execution_count": 12,
   "id": "48042671-33ac-46a1-b3da-2cdb69f81cbb",
   "metadata": {},
   "outputs": [
    {
     "data": {
      "text/plain": [
       "'Neptune'"
      ]
     },
     "execution_count": 12,
     "metadata": {},
     "output_type": "execute_result"
    }
   ],
   "source": [
    "planets[-1]"
   ]
  },
  {
   "cell_type": "markdown",
   "id": "2b59abe1-5263-4880-b2a7-933b39b5fa40",
   "metadata": {},
   "source": [
    "Same with the second last element, and so on:"
   ]
  },
  {
   "cell_type": "code",
   "execution_count": 13,
   "id": "8379387b-39a8-4026-93ee-a784938884a7",
   "metadata": {},
   "outputs": [
    {
     "name": "stdout",
     "output_type": "stream",
     "text": [
      "Uranus, Saturn, Jupiter, ...\n"
     ]
    }
   ],
   "source": [
    "print(planets[-2],planets[-3],planets[-4], '...', sep=', ')"
   ]
  },
  {
   "cell_type": "markdown",
   "id": "32e7ba20-0948-4513-974c-f2d04e74de99",
   "metadata": {},
   "source": [
    "## Slicing"
   ]
  },
  {
   "cell_type": "markdown",
   "id": "62f9bb34-f21f-4f99-8e67-7bec4b2a5331",
   "metadata": {},
   "source": [
    "What if we don't want all the elements from a list, but simply the first three? That is possible:"
   ]
  },
  {
   "cell_type": "code",
   "execution_count": 14,
   "id": "5a2056e6-8dde-4663-ab9e-4425add1595b",
   "metadata": {},
   "outputs": [
    {
     "data": {
      "text/plain": [
       "['Mercury', 'Venus', 'Earth']"
      ]
     },
     "execution_count": 14,
     "metadata": {},
     "output_type": "execute_result"
    }
   ],
   "source": [
    "planets[0:3]"
   ]
  },
  {
   "cell_type": "markdown",
   "id": "54050cfa-8b20-4100-a0f3-14c457b5a664",
   "metadata": {},
   "source": [
    "Consider the syntax: we are saying that in the list `planets`, start from index 0, and provide 3 elements including the provided, starting element. However, it won't provide the element in index 3, since it counts 0; 1; 2 (three elements starting from the element in the index 0 position)."
   ]
  },
  {
   "cell_type": "markdown",
   "id": "d6c00224-ba10-4ff6-9c29-17ca760e7f82",
   "metadata": {},
   "source": [
    "The starting and ending indices are both optional. If we leave out the starting index, it is assumed to be 0. So rewriting the expression above as:"
   ]
  },
  {
   "cell_type": "code",
   "execution_count": 15,
   "id": "237cdc43-ed7a-488d-8ae6-c099b078c291",
   "metadata": {},
   "outputs": [
    {
     "data": {
      "text/plain": [
       "['Mercury', 'Venus', 'Earth']"
      ]
     },
     "execution_count": 15,
     "metadata": {},
     "output_type": "execute_result"
    }
   ],
   "source": [
    "planets[:3]"
   ]
  },
  {
   "cell_type": "markdown",
   "id": "71217234-41f2-4009-a1e4-a4bdfe82d514",
   "metadata": {},
   "source": [
    "Leaving out the end index, it is assumed to be the length of the list, i.e. it will slice it from the starting position, all the way to the end of the original list."
   ]
  },
  {
   "cell_type": "code",
   "execution_count": 16,
   "id": "1a0ef4a1-b23c-423e-93b1-771933070608",
   "metadata": {},
   "outputs": [
    {
     "data": {
      "text/plain": [
       "['Mars', 'Jupiter', 'Saturn', 'Uranus', 'Neptune']"
      ]
     },
     "execution_count": 16,
     "metadata": {},
     "output_type": "execute_result"
    }
   ],
   "source": [
    "planets[3:]"
   ]
  },
  {
   "cell_type": "markdown",
   "id": "3c19f4b6-5500-4557-991e-dae895fa6258",
   "metadata": {},
   "source": [
    "We can also use negative indices when slicing:"
   ]
  },
  {
   "cell_type": "code",
   "execution_count": 17,
   "id": "567b786f-72f4-404a-9365-f91baf8ed9a6",
   "metadata": {},
   "outputs": [
    {
     "data": {
      "text/plain": [
       "['Venus', 'Earth', 'Mars', 'Jupiter', 'Saturn', 'Uranus']"
      ]
     },
     "execution_count": 17,
     "metadata": {},
     "output_type": "execute_result"
    }
   ],
   "source": [
    "# All the planets except the first and last\n",
    "planets[1:-1]"
   ]
  },
  {
   "cell_type": "code",
   "execution_count": 18,
   "id": "2f7d5bb1-1616-45e8-a7c0-09cc6b824885",
   "metadata": {},
   "outputs": [
    {
     "data": {
      "text/plain": [
       "['Saturn', 'Uranus', 'Neptune']"
      ]
     },
     "execution_count": 18,
     "metadata": {},
     "output_type": "execute_result"
    }
   ],
   "source": [
    "# The last 3 planets\n",
    "planets[-3:]"
   ]
  },
  {
   "cell_type": "markdown",
   "id": "6006f666-76a9-456c-808d-2a581b8a046d",
   "metadata": {},
   "source": [
    "## Changing lists"
   ]
  },
  {
   "cell_type": "markdown",
   "id": "31c13a28-2405-47f3-9c9c-3c2d85a13ebb",
   "metadata": {},
   "source": [
    "Lists are \"mutable\", meaning they can be modified \"in place\". One way to modify a list is to assign it to an index or slice expression."
   ]
  },
  {
   "cell_type": "markdown",
   "id": "d6ef3b17-3110-4d99-8039-abcfadd3665d",
   "metadata": {},
   "source": [
    "For example, let's say we want to rename Mars:"
   ]
  },
  {
   "cell_type": "code",
   "execution_count": 19,
   "id": "36069538-9ff3-49e8-8625-1492f4d00294",
   "metadata": {},
   "outputs": [
    {
     "data": {
      "text/plain": [
       "['Mercury',\n",
       " 'Venus',\n",
       " 'Earth',\n",
       " 'Malacandra',\n",
       " 'Jupiter',\n",
       " 'Saturn',\n",
       " 'Uranus',\n",
       " 'Neptune']"
      ]
     },
     "execution_count": 19,
     "metadata": {},
     "output_type": "execute_result"
    }
   ],
   "source": [
    "planets[3] = 'Malacandra'\n",
    "planets"
   ]
  },
  {
   "cell_type": "markdown",
   "id": "96e4acb1-8d65-4d96-8dc6-7b5514710854",
   "metadata": {},
   "source": [
    "Quite a mouthful, let us compensate by shortening the names of the first 3 planets:"
   ]
  },
  {
   "cell_type": "code",
   "execution_count": 20,
   "id": "3aa1a726-3d99-4f6b-9d35-f2bb29cd2f6a",
   "metadata": {},
   "outputs": [
    {
     "name": "stdout",
     "output_type": "stream",
     "text": [
      "['Mur', 'Vee', 'Ur', 'Malacandra', 'Jupiter', 'Saturn', 'Uranus', 'Neptune']\n"
     ]
    }
   ],
   "source": [
    "planets[:3] = ['Mur', 'Vee', 'Ur']\n",
    "print(planets)"
   ]
  },
  {
   "cell_type": "markdown",
   "id": "447bbbd5-1e4d-4822-ad5d-efdd0c2b7cdc",
   "metadata": {},
   "source": [
    "All of this looks rather silly, let's put the list back to the way it was:"
   ]
  },
  {
   "cell_type": "code",
   "execution_count": 21,
   "id": "fc6e27e6-9aa5-456d-8467-ea548277c61e",
   "metadata": {},
   "outputs": [
    {
     "data": {
      "text/plain": [
       "['Mercury', 'Venus', 'Earth', 'Mars', 'Jupiter', 'Saturn', 'Uranus', 'Neptune']"
      ]
     },
     "execution_count": 21,
     "metadata": {},
     "output_type": "execute_result"
    }
   ],
   "source": [
    "planets[:4] = ['Mercury', 'Venus', 'Earth', 'Mars']\n",
    "planets"
   ]
  },
  {
   "cell_type": "markdown",
   "id": "bac2acd5-55eb-4a8f-a399-cf7e7b962bec",
   "metadata": {},
   "source": [
    "## List functions"
   ]
  },
  {
   "cell_type": "markdown",
   "id": "dddf0154-408f-4746-b9da-13eac93845d6",
   "metadata": {},
   "source": [
    "Python has quite several useful functions when working with lists; an example of one is `len`, which gives the length of a list (i.e. how many elements are within the list)."
   ]
  },
  {
   "cell_type": "code",
   "execution_count": 22,
   "id": "7a1fe298-2e0b-4359-ba69-34331a54649c",
   "metadata": {},
   "outputs": [
    {
     "data": {
      "text/plain": [
       "8"
      ]
     },
     "execution_count": 22,
     "metadata": {},
     "output_type": "execute_result"
    }
   ],
   "source": [
    "# How many planets are there?\n",
    "len(planets)"
   ]
  },
  {
   "cell_type": "markdown",
   "id": "415cf4a6-5f36-4dc8-a7d4-a0c0ac32e320",
   "metadata": {},
   "source": [
    "Another example of a useful function to use for lists is `sorted`, which returns a list in alphabetical order:"
   ]
  },
  {
   "cell_type": "code",
   "execution_count": 23,
   "id": "58e17264-f173-4661-99a9-f640b2a7c352",
   "metadata": {},
   "outputs": [
    {
     "data": {
      "text/plain": [
       "['Earth', 'Jupiter', 'Mars', 'Mercury', 'Neptune', 'Saturn', 'Uranus', 'Venus']"
      ]
     },
     "execution_count": 23,
     "metadata": {},
     "output_type": "execute_result"
    }
   ],
   "source": [
    "# The planets sorted in alphabetical order\n",
    "sorted(planets)"
   ]
  },
  {
   "cell_type": "markdown",
   "id": "344f293d-d722-443a-9448-be6bb9bc7275",
   "metadata": {},
   "source": [
    "Another commonly used function for lists with numerical values is `sum`:"
   ]
  },
  {
   "cell_type": "code",
   "execution_count": 24,
   "id": "d3564856-1cdd-4be0-b7b6-e331017e7571",
   "metadata": {},
   "outputs": [
    {
     "data": {
      "text/plain": [
       "17"
      ]
     },
     "execution_count": 24,
     "metadata": {},
     "output_type": "execute_result"
    }
   ],
   "source": [
    "primes = [2, 3, 5, 7]\n",
    "sum(primes)"
   ]
  },
  {
   "cell_type": "markdown",
   "id": "0f358ff1-465c-4812-9d3f-639bad7bd932",
   "metadata": {},
   "source": [
    "`min` and `max` can also be used for numerical list:"
   ]
  },
  {
   "cell_type": "code",
   "execution_count": 25,
   "id": "8f32ac50-4d9f-4783-be66-91313107526a",
   "metadata": {},
   "outputs": [
    {
     "name": "stdout",
     "output_type": "stream",
     "text": [
      "2\n",
      "7\n"
     ]
    }
   ],
   "source": [
    "print(min(primes), max(primes), sep='\\n')"
   ]
  },
  {
   "cell_type": "markdown",
   "id": "aa8ae8bc-55d4-4af2-b203-0a1e3f290f1d",
   "metadata": {},
   "source": [
    "## Interlude: objects"
   ]
  },
  {
   "cell_type": "markdown",
   "id": "a0f7070b-0c17-4a39-bbf8-3bfcfe1cd68d",
   "metadata": {},
   "source": [
    "The term 'object' has been used a lot so far. You may have read that everything in Python is an object, but what does that mean?\n",
    "\n",
    "In short, objects carry some things around with them; you can access that stuff using Python's dot syntax.\n",
    "\n",
    "For example, numbers in Python carry around an associated variable called `imag` representing their imaginary part - this is part of complex numbers."
   ]
  },
  {
   "cell_type": "code",
   "execution_count": 26,
   "id": "070ed76e-44ec-4966-aab7-c6839c9b0324",
   "metadata": {},
   "outputs": [
    {
     "name": "stdout",
     "output_type": "stream",
     "text": [
      "0\n",
      "3.0\n"
     ]
    }
   ],
   "source": [
    "x = 12\n",
    "# x is a real number, so its imaginary part is 0.\n",
    "print(x.imag)\n",
    "# Here's how to make a complex number, in case you've ever been curious:\n",
    "c = 12 + 3j\n",
    "print(c.imag)"
   ]
  },
  {
   "cell_type": "markdown",
   "id": "b23ee0b3-bc10-456b-b10a-6d38edc8c8e5",
   "metadata": {},
   "source": [
    "The things an object carries around can also include functions. A function attached to an object is called a **method**. Non-function things attached to an object, such as `imag`, are called *attributes*. These are rather important to understand since they will appear often in the future."
   ]
  },
  {
   "cell_type": "markdown",
   "id": "4d1cfe39-885d-4bc2-8456-071cffb1ebc3",
   "metadata": {},
   "source": [
    "An example of a method for numbers is called `bit_length`:"
   ]
  },
  {
   "cell_type": "code",
   "execution_count": 27,
   "id": "321b7d80-4fc4-4e06-9a22-c0b0f0a1113e",
   "metadata": {},
   "outputs": [
    {
     "data": {
      "text/plain": [
       "<function int.bit_length()>"
      ]
     },
     "execution_count": 27,
     "metadata": {},
     "output_type": "execute_result"
    }
   ],
   "source": [
    "x.bit_length"
   ]
  },
  {
   "cell_type": "markdown",
   "id": "82b47702-a24e-467e-9cfb-82f256cef8ae",
   "metadata": {},
   "source": [
    "We did not call the function properly; to do so, we must add parenthesis at the end:"
   ]
  },
  {
   "cell_type": "code",
   "execution_count": 28,
   "id": "b4a5c3ec-6e87-4505-bb97-972d88febd4f",
   "metadata": {},
   "outputs": [
    {
     "data": {
      "text/plain": [
       "4"
      ]
     },
     "execution_count": 28,
     "metadata": {},
     "output_type": "execute_result"
    }
   ],
   "source": [
    "x.bit_length()"
   ]
  },
  {
   "cell_type": "markdown",
   "id": "f8202e30-ea9b-47cc-ba02-7bbfc464bb44",
   "metadata": {},
   "source": [
    "[Aside: You've actually been calling methods already if you've been doing the exercises. In the exercise notebooks, q1, q2, q3, etc. are all objects which have methods called check, hint, and solution.]"
   ]
  },
  {
   "cell_type": "markdown",
   "id": "6d7c0506-3b62-4a82-acaa-1a5f58286266",
   "metadata": {},
   "source": [
    "In the same way that we can pass functions to the help function (e.g. help(max)), we can also pass in methods:"
   ]
  },
  {
   "cell_type": "code",
   "execution_count": 29,
   "id": "4546e428-a086-4e24-8683-e66d21a31b8c",
   "metadata": {},
   "outputs": [
    {
     "name": "stdout",
     "output_type": "stream",
     "text": [
      "Help on built-in function bit_length:\n",
      "\n",
      "bit_length() method of builtins.int instance\n",
      "    Number of bits necessary to represent self in binary.\n",
      "\n",
      "    >>> bin(37)\n",
      "    '0b100101'\n",
      "    >>> (37).bit_length()\n",
      "    6\n",
      "\n"
     ]
    }
   ],
   "source": [
    "help(x.bit_length)"
   ]
  },
  {
   "cell_type": "markdown",
   "id": "a3f16b6a-1e75-42d3-8e77-7f52cbb4543b",
   "metadata": {},
   "source": [
    "The example of methods used for demonstration is highly unlikely to be used by the common Python user. There are more commonly used methods, and we will look at them in more detail in the next subsection."
   ]
  },
  {
   "cell_type": "markdown",
   "id": "d6da7009-c637-4770-9842-155c33a99d94",
   "metadata": {},
   "source": [
    "## List methods"
   ]
  },
  {
   "cell_type": "markdown",
   "id": "b6176ea0-76d5-442b-b31a-705de9880f9a",
   "metadata": {},
   "source": [
    "If you wish to add items/elements to your list, you can use the list method `list.append`"
   ]
  },
  {
   "cell_type": "code",
   "execution_count": 30,
   "id": "4715a169-bbcf-439e-964c-2df5cc2e90d3",
   "metadata": {},
   "outputs": [],
   "source": [
    "# Pluto is a planet darn it!\n",
    "planets.append('Pluto')"
   ]
  },
  {
   "cell_type": "markdown",
   "id": "b6d44194-edab-45d2-80af-2271c836e25d",
   "metadata": {},
   "source": [
    "You might be asking yourself why the append cell did not have an output; let's what the `help` function has to say about it:"
   ]
  },
  {
   "cell_type": "code",
   "execution_count": 32,
   "id": "e873d2b5-3487-45fc-a8f4-e83ad83b18fc",
   "metadata": {},
   "outputs": [
    {
     "name": "stdout",
     "output_type": "stream",
     "text": [
      "Help on built-in function append:\n",
      "\n",
      "append(object, /) method of builtins.list instance\n",
      "    Append object to the end of the list.\n",
      "\n"
     ]
    }
   ],
   "source": [
    "help(planets.append)"
   ]
  },
  {
   "cell_type": "markdown",
   "id": "ebc08e67-299c-44c3-bf51-ab2d58f2049e",
   "metadata": {},
   "source": [
    "The `-> None` part is telling us that `list.append` doesn't return anything. However, if we check the value of planets, we can see that the method call modified the value of `planets`:"
   ]
  },
  {
   "cell_type": "code",
   "execution_count": 33,
   "id": "c38c462e-5b4b-4088-88e8-3e6507ab4b48",
   "metadata": {},
   "outputs": [
    {
     "data": {
      "text/plain": [
       "['Mercury',\n",
       " 'Venus',\n",
       " 'Earth',\n",
       " 'Mars',\n",
       " 'Jupiter',\n",
       " 'Saturn',\n",
       " 'Uranus',\n",
       " 'Neptune',\n",
       " 'Pluto']"
      ]
     },
     "execution_count": 33,
     "metadata": {},
     "output_type": "execute_result"
    }
   ],
   "source": [
    "planets"
   ]
  },
  {
   "cell_type": "markdown",
   "id": "e1d545f1-7751-426a-a10c-21b09530615c",
   "metadata": {},
   "source": [
    "`list.pop` removes and returns the last element of a list:"
   ]
  },
  {
   "cell_type": "code",
   "execution_count": 34,
   "id": "0e9a0478-45f3-441d-9f0f-78e3d1e83110",
   "metadata": {},
   "outputs": [
    {
     "data": {
      "text/plain": [
       "'Pluto'"
      ]
     },
     "execution_count": 34,
     "metadata": {},
     "output_type": "execute_result"
    }
   ],
   "source": [
    "planets.pop()"
   ]
  },
  {
   "cell_type": "code",
   "execution_count": 35,
   "id": "250f7bd0-c5c4-4201-a13a-6985fe7a1b83",
   "metadata": {},
   "outputs": [
    {
     "data": {
      "text/plain": [
       "['Mercury', 'Venus', 'Earth', 'Mars', 'Jupiter', 'Saturn', 'Uranus', 'Neptune']"
      ]
     },
     "execution_count": 35,
     "metadata": {},
     "output_type": "execute_result"
    }
   ],
   "source": [
    "planets"
   ]
  },
  {
   "cell_type": "markdown",
   "id": "95da65a8-6759-4005-bc65-b158971d8cad",
   "metadata": {},
   "source": [
    "## Searching lists"
   ]
  },
  {
   "cell_type": "markdown",
   "id": "238ef7b8-d369-4111-89c8-ee0106b6b8c5",
   "metadata": {},
   "source": [
    "It is possible to find the index location of an item in a list if you know the item's name:"
   ]
  },
  {
   "cell_type": "code",
   "execution_count": 36,
   "id": "438cf441-b5ee-4a48-b04f-cda8ebcc04aa",
   "metadata": {},
   "outputs": [
    {
     "data": {
      "text/plain": [
       "2"
      ]
     },
     "execution_count": 36,
     "metadata": {},
     "output_type": "execute_result"
    }
   ],
   "source": [
    "planets.index('Earth')"
   ]
  },
  {
   "cell_type": "markdown",
   "id": "a4fcd321-aa6e-4b25-973b-a3899c23bbb9",
   "metadata": {},
   "source": [
    "This means 'Earth' is in the index 2 position, which is the third item. Remember that index 0 means the first position, thus index n is the n+1 position."
   ]
  },
  {
   "cell_type": "code",
   "execution_count": 37,
   "id": "ee94ff31-e2fd-4f6b-afc4-674367cb89b7",
   "metadata": {},
   "outputs": [
    {
     "ename": "ValueError",
     "evalue": "'Pluto' is not in list",
     "output_type": "error",
     "traceback": [
      "\u001b[1;31m---------------------------------------------------------------------------\u001b[0m",
      "\u001b[1;31mValueError\u001b[0m                                Traceback (most recent call last)",
      "Cell \u001b[1;32mIn[37], line 1\u001b[0m\n\u001b[1;32m----> 1\u001b[0m planets\u001b[38;5;241m.\u001b[39mindex(\u001b[38;5;124m'\u001b[39m\u001b[38;5;124mPluto\u001b[39m\u001b[38;5;124m'\u001b[39m)\n",
      "\u001b[1;31mValueError\u001b[0m: 'Pluto' is not in list"
     ]
    }
   ],
   "source": [
    "planets.index('Pluto')"
   ]
  },
  {
   "cell_type": "markdown",
   "id": "9376041c-bf0d-4681-b5ad-aa4671b482e8",
   "metadata": {},
   "source": [
    "This is to be expected since we removed 'Pluto' from our list."
   ]
  },
  {
   "cell_type": "markdown",
   "id": "f1ed576b-313f-45b9-88a8-d53ca1428106",
   "metadata": {},
   "source": [
    "We are able to return boolean values in regards to lists by using the `in` operator; in other words, we can check if certain items/elements are contained within lists:"
   ]
  },
  {
   "cell_type": "code",
   "execution_count": 38,
   "id": "fb4190df-68ff-426a-bffc-adec2268737a",
   "metadata": {},
   "outputs": [
    {
     "data": {
      "text/plain": [
       "True"
      ]
     },
     "execution_count": 38,
     "metadata": {},
     "output_type": "execute_result"
    }
   ],
   "source": [
    "# Is Earth a planet?\n",
    "\"Earth\" in planets"
   ]
  },
  {
   "cell_type": "code",
   "execution_count": 39,
   "id": "61a83b92-9834-40c7-80cc-1ca40d4cfcab",
   "metadata": {},
   "outputs": [
    {
     "data": {
      "text/plain": [
       "False"
      ]
     },
     "execution_count": 39,
     "metadata": {},
     "output_type": "execute_result"
    }
   ],
   "source": [
    "# Is Europa a planet?\n",
    "\"Europa\" in planets"
   ]
  },
  {
   "cell_type": "markdown",
   "id": "94662c3c-0430-4d35-95ee-6e236e6e34cc",
   "metadata": {},
   "source": [
    "There are plenty of list methods we have not covered here; if you wish to see all available methods, run `help(planets)` to see them:"
   ]
  },
  {
   "cell_type": "code",
   "execution_count": 40,
   "id": "80a6500b-85fe-4221-a45c-08be02012095",
   "metadata": {},
   "outputs": [
    {
     "name": "stdout",
     "output_type": "stream",
     "text": [
      "Help on list object:\n",
      "\n",
      "class list(object)\n",
      " |  list(iterable=(), /)\n",
      " |\n",
      " |  Built-in mutable sequence.\n",
      " |\n",
      " |  If no argument is given, the constructor creates a new empty list.\n",
      " |  The argument must be an iterable if specified.\n",
      " |\n",
      " |  Methods defined here:\n",
      " |\n",
      " |  __add__(self, value, /)\n",
      " |      Return self+value.\n",
      " |\n",
      " |  __contains__(self, key, /)\n",
      " |      Return bool(key in self).\n",
      " |\n",
      " |  __delitem__(self, key, /)\n",
      " |      Delete self[key].\n",
      " |\n",
      " |  __eq__(self, value, /)\n",
      " |      Return self==value.\n",
      " |\n",
      " |  __ge__(self, value, /)\n",
      " |      Return self>=value.\n",
      " |\n",
      " |  __getattribute__(self, name, /)\n",
      " |      Return getattr(self, name).\n",
      " |\n",
      " |  __getitem__(self, index, /)\n",
      " |      Return self[index].\n",
      " |\n",
      " |  __gt__(self, value, /)\n",
      " |      Return self>value.\n",
      " |\n",
      " |  __iadd__(self, value, /)\n",
      " |      Implement self+=value.\n",
      " |\n",
      " |  __imul__(self, value, /)\n",
      " |      Implement self*=value.\n",
      " |\n",
      " |  __init__(self, /, *args, **kwargs)\n",
      " |      Initialize self.  See help(type(self)) for accurate signature.\n",
      " |\n",
      " |  __iter__(self, /)\n",
      " |      Implement iter(self).\n",
      " |\n",
      " |  __le__(self, value, /)\n",
      " |      Return self<=value.\n",
      " |\n",
      " |  __len__(self, /)\n",
      " |      Return len(self).\n",
      " |\n",
      " |  __lt__(self, value, /)\n",
      " |      Return self<value.\n",
      " |\n",
      " |  __mul__(self, value, /)\n",
      " |      Return self*value.\n",
      " |\n",
      " |  __ne__(self, value, /)\n",
      " |      Return self!=value.\n",
      " |\n",
      " |  __repr__(self, /)\n",
      " |      Return repr(self).\n",
      " |\n",
      " |  __reversed__(self, /)\n",
      " |      Return a reverse iterator over the list.\n",
      " |\n",
      " |  __rmul__(self, value, /)\n",
      " |      Return value*self.\n",
      " |\n",
      " |  __setitem__(self, key, value, /)\n",
      " |      Set self[key] to value.\n",
      " |\n",
      " |  __sizeof__(self, /)\n",
      " |      Return the size of the list in memory, in bytes.\n",
      " |\n",
      " |  append(self, object, /)\n",
      " |      Append object to the end of the list.\n",
      " |\n",
      " |  clear(self, /)\n",
      " |      Remove all items from list.\n",
      " |\n",
      " |  copy(self, /)\n",
      " |      Return a shallow copy of the list.\n",
      " |\n",
      " |  count(self, value, /)\n",
      " |      Return number of occurrences of value.\n",
      " |\n",
      " |  extend(self, iterable, /)\n",
      " |      Extend list by appending elements from the iterable.\n",
      " |\n",
      " |  index(self, value, start=0, stop=9223372036854775807, /)\n",
      " |      Return first index of value.\n",
      " |\n",
      " |      Raises ValueError if the value is not present.\n",
      " |\n",
      " |  insert(self, index, object, /)\n",
      " |      Insert object before index.\n",
      " |\n",
      " |  pop(self, index=-1, /)\n",
      " |      Remove and return item at index (default last).\n",
      " |\n",
      " |      Raises IndexError if list is empty or index is out of range.\n",
      " |\n",
      " |  remove(self, value, /)\n",
      " |      Remove first occurrence of value.\n",
      " |\n",
      " |      Raises ValueError if the value is not present.\n",
      " |\n",
      " |  reverse(self, /)\n",
      " |      Reverse *IN PLACE*.\n",
      " |\n",
      " |  sort(self, /, *, key=None, reverse=False)\n",
      " |      Sort the list in ascending order and return None.\n",
      " |\n",
      " |      The sort is in-place (i.e. the list itself is modified) and stable (i.e. the\n",
      " |      order of two equal elements is maintained).\n",
      " |\n",
      " |      If a key function is given, apply it once to each list item and sort them,\n",
      " |      ascending or descending, according to their function values.\n",
      " |\n",
      " |      The reverse flag can be set to sort in descending order.\n",
      " |\n",
      " |  ----------------------------------------------------------------------\n",
      " |  Class methods defined here:\n",
      " |\n",
      " |  __class_getitem__(...)\n",
      " |      See PEP 585\n",
      " |\n",
      " |  ----------------------------------------------------------------------\n",
      " |  Static methods defined here:\n",
      " |\n",
      " |  __new__(*args, **kwargs)\n",
      " |      Create and return a new object.  See help(type) for accurate signature.\n",
      " |\n",
      " |  ----------------------------------------------------------------------\n",
      " |  Data and other attributes defined here:\n",
      " |\n",
      " |  __hash__ = None\n",
      "\n"
     ]
    }
   ],
   "source": [
    "help(planets)"
   ]
  },
  {
   "cell_type": "markdown",
   "id": "3c6b934d-c5c3-4396-a540-198f8d19739d",
   "metadata": {},
   "source": [
    "## Tuples"
   ]
  },
  {
   "cell_type": "markdown",
   "id": "99fc789f-beac-4323-afd6-f7acadd30bad",
   "metadata": {},
   "source": [
    "Tuples are very similar to lists, but there are distinct differences. For one, their syntax uses round brackets instead of square brackets:"
   ]
  },
  {
   "cell_type": "code",
   "execution_count": 41,
   "id": "9451aa16-c942-4806-b6b0-4b11a2b9bb3b",
   "metadata": {},
   "outputs": [],
   "source": [
    "tup = (1,2,3)"
   ]
  },
  {
   "cell_type": "code",
   "execution_count": 42,
   "id": "b0b845c5-cd22-42de-8302-bbdd12bcaff9",
   "metadata": {},
   "outputs": [
    {
     "data": {
      "text/plain": [
       "(1, 2, 3)"
      ]
     },
     "execution_count": 42,
     "metadata": {},
     "output_type": "execute_result"
    }
   ],
   "source": [
    "tup"
   ]
  },
  {
   "cell_type": "markdown",
   "id": "6cfda88e-ee24-4c53-a19b-0be25102dba6",
   "metadata": {},
   "source": [
    "It is also possible to create them as follows:"
   ]
  },
  {
   "cell_type": "code",
   "execution_count": 43,
   "id": "ecaf2d73-3c48-4105-839c-ee03f21204b2",
   "metadata": {},
   "outputs": [],
   "source": [
    "tuup = 1, 2, 3"
   ]
  },
  {
   "cell_type": "code",
   "execution_count": 44,
   "id": "da243bf7-2c50-4a99-aa5c-09ebba2fdc57",
   "metadata": {},
   "outputs": [
    {
     "data": {
      "text/plain": [
       "(1, 2, 3)"
      ]
     },
     "execution_count": 44,
     "metadata": {},
     "output_type": "execute_result"
    }
   ],
   "source": [
    "tuup"
   ]
  },
  {
   "cell_type": "markdown",
   "id": "b3c70d7a-ac51-430d-827d-f84e8d022ff3",
   "metadata": {},
   "source": [
    "Another key difference is that tuples are immutable; they cannot be modified:"
   ]
  },
  {
   "cell_type": "code",
   "execution_count": 45,
   "id": "1d646db1-4963-4add-b484-422a2824c258",
   "metadata": {},
   "outputs": [
    {
     "ename": "TypeError",
     "evalue": "'tuple' object does not support item assignment",
     "output_type": "error",
     "traceback": [
      "\u001b[1;31m---------------------------------------------------------------------------\u001b[0m",
      "\u001b[1;31mTypeError\u001b[0m                                 Traceback (most recent call last)",
      "Cell \u001b[1;32mIn[45], line 1\u001b[0m\n\u001b[1;32m----> 1\u001b[0m tup[\u001b[38;5;241m0\u001b[39m] \u001b[38;5;241m=\u001b[39m \u001b[38;5;241m100\u001b[39m\n",
      "\u001b[1;31mTypeError\u001b[0m: 'tuple' object does not support item assignment"
     ]
    }
   ],
   "source": [
    "tup[0] = 100"
   ]
  },
  {
   "cell_type": "markdown",
   "id": "016676bb-2269-4731-a1f7-d8a1bc7fdf4b",
   "metadata": {},
   "source": [
    "So why would someone use tuples over lists? Well, tuples are often used for functions that have multiple return values. For example, the `as_integer_ratio()` method of float objects returns a numerator and a denominator in the form of a tuple:"
   ]
  },
  {
   "cell_type": "code",
   "execution_count": 46,
   "id": "f461740e-7b6f-4bcc-a440-c3973f54d615",
   "metadata": {},
   "outputs": [
    {
     "data": {
      "text/plain": [
       "(1, 8)"
      ]
     },
     "execution_count": 46,
     "metadata": {},
     "output_type": "execute_result"
    }
   ],
   "source": [
    "x = 0.125\n",
    "x.as_integer_ratio()"
   ]
  },
  {
   "cell_type": "markdown",
   "id": "ccaf8366-622c-43b5-83ee-42a6917e767e",
   "metadata": {},
   "source": [
    "These multiple return values can be individually assigned as follows:"
   ]
  },
  {
   "cell_type": "code",
   "execution_count": 47,
   "id": "a3aa0e06-882f-4680-9e68-be1599e25d95",
   "metadata": {},
   "outputs": [
    {
     "name": "stdout",
     "output_type": "stream",
     "text": [
      "0.125\n"
     ]
    }
   ],
   "source": [
    "numerator, denominator = x.as_integer_ratio()\n",
    "print(numerator / denominator)"
   ]
  },
  {
   "cell_type": "markdown",
   "id": "fafb698d-15dc-4f29-9446-88aa343d0068",
   "metadata": {},
   "source": [
    "The use of tuples in this manner greatly reduces the lines of code that would be needed otherwise to achieve the same result."
   ]
  },
  {
   "cell_type": "markdown",
   "id": "8e1b278a-26b0-409b-80a8-c7cbaf9ff4c0",
   "metadata": {},
   "source": [
    "Lastly, we can perform the trick of swapping variable values around by using a tuple:"
   ]
  },
  {
   "cell_type": "code",
   "execution_count": 48,
   "id": "77b86c89-a2b1-41fb-a6b7-cd9a97c16e7a",
   "metadata": {},
   "outputs": [
    {
     "name": "stdout",
     "output_type": "stream",
     "text": [
      "0 1\n"
     ]
    }
   ],
   "source": [
    "a = 1\n",
    "b = 0\n",
    "a, b = b, a\n",
    "print(a, b)"
   ]
  },
  {
   "cell_type": "code",
   "execution_count": 49,
   "id": "b5d0fb05-e490-4e0a-9fb5-85619bf61c08",
   "metadata": {},
   "outputs": [
    {
     "data": {
      "text/plain": [
       "0"
      ]
     },
     "execution_count": 49,
     "metadata": {},
     "output_type": "execute_result"
    }
   ],
   "source": [
    "a"
   ]
  },
  {
   "cell_type": "code",
   "execution_count": 50,
   "id": "e1c50bee-e92d-4129-8631-8f0022582d96",
   "metadata": {},
   "outputs": [
    {
     "data": {
      "text/plain": [
       "1"
      ]
     },
     "execution_count": 50,
     "metadata": {},
     "output_type": "execute_result"
    }
   ],
   "source": [
    "b"
   ]
  },
  {
   "cell_type": "code",
   "execution_count": null,
   "id": "98980efd-7b12-4d3a-8222-0646c80a9216",
   "metadata": {},
   "outputs": [],
   "source": []
  }
 ],
 "metadata": {
  "kernelspec": {
   "display_name": "Python [conda env:base] *",
   "language": "python",
   "name": "conda-base-py"
  },
  "language_info": {
   "codemirror_mode": {
    "name": "ipython",
    "version": 3
   },
   "file_extension": ".py",
   "mimetype": "text/x-python",
   "name": "python",
   "nbconvert_exporter": "python",
   "pygments_lexer": "ipython3",
   "version": "3.12.7"
  }
 },
 "nbformat": 4,
 "nbformat_minor": 5
}
