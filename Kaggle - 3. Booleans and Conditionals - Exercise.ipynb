{
 "cells": [
  {
   "cell_type": "markdown",
   "id": "3b0bc4cf-d095-4638-bd6d-618483665d3b",
   "metadata": {},
   "source": [
    "# Booleans and Conditionals - Exercise"
   ]
  },
  {
   "cell_type": "markdown",
   "id": "3a0c477f-0730-4d20-bcbc-d42084e8ac38",
   "metadata": {},
   "source": [
    "## Setup"
   ]
  },
  {
   "cell_type": "code",
   "execution_count": 4,
   "id": "52e87020-2e2b-427b-a2b0-aa651eb0fe15",
   "metadata": {},
   "outputs": [
    {
     "name": "stdout",
     "output_type": "stream",
     "text": [
      "Setup complete.\n"
     ]
    }
   ],
   "source": [
    "from learntools.core import binder; binder.bind(globals())\n",
    "from learntools.python.ex3 import *\n",
    "print('Setup complete.')"
   ]
  },
  {
   "cell_type": "markdown",
   "id": "85699a95-f190-459b-a359-9ae575399e39",
   "metadata": {},
   "source": [
    "## Question 1"
   ]
  },
  {
   "cell_type": "markdown",
   "id": "335e3d9c-027c-4bdd-8a0a-0d08ce7eb924",
   "metadata": {},
   "source": [
    "`sign` is a function that returns either 1, 0, or -1 if a number placed in its argument is positive, zero, or negative, respectively. Python does not have this function built-in, but we can create it here and now:"
   ]
  },
  {
   "cell_type": "code",
   "execution_count": 5,
   "id": "e8a92691-3184-47ac-8c13-6cdd62d1ce11",
   "metadata": {},
   "outputs": [],
   "source": [
    "def sign(x):\n",
    "    if x > 0:\n",
    "        return 1\n",
    "    elif x < 0:\n",
    "        return -1\n",
    "    elif x == 0:\n",
    "        return 0"
   ]
  },
  {
   "cell_type": "code",
   "execution_count": 6,
   "id": "50844dc3-1eb0-4351-b420-e0a3aa0dc7b9",
   "metadata": {},
   "outputs": [
    {
     "name": "stdout",
     "output_type": "stream",
     "text": [
      "-1, 0, 1\n"
     ]
    }
   ],
   "source": [
    "print(sign(-3),sign(0),sign(5), sep=', ')"
   ]
  },
  {
   "cell_type": "code",
   "execution_count": 7,
   "id": "7d75096d-d8f4-4730-94e6-d2259f078351",
   "metadata": {},
   "outputs": [
    {
     "data": {
      "application/javascript": [
       "parent.postMessage({\"jupyterEvent\": \"custom.exercise_interaction\", \"data\": {\"outcomeType\": 1, \"valueTowardsCompletion\": 0.2, \"interactionType\": 1, \"questionType\": 2, \"questionId\": \"1_SignFunctionProblem\", \"learnToolsVersion\": \"0.3.5\", \"failureMessage\": \"\", \"exceptionClass\": \"\", \"trace\": \"\"}}, \"*\")"
      ],
      "text/plain": [
       "<IPython.core.display.Javascript object>"
      ]
     },
     "metadata": {},
     "output_type": "display_data"
    },
    {
     "data": {
      "text/markdown": [
       "<span style=\"color:#33cc33\">Correct</span>"
      ],
      "text/plain": [
       "Correct"
      ]
     },
     "metadata": {},
     "output_type": "display_data"
    }
   ],
   "source": [
    "q1.check()"
   ]
  },
  {
   "cell_type": "code",
   "execution_count": 8,
   "id": "ef74f0e3-80bd-4ad3-95ff-535cb6b9b036",
   "metadata": {},
   "outputs": [],
   "source": [
    "#Uncomment to check the solution if needed\n",
    "#q1.solution()"
   ]
  },
  {
   "cell_type": "markdown",
   "id": "b7b0c0a4-7f3d-4310-9bcc-4b64e56a7432",
   "metadata": {},
   "source": [
    "## Question 2"
   ]
  },
  {
   "cell_type": "markdown",
   "id": "749fe167-5d34-4132-b363-9178bd7ba368",
   "metadata": {},
   "source": [
    "Before, the smashing candies function was created; the update version is as follows:"
   ]
  },
  {
   "cell_type": "code",
   "execution_count": 9,
   "id": "09f63ff9-0ced-4b78-9db8-3ad6e48eacdd",
   "metadata": {},
   "outputs": [],
   "source": [
    "def to_smash(total_candies):\n",
    "    \"\"\"Return the number of leftover candies that must be smashed after distributing\n",
    "    the given number of candies evenly between 3 friends.\n",
    "    \n",
    "    >>> to_smash(91)\n",
    "    1\n",
    "    \"\"\"\n",
    "    print(\"Splitting\", total_candies, \"candies\")\n",
    "    return total_candies % 3"
   ]
  },
  {
   "cell_type": "code",
   "execution_count": 10,
   "id": "4b80cb65-9117-4004-aaa5-5e372f18f92c",
   "metadata": {},
   "outputs": [
    {
     "name": "stdout",
     "output_type": "stream",
     "text": [
      "Splitting 91 candies\n"
     ]
    },
    {
     "data": {
      "text/plain": [
       "1"
      ]
     },
     "execution_count": 10,
     "metadata": {},
     "output_type": "execute_result"
    }
   ],
   "source": [
    "to_smash(91) #testing that it works correctly"
   ]
  },
  {
   "cell_type": "markdown",
   "id": "afc432fc-5efc-4c94-b94d-a743a10c2b25",
   "metadata": {},
   "source": [
    "However, what happens if there is only 1 candy?"
   ]
  },
  {
   "cell_type": "code",
   "execution_count": 11,
   "id": "0f1ff09b-c1cb-4100-ac08-2b3a0391fe80",
   "metadata": {},
   "outputs": [
    {
     "name": "stdout",
     "output_type": "stream",
     "text": [
      "Splitting 1 candies\n"
     ]
    },
    {
     "data": {
      "text/plain": [
       "1"
      ]
     },
     "execution_count": 11,
     "metadata": {},
     "output_type": "execute_result"
    }
   ],
   "source": [
    "to_smash(1)"
   ]
  },
  {
   "cell_type": "markdown",
   "id": "bd30b14a-9949-40e6-ba97-9ebaf5704c41",
   "metadata": {},
   "source": [
    "The grammar in this case is not good, but we can adjust it."
   ]
  },
  {
   "cell_type": "code",
   "execution_count": 12,
   "id": "5bb1780d-10c9-49a8-85a6-3d1cce37fdc1",
   "metadata": {},
   "outputs": [],
   "source": [
    "def to_smash(total_candies):\n",
    "    \"\"\"Return the number of leftover candies that must be smashed after distributing\n",
    "    the given number of candies evenly between 3 friends.\n",
    "    \n",
    "    >>> to_smash(91)\n",
    "    1\n",
    "    \"\"\"\n",
    "    if total_candies == 1:    print(\"Splitting 1 candy\")\n",
    "    elif total_candies > 1:   print(\"Splitting\", total_candies, \"candies\")\n",
    "    return total_candies % 3"
   ]
  },
  {
   "cell_type": "markdown",
   "id": "4ae6707a-138c-41b3-804a-b86b909c1b48",
   "metadata": {},
   "source": [
    "Now, we see that if we run the cell with the function with 1 candy, we get:"
   ]
  },
  {
   "cell_type": "code",
   "execution_count": 13,
   "id": "f31298a6-6154-4450-9b29-68bdcaebdc5c",
   "metadata": {},
   "outputs": [
    {
     "name": "stdout",
     "output_type": "stream",
     "text": [
      "Splitting 1 candy\n"
     ]
    },
    {
     "data": {
      "text/plain": [
       "1"
      ]
     },
     "execution_count": 13,
     "metadata": {},
     "output_type": "execute_result"
    }
   ],
   "source": [
    "to_smash(1)"
   ]
  },
  {
   "cell_type": "code",
   "execution_count": 14,
   "id": "b14135b4-27bf-4bf7-baed-3c93c11b08db",
   "metadata": {},
   "outputs": [
    {
     "name": "stdout",
     "output_type": "stream",
     "text": [
      "Splitting 91 candies\n"
     ]
    },
    {
     "data": {
      "text/plain": [
       "1"
      ]
     },
     "execution_count": 14,
     "metadata": {},
     "output_type": "execute_result"
    }
   ],
   "source": [
    "to_smash(91) #for completeness"
   ]
  },
  {
   "cell_type": "code",
   "execution_count": 15,
   "id": "436769b4-e45d-4cde-bd7d-7d6e30195e2f",
   "metadata": {},
   "outputs": [
    {
     "data": {
      "application/javascript": [
       "parent.postMessage({\"jupyterEvent\": \"custom.exercise_interaction\", \"data\": {\"outcomeType\": 1, \"valueTowardsCompletion\": 0.2, \"interactionType\": 1, \"questionType\": 4, \"questionId\": \"2_PluralizationProblem\", \"learnToolsVersion\": \"0.3.5\", \"failureMessage\": \"\", \"exceptionClass\": \"\", \"trace\": \"\"}}, \"*\")"
      ],
      "text/plain": [
       "<IPython.core.display.Javascript object>"
      ]
     },
     "metadata": {},
     "output_type": "display_data"
    },
    {
     "data": {
      "text/markdown": [
       "<span style=\"color:#33cc33\">Correct:</span> \n",
       "\n",
       "A straightforward (and totally fine) solution is to replace the original `print` call with:\n",
       "\n",
       "```python\n",
       "if total_candies == 1:\n",
       "    print(\"Splitting 1 candy\")\n",
       "else:\n",
       "    print(\"Splitting\", total_candies, \"candies\")\n",
       "```\n",
       "\n",
       "Here's a slightly more succinct solution using a conditional expression:\n",
       "\n",
       "```python\n",
       "print(\"Splitting\", total_candies, \"candy\" if total_candies == 1 else \"candies\")\n",
       "```"
      ],
      "text/plain": [
       "Correct: \n",
       "\n",
       "A straightforward (and totally fine) solution is to replace the original `print` call with:\n",
       "\n",
       "```python\n",
       "if total_candies == 1:\n",
       "    print(\"Splitting 1 candy\")\n",
       "else:\n",
       "    print(\"Splitting\", total_candies, \"candies\")\n",
       "```\n",
       "\n",
       "Here's a slightly more succinct solution using a conditional expression:\n",
       "\n",
       "```python\n",
       "print(\"Splitting\", total_candies, \"candy\" if total_candies == 1 else \"candies\")\n",
       "```"
      ]
     },
     "metadata": {},
     "output_type": "display_data"
    }
   ],
   "source": [
    "q2.check()"
   ]
  },
  {
   "cell_type": "code",
   "execution_count": 16,
   "id": "aaf98a05-fdec-4c20-9211-2073681a1822",
   "metadata": {},
   "outputs": [],
   "source": [
    "#Uncomment to check the solution if needed\n",
    "#q2.solution()"
   ]
  },
  {
   "cell_type": "markdown",
   "id": "46a3e0e2-bc8f-44e6-bb54-21909f29e429",
   "metadata": {},
   "source": [
    "## Question 3"
   ]
  },
  {
   "cell_type": "markdown",
   "id": "8b53b878-7ed9-4d63-acac-b6df9251a498",
   "metadata": {},
   "source": [
    "In the tutorial, there was a section focused on logic and logical operations. As a part of that section, Kaggle had an example regarding a scenario for a person's preparedness in case of potential rain. The conditions which a person is safe from the weather are if:\n",
    "- The person has an umbrella...\n",
    "- or if the rain isn't too heavy and the person has a hood...\n",
    "- otherwise, the person is still fine unless it's raining *and* it's a workday"
   ]
  },
  {
   "cell_type": "markdown",
   "id": "d425e9a8-49e7-4612-9ab9-3bc55cc6130f",
   "metadata": {},
   "source": [
    "Kaggle states in the exercise that the function below uses their first attempt at turning the logic stated in the previous cell into a Python expression. They claimed that there was a bug in that code. Can you find it?\n",
    "\n",
    "To prove that `prepared_for_weather` is buggy, come up with a set of inputs where either:\n",
    "- the function returns `False` (but should have returned `True`), or\n",
    "- the function returned `True` (but should have returned `False`)."
   ]
  },
  {
   "cell_type": "code",
   "execution_count": 17,
   "id": "89f0d079-3e5c-4bc6-a792-2523561f6f17",
   "metadata": {},
   "outputs": [],
   "source": [
    "def prepared_for_weather(have_umbrella, rain_level, have_hood, is_workday):\n",
    "    # Don't change this code. Our goal is just to find the bug, not fix it!\n",
    "    return have_umbrella or rain_level < 5 and have_hood or not rain_level > 0 and is_workday\n",
    "\n",
    "# Change the values of these inputs so they represent a case where prepared_for_weather\n",
    "# returns the wrong answer.\n",
    "have_umbrella = False\n",
    "rain_level = 6.0\n",
    "have_hood = False\n",
    "is_workday = False"
   ]
  },
  {
   "cell_type": "markdown",
   "id": "a07dde20-35a9-4d75-96d7-d3fa9a173fbf",
   "metadata": {},
   "source": [
    "$\\textcolor{blue}{(\\textit{Comment from Shaun:}\\ \\text{The values above are provided by Kaggle to aid in completing the task. For your own benefit, see if you can come up with another example.})}$ "
   ]
  },
  {
   "cell_type": "code",
   "execution_count": 18,
   "id": "0bde50a9-04f4-46c2-a27d-56465faa2b2e",
   "metadata": {},
   "outputs": [
    {
     "name": "stdout",
     "output_type": "stream",
     "text": [
      "False\n"
     ]
    }
   ],
   "source": [
    "# Check what the function returns given the current values of the variables above\n",
    "actual = prepared_for_weather(have_umbrella, rain_level, have_hood, is_workday)\n",
    "print(actual)"
   ]
  },
  {
   "cell_type": "code",
   "execution_count": 19,
   "id": "2f114f77-1c47-4959-b4dd-7e5d76c0e34e",
   "metadata": {},
   "outputs": [
    {
     "data": {
      "application/javascript": [
       "parent.postMessage({\"jupyterEvent\": \"custom.exercise_interaction\", \"data\": {\"outcomeType\": 1, \"valueTowardsCompletion\": 0.2, \"interactionType\": 1, \"questionType\": 1, \"questionId\": \"3_WeatherDebug\", \"learnToolsVersion\": \"0.3.5\", \"failureMessage\": \"\", \"exceptionClass\": \"\", \"trace\": \"\"}}, \"*\")"
      ],
      "text/plain": [
       "<IPython.core.display.Javascript object>"
      ]
     },
     "metadata": {},
     "output_type": "display_data"
    },
    {
     "data": {
      "text/markdown": [
       "<span style=\"color:#33cc33\">Correct:</span> \n",
       "\n",
       "One example of a failing test case is:\n",
       "\n",
       "```python\n",
       "have_umbrella = False\n",
       "rain_level = 0.0\n",
       "have_hood = False\n",
       "is_workday = False\n",
       "```\n",
       "\n",
       "Clearly we're prepared for the weather in this case. It's not raining. Not only that, it's not a workday, so we don't even need to leave the house! But our function will return False on these inputs.\n",
       "\n",
       "The key problem is that Python implictly parenthesizes the last part as:\n",
       "\n",
       "```python\n",
       "(not (rain_level > 0)) and is_workday\n",
       "```\n",
       "\n",
       "Whereas what we were trying to express would look more like:\n",
       "\n",
       "```python\n",
       "not (rain_level > 0 and is_workday)\n",
       "```\n"
      ],
      "text/plain": [
       "Correct: \n",
       "\n",
       "One example of a failing test case is:\n",
       "\n",
       "```python\n",
       "have_umbrella = False\n",
       "rain_level = 0.0\n",
       "have_hood = False\n",
       "is_workday = False\n",
       "```\n",
       "\n",
       "Clearly we're prepared for the weather in this case. It's not raining. Not only that, it's not a workday, so we don't even need to leave the house! But our function will return False on these inputs.\n",
       "\n",
       "The key problem is that Python implictly parenthesizes the last part as:\n",
       "\n",
       "```python\n",
       "(not (rain_level > 0)) and is_workday\n",
       "```\n",
       "\n",
       "Whereas what we were trying to express would look more like:\n",
       "\n",
       "```python\n",
       "not (rain_level > 0 and is_workday)\n",
       "```"
      ]
     },
     "metadata": {},
     "output_type": "display_data"
    }
   ],
   "source": [
    "# Check your answer\n",
    "q3.check()"
   ]
  },
  {
   "cell_type": "code",
   "execution_count": 20,
   "id": "5c5da1c5-5de3-4bac-80de-e588f5de32de",
   "metadata": {},
   "outputs": [],
   "source": [
    "#Uncomment to receive a hint and/or check the solution if needed\n",
    "#q3.hint()\n",
    "#q3.solution()"
   ]
  },
  {
   "cell_type": "markdown",
   "id": "a6c05b29-b7ac-40a5-b886-7a66e9140357",
   "metadata": {},
   "source": [
    "## Question 4"
   ]
  },
  {
   "cell_type": "markdown",
   "id": "6b2130cb-78a9-4c83-8e90-05965a428537",
   "metadata": {},
   "source": [
    "The function `is_negative` below is implemented correctly - it returns True if the given number is negative and False otherwise:"
   ]
  },
  {
   "cell_type": "code",
   "execution_count": 21,
   "id": "b8d1debc-a3cc-4023-8fdb-ad1b0b65100b",
   "metadata": {},
   "outputs": [],
   "source": [
    "def is_negative(number):\n",
    "    if number < 0:\n",
    "        return True\n",
    "    else:\n",
    "        return False"
   ]
  },
  {
   "cell_type": "code",
   "execution_count": 22,
   "id": "95c3bbe5-0900-4a92-9c7d-333a10bfbe03",
   "metadata": {},
   "outputs": [
    {
     "data": {
      "text/plain": [
       "False"
      ]
     },
     "execution_count": 22,
     "metadata": {},
     "output_type": "execute_result"
    }
   ],
   "source": [
    "is_negative(34)"
   ]
  },
  {
   "cell_type": "code",
   "execution_count": 23,
   "id": "ff239908-a925-4f9f-8cbb-2df4c302e346",
   "metadata": {},
   "outputs": [
    {
     "data": {
      "text/plain": [
       "True"
      ]
     },
     "execution_count": 23,
     "metadata": {},
     "output_type": "execute_result"
    }
   ],
   "source": [
    "is_negative(-89)"
   ]
  },
  {
   "cell_type": "markdown",
   "id": "1525cb62-cb02-40af-9ddc-dadb52b0c86e",
   "metadata": {},
   "source": [
    "However, its setup is a bit redundant than it needs to be. We can actually reduce the number of lines of code in this function while keeping its intended purpose. \n",
    "\n",
    "See if you can come up with an equivalent body/code that uses just **one line** of code, and put it in the function `concise_is_negative`. (HINT: you don't even need Python's ternary syntax)"
   ]
  },
  {
   "cell_type": "code",
   "execution_count": 24,
   "id": "3f5b66d0-4eb5-4900-ab61-9bdd13a27e42",
   "metadata": {},
   "outputs": [],
   "source": [
    "def concise_is_negative(number):\n",
    "    return number < 0"
   ]
  },
  {
   "cell_type": "code",
   "execution_count": 25,
   "id": "1f0c55f7-d70e-429e-91ea-d62f80132c3f",
   "metadata": {},
   "outputs": [
    {
     "data": {
      "text/plain": [
       "False"
      ]
     },
     "execution_count": 25,
     "metadata": {},
     "output_type": "execute_result"
    }
   ],
   "source": [
    "concise_is_negative(34)"
   ]
  },
  {
   "cell_type": "code",
   "execution_count": 26,
   "id": "c2dcb1bc-5bc4-4cd9-bbad-f5e077f52a8b",
   "metadata": {},
   "outputs": [
    {
     "data": {
      "text/plain": [
       "True"
      ]
     },
     "execution_count": 26,
     "metadata": {},
     "output_type": "execute_result"
    }
   ],
   "source": [
    "concise_is_negative(-89)"
   ]
  },
  {
   "cell_type": "code",
   "execution_count": 27,
   "id": "5ccf3875-61ec-4394-9343-311f2b84383c",
   "metadata": {},
   "outputs": [
    {
     "data": {
      "application/javascript": [
       "parent.postMessage({\"jupyterEvent\": \"custom.exercise_interaction\", \"data\": {\"outcomeType\": 1, \"valueTowardsCompletion\": 0.2, \"interactionType\": 1, \"questionType\": 2, \"questionId\": \"4_ConciseIsNegative\", \"learnToolsVersion\": \"0.3.5\", \"failureMessage\": \"\", \"exceptionClass\": \"\", \"trace\": \"\"}}, \"*\")"
      ],
      "text/plain": [
       "<IPython.core.display.Javascript object>"
      ]
     },
     "metadata": {},
     "output_type": "display_data"
    },
    {
     "data": {
      "text/markdown": [
       "<span style=\"color:#33cc33\">Correct</span>"
      ],
      "text/plain": [
       "Correct"
      ]
     },
     "metadata": {},
     "output_type": "display_data"
    }
   ],
   "source": [
    "# Check your answer\n",
    "q4.check()"
   ]
  },
  {
   "cell_type": "code",
   "execution_count": 28,
   "id": "68f20e7f-9f8d-42b9-846b-2b6cdfd34dae",
   "metadata": {},
   "outputs": [],
   "source": [
    "#Uncomment to receive a hint and/or check the solution if needed\n",
    "#q4.hint()\n",
    "#q4.solution()"
   ]
  },
  {
   "cell_type": "markdown",
   "id": "39ac45fd-f5b7-4771-9fc1-384daf28d7f5",
   "metadata": {},
   "source": [
    "## Question 5"
   ]
  },
  {
   "cell_type": "markdown",
   "id": "1194daca-ddc4-4189-8f5b-ff843ff99bbe",
   "metadata": {},
   "source": [
    "Kaggle introduces 3 new boolean variables: `ketchup`, `mustard`, and `onion`; they represent whether a customer wants a particular topping on their hot dog. We are to create functions that act as yes-or-no questions using these variables. An example of this is:"
   ]
  },
  {
   "cell_type": "code",
   "execution_count": 29,
   "id": "6d37f291-139e-4b34-9cf4-3340dd0da3a3",
   "metadata": {},
   "outputs": [],
   "source": [
    "def onionless(ketchup, mustard, onion):\n",
    "    \"\"\"Return whether the customer doesn't want onions.\"\"\"\n",
    "    return not onion"
   ]
  },
  {
   "cell_type": "markdown",
   "id": "897eec2f-1861-4a6c-b4e2-0843e484398c",
   "metadata": {},
   "source": [
    "For the task, you are to fill in the body for each of the remaining functions to match the English description in the docstring."
   ]
  },
  {
   "cell_type": "code",
   "execution_count": 30,
   "id": "d4e829d2-5d2f-4f85-9583-cc46f0ca3e00",
   "metadata": {},
   "outputs": [],
   "source": [
    "def wants_all_toppings(ketchup, mustard, onion):\n",
    "    \"\"\"Return whether the customer wants \"the works\" (all 3 toppings)\n",
    "    \"\"\"\n",
    "    return ketchup and mustard and onion"
   ]
  },
  {
   "cell_type": "code",
   "execution_count": 31,
   "id": "f05cf407-26ad-4eaa-9e27-bf11e8e51570",
   "metadata": {},
   "outputs": [
    {
     "data": {
      "application/javascript": [
       "parent.postMessage({\"jupyterEvent\": \"custom.exercise_interaction\", \"data\": {\"outcomeType\": 1, \"valueTowardsCompletion\": 0.2, \"interactionType\": 1, \"questionType\": 2, \"questionId\": \"5.1_AllToppings\", \"learnToolsVersion\": \"0.3.5\", \"failureMessage\": \"\", \"exceptionClass\": \"\", \"trace\": \"\"}}, \"*\")"
      ],
      "text/plain": [
       "<IPython.core.display.Javascript object>"
      ]
     },
     "metadata": {},
     "output_type": "display_data"
    },
    {
     "data": {
      "text/markdown": [
       "<span style=\"color:#33cc33\">Correct</span>"
      ],
      "text/plain": [
       "Correct"
      ]
     },
     "metadata": {},
     "output_type": "display_data"
    }
   ],
   "source": [
    "# Check your answer\n",
    "q5.a.check()"
   ]
  },
  {
   "cell_type": "code",
   "execution_count": 32,
   "id": "5ede794e-48e9-4e32-9790-e097aacdcfe4",
   "metadata": {},
   "outputs": [],
   "source": [
    "#Uncomment to receive a hint and/or check the solution if needed\n",
    "#q5.a.hint()\n",
    "#q5.a.solution()"
   ]
  },
  {
   "cell_type": "code",
   "execution_count": 33,
   "id": "d85c2535-616e-4343-b0a8-ce4718defff4",
   "metadata": {},
   "outputs": [],
   "source": [
    "def wants_plain_hotdog(ketchup, mustard, onion):\n",
    "    \"\"\"Return whether the customer wants a plain hot dog with no toppings.\n",
    "    \"\"\"\n",
    "    return not ketchup and not mustard and not onion"
   ]
  },
  {
   "cell_type": "code",
   "execution_count": 34,
   "id": "c4609e07-9bc2-4359-a3d5-57cb6b1bafc8",
   "metadata": {},
   "outputs": [
    {
     "data": {
      "application/javascript": [
       "parent.postMessage({\"jupyterEvent\": \"custom.exercise_interaction\", \"data\": {\"outcomeType\": 1, \"valueTowardsCompletion\": 0.2, \"interactionType\": 1, \"questionType\": 2, \"questionId\": \"5.2_PlainDog\", \"learnToolsVersion\": \"0.3.5\", \"failureMessage\": \"\", \"exceptionClass\": \"\", \"trace\": \"\"}}, \"*\")"
      ],
      "text/plain": [
       "<IPython.core.display.Javascript object>"
      ]
     },
     "metadata": {},
     "output_type": "display_data"
    },
    {
     "data": {
      "text/markdown": [
       "<span style=\"color:#33cc33\">Correct:</span> \n",
       "\n",
       "One solution looks like:\n",
       "```python\n",
       "return not ketchup and not mustard and not onion\n",
       "```\n",
       "\n",
       "We can also [\"factor out\" the nots](https://en.wikipedia.org/wiki/De_Morgan%27s_laws) to get:\n",
       "\n",
       "```python\n",
       "return not (ketchup or mustard or onion)\n",
       "```"
      ],
      "text/plain": [
       "Correct: \n",
       "\n",
       "One solution looks like:\n",
       "```python\n",
       "return not ketchup and not mustard and not onion\n",
       "```\n",
       "\n",
       "We can also [\"factor out\" the nots](https://en.wikipedia.org/wiki/De_Morgan%27s_laws) to get:\n",
       "\n",
       "```python\n",
       "return not (ketchup or mustard or onion)\n",
       "```"
      ]
     },
     "metadata": {},
     "output_type": "display_data"
    }
   ],
   "source": [
    "# Check your answer\n",
    "q5.b.check()"
   ]
  },
  {
   "cell_type": "code",
   "execution_count": 35,
   "id": "9ab2bfad-f1fc-436b-9cd6-937f6344d357",
   "metadata": {},
   "outputs": [],
   "source": [
    "#Uncomment to receive a hint and/or check the solution if needed\n",
    "#q5.b.hint()\n",
    "#q5.b.solution()"
   ]
  },
  {
   "cell_type": "code",
   "execution_count": 36,
   "id": "a30c9a32-0148-4ab4-9231-3670c4845cd0",
   "metadata": {},
   "outputs": [],
   "source": [
    "def exactly_one_sauce(ketchup, mustard, onion):\n",
    "    \"\"\"Return whether the customer wants either ketchup or mustard, but not both.\n",
    "    (You may be familiar with this operation under the name \"exclusive or\")\n",
    "    \"\"\"\n",
    "    return (ketchup and not mustard) or (mustard and not ketchup)"
   ]
  },
  {
   "cell_type": "code",
   "execution_count": 37,
   "id": "5bbe91ac-8b35-4c34-8885-dbbe47b18b02",
   "metadata": {},
   "outputs": [
    {
     "data": {
      "application/javascript": [
       "parent.postMessage({\"jupyterEvent\": \"custom.exercise_interaction\", \"data\": {\"outcomeType\": 1, \"valueTowardsCompletion\": 0.2, \"interactionType\": 1, \"questionType\": 2, \"questionId\": \"5.3_OneSauce\", \"learnToolsVersion\": \"0.3.5\", \"failureMessage\": \"\", \"exceptionClass\": \"\", \"trace\": \"\"}}, \"*\")"
      ],
      "text/plain": [
       "<IPython.core.display.Javascript object>"
      ]
     },
     "metadata": {},
     "output_type": "display_data"
    },
    {
     "data": {
      "text/markdown": [
       "<span style=\"color:#33cc33\">Correct</span>"
      ],
      "text/plain": [
       "Correct"
      ]
     },
     "metadata": {},
     "output_type": "display_data"
    }
   ],
   "source": [
    "# Check your answer\n",
    "q5.c.check()"
   ]
  },
  {
   "cell_type": "code",
   "execution_count": 38,
   "id": "0bf12cea-ed6e-4389-89f5-5494c819ce45",
   "metadata": {},
   "outputs": [],
   "source": [
    "#Uncomment to receive a hint and/or check the solution if needed\n",
    "#q5.c.hint()\n",
    "#q5.c.solution()"
   ]
  },
  {
   "cell_type": "code",
   "execution_count": 43,
   "id": "c92d6d6d-6960-45b0-a0be-5e7f5880732e",
   "metadata": {},
   "outputs": [
    {
     "name": "stdout",
     "output_type": "stream",
     "text": [
      "True\n",
      "False\n",
      "False\n",
      "True\n"
     ]
    }
   ],
   "source": [
    "#For my own benefit:\n",
    "print(onionless(False, True, False), \n",
    "      wants_all_toppings(False, False, True), \n",
    "      wants_plain_hotdog(True, True, True), \n",
    "      exactly_one_sauce(True,False,True), \n",
    "      sep='\\n')"
   ]
  },
  {
   "cell_type": "markdown",
   "id": "74aea118-cfff-476a-8597-25a7735a08db",
   "metadata": {},
   "source": [
    "## Question 6"
   ]
  },
  {
   "cell_type": "markdown",
   "id": "88c0121d-b459-4c38-943e-fdd67d0d678a",
   "metadata": {},
   "source": [
    "Recall that `bool()` will return `False` if you place the integer 0 in its argument and `True` if you place any value besides 0 in its argument (yes, even negative integers). However, we should investigate what happens when we use `int()` on a boolean value."
   ]
  },
  {
   "cell_type": "code",
   "execution_count": 47,
   "id": "6d6b457a-7ac4-4588-878f-3c8c9229c7ad",
   "metadata": {},
   "outputs": [
    {
     "name": "stdout",
     "output_type": "stream",
     "text": [
      "0,1\n"
     ]
    }
   ],
   "source": [
    "print(int(False),int(True), sep=',')"
   ]
  },
  {
   "cell_type": "markdown",
   "id": "c70bbb9b-92d4-4674-8391-e5c815ef8b5e",
   "metadata": {},
   "source": [
    "We get the binary values 0 and 1; this can certainly be used in a useful manner. Write a brief function that corresponds to the English sentence: \"Does the customer want exactly one topping?\""
   ]
  },
  {
   "cell_type": "code",
   "execution_count": 48,
   "id": "e95eb032-8d54-411b-9bdc-9e350a365cc7",
   "metadata": {},
   "outputs": [],
   "source": [
    "def exactly_one_topping(ketchup, mustard, onion):\n",
    "    \"\"\"Return whether the customer wants exactly one of the three available toppings\n",
    "    on their hot dog.\n",
    "    \"\"\"\n",
    "    return (int(ketchup) + int(mustard) + int(onion)) == 1"
   ]
  },
  {
   "cell_type": "code",
   "execution_count": 49,
   "id": "bd6e3413-94e9-461d-aa9f-e011a1b0f2bd",
   "metadata": {},
   "outputs": [
    {
     "data": {
      "application/javascript": [
       "parent.postMessage({\"jupyterEvent\": \"custom.exercise_interaction\", \"data\": {\"outcomeType\": 1, \"valueTowardsCompletion\": 0.2, \"interactionType\": 1, \"questionType\": 2, \"questionId\": \"6_OneTopping\", \"learnToolsVersion\": \"0.3.5\", \"failureMessage\": \"\", \"exceptionClass\": \"\", \"trace\": \"\"}}, \"*\")"
      ],
      "text/plain": [
       "<IPython.core.display.Javascript object>"
      ]
     },
     "metadata": {},
     "output_type": "display_data"
    },
    {
     "data": {
      "text/markdown": [
       "<span style=\"color:#33cc33\">Correct:</span> \n",
       "\n",
       "This condition would be pretty complicated to express using just `and`, `or` and `not`, but using boolean-to-integer conversion gives us this short solution:\n",
       "```python\n",
       "return (int(ketchup) + int(mustard) + int(onion)) == 1\n",
       "```\n",
       "\n",
       "Fun fact: we don't technically need to call `int` on the arguments. Just by doing addition with booleans, Python implicitly does the integer conversion. So we could also write...\n",
       "\n",
       "```python\n",
       "return (ketchup + mustard + onion) == 1\n",
       "```"
      ],
      "text/plain": [
       "Correct: \n",
       "\n",
       "This condition would be pretty complicated to express using just `and`, `or` and `not`, but using boolean-to-integer conversion gives us this short solution:\n",
       "```python\n",
       "return (int(ketchup) + int(mustard) + int(onion)) == 1\n",
       "```\n",
       "\n",
       "Fun fact: we don't technically need to call `int` on the arguments. Just by doing addition with booleans, Python implicitly does the integer conversion. So we could also write...\n",
       "\n",
       "```python\n",
       "return (ketchup + mustard + onion) == 1\n",
       "```"
      ]
     },
     "metadata": {},
     "output_type": "display_data"
    }
   ],
   "source": [
    "# Check your answer\n",
    "q6.check()"
   ]
  },
  {
   "cell_type": "code",
   "execution_count": 50,
   "id": "7a845fb4-fe3c-456c-b77b-0d7f2873c1fa",
   "metadata": {},
   "outputs": [],
   "source": [
    "#Uncomment to receive a hint and/or check the solution if needed\n",
    "#q6.hint()\n",
    "#q6.solution()"
   ]
  },
  {
   "cell_type": "markdown",
   "id": "b40e4eec-df9c-427a-bba9-9eef82ab354e",
   "metadata": {},
   "source": [
    "## Question 7 (Optional)"
   ]
  },
  {
   "cell_type": "markdown",
   "id": "f3202bc7-d20e-4e22-9025-6df673bc2835",
   "metadata": {},
   "source": [
    "In this problem, we will be working with a simplified version of blackjack (aka twenty-one). In this version, there is one player (who you will control) and a dealer. A play proceeds as follows:\n",
    "\n",
    "   - The player is dealt two face-up cards. The dealer is dealt one face-up card.\n",
    "   - The player may ask to be dealt another card ('hit') as many times as they wish. If the sum of their cards exceeds 21, they lose the round immediately.\n",
    "   - The dealer then deals additional cards to themself until either:\n",
    "       - the sum of the dealer's cards exceeds 21, in which case the player wins the round\n",
    "       - the sum of the dealer's cards is greater than or equal to 17. If the player's total is greater than the dealer's, the player wins. Otherwise, the dealer wins (even in case of a tie).\n",
    "\n",
    "When calculating the sum of cards, Jack, Queen, and King count for 10. Aces can count as 1 or 11 (when referring to a player's \"total\" above, we mean the largest total that can be made without exceeding 21. So, for example, A+8 = 19 or A+8+8 = 17).\n",
    "\n",
    "For this problem, you will write a function representing the player's decision-making strategy in this game. We have provided a very unintelligent implementation below:"
   ]
  },
  {
   "cell_type": "code",
   "execution_count": 51,
   "id": "e23dc0b4-f314-42c7-8db2-7173f4ed3d5f",
   "metadata": {},
   "outputs": [],
   "source": [
    "def should_hit(dealer_total, player_total, player_low_aces, player_high_aces):\n",
    "    \"\"\"Return True if the player should hit (request another card) given the current game\n",
    "    state, or False if the player should stay.\n",
    "    When calculating a hand's total value, we count aces as \"high\" (with value 11) if doing so\n",
    "    doesn't bring the total above 21, otherwise we count them as low (with value 1). \n",
    "    For example, if the player's hand is {A, A, A, 7}, we will count it as 11 + 1 + 1 + 7,\n",
    "    and therefore set player_total=20, player_low_aces=2, player_high_aces=1.\n",
    "    \"\"\"\n",
    "    return False"
   ]
  },
  {
   "cell_type": "markdown",
   "id": "89884c57-1099-48d6-ba13-fbc1164d59fd",
   "metadata": {},
   "source": [
    "This very conservative agent *always* sticks with the hand of two cards that they are dealt.\n",
    "\n",
    "We will be simulating games between your player agent and our own dealer agent by calling your function.\n",
    "\n",
    "Try running the function below to see an example of a simulated game:"
   ]
  },
  {
   "cell_type": "code",
   "execution_count": 52,
   "id": "8f8e7bc7-58d8-4782-a430-ed47c9d7b02f",
   "metadata": {},
   "outputs": [
    {
     "name": "stdout",
     "output_type": "stream",
     "text": [
      "Player starts with 3 and 8 (total = 11)\n",
      "Dealer starts with 9\n",
      "\n",
      "__Player's turn__\n",
      "Player stays\n",
      "\n",
      "__Dealer's turn__\n",
      "Dealer hits and receives 5. (total = 14)\n",
      "Dealer hits and receives 2. (total = 16)\n",
      "Dealer hits and receives 10. (total = 26)\n",
      "Dealer busts! Player wins.\n"
     ]
    }
   ],
   "source": [
    "q7.simulate_one_game()"
   ]
  },
  {
   "cell_type": "markdown",
   "id": "1d8b6ff2-79a5-4e81-a26f-22160c72c7bd",
   "metadata": {},
   "source": [
    "The real test of your agent's mettle is their average win rate over many games. Try calling the function below to simulate 50,000 games of blackjack (it may take a couple of seconds):"
   ]
  },
  {
   "cell_type": "code",
   "execution_count": 53,
   "id": "698e74b4-e439-4938-ae58-a8b2b8d01029",
   "metadata": {},
   "outputs": [
    {
     "name": "stdout",
     "output_type": "stream",
     "text": [
      "Player won 18899 out of 50000 games (win rate = 37.8%)\n"
     ]
    }
   ],
   "source": [
    "q7.simulate(n_games=50000)"
   ]
  },
  {
   "cell_type": "code",
   "execution_count": 54,
   "id": "6a1fb1ba-6386-41a8-b0b9-f4f6c1b92181",
   "metadata": {},
   "outputs": [
    {
     "name": "stdout",
     "output_type": "stream",
     "text": [
      "Player won 28375 out of 75000 games (win rate = 37.8%)\n"
     ]
    }
   ],
   "source": [
    "q7.simulate(n_games=75000)"
   ]
  },
  {
   "cell_type": "code",
   "execution_count": 55,
   "id": "80c0ff5a-1e8a-4a0e-ae4b-ae332c694e8d",
   "metadata": {},
   "outputs": [
    {
     "name": "stdout",
     "output_type": "stream",
     "text": [
      "Player won 37988 out of 100000 games (win rate = 38.0%)\n"
     ]
    }
   ],
   "source": [
    "q7.simulate(n_games=100000)"
   ]
  },
  {
   "cell_type": "markdown",
   "id": "7ec8d571-e1c8-494d-9283-f48e59e0cbbb",
   "metadata": {},
   "source": [
    "Our dumb agent that completely ignores the game state still manages to win shockingly often!\n",
    "\n",
    "Try adding some more smarts to the `should_hit` function and see how it affects the results."
   ]
  },
  {
   "cell_type": "code",
   "execution_count": 56,
   "id": "afc2523e-08d2-4a5b-b278-2af365d0046a",
   "metadata": {},
   "outputs": [],
   "source": [
    "def should_hit(dealer_total, player_total, player_low_aces, player_high_aces):\n",
    "    \"\"\"Return True if the player should hit (request another card) given the current game\n",
    "    state, or False if the player should stay.\n",
    "    When calculating a hand's total value, we count aces as \"high\" (with value 11) if doing so\n",
    "    doesn't bring the total above 21, otherwise, we count them as low (with value 1). \n",
    "    For example, if the player's hand is {A, A, A, 7}, we will count it as 11 + 1 + 1 + 7,\n",
    "    and therefore set player_total=20, player_low_aces=2, player_high_aces=1.\n",
    "    \"\"\"\n",
    "    return False"
   ]
  },
  {
   "cell_type": "code",
   "execution_count": 57,
   "id": "41a510fc-15ed-41b2-83bc-bdb7a011dda1",
   "metadata": {},
   "outputs": [
    {
     "name": "stdout",
     "output_type": "stream",
     "text": [
      "Player won 19198 out of 50000 games (win rate = 38.4%)\n"
     ]
    }
   ],
   "source": [
    "q7.simulate(n_games=50000)"
   ]
  },
  {
   "cell_type": "code",
   "execution_count": 58,
   "id": "85114507-e517-45a6-be10-03b8a358b44e",
   "metadata": {},
   "outputs": [
    {
     "name": "stdout",
     "output_type": "stream",
     "text": [
      "Player won 28557 out of 75000 games (win rate = 38.1%)\n"
     ]
    }
   ],
   "source": [
    "q7.simulate(n_games=75000)"
   ]
  },
  {
   "cell_type": "code",
   "execution_count": 59,
   "id": "50b11a22-8de3-4254-b6ef-4211233b0db5",
   "metadata": {},
   "outputs": [
    {
     "name": "stdout",
     "output_type": "stream",
     "text": [
      "Player won 38147 out of 100000 games (win rate = 38.1%)\n"
     ]
    }
   ],
   "source": [
    "q7.simulate(n_games=100000)"
   ]
  },
  {
   "cell_type": "code",
   "execution_count": null,
   "id": "e1ce6d72-20fc-447d-91c4-91fa08b4bdc5",
   "metadata": {},
   "outputs": [],
   "source": []
  }
 ],
 "metadata": {
  "kernelspec": {
   "display_name": "Python [conda env:base] *",
   "language": "python",
   "name": "conda-base-py"
  },
  "language_info": {
   "codemirror_mode": {
    "name": "ipython",
    "version": 3
   },
   "file_extension": ".py",
   "mimetype": "text/x-python",
   "name": "python",
   "nbconvert_exporter": "python",
   "pygments_lexer": "ipython3",
   "version": "3.12.7"
  }
 },
 "nbformat": 4,
 "nbformat_minor": 5
}
