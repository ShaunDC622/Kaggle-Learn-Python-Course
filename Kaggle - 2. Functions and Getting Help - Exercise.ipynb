{
 "cells": [
  {
   "cell_type": "markdown",
   "id": "3bfc739b-d6a2-45a5-95f5-a7f6881efafc",
   "metadata": {},
   "source": [
    "#  Functions and Getting Help - Exercise"
   ]
  },
  {
   "cell_type": "markdown",
   "id": "ac0129a5-7622-4e6f-aa05-8b55d4a563c4",
   "metadata": {},
   "source": [
    "## Setup"
   ]
  },
  {
   "cell_type": "code",
   "execution_count": 1,
   "id": "b6a16726-3d90-40b9-87ec-4c9e5931fba4",
   "metadata": {},
   "outputs": [
    {
     "name": "stdout",
     "output_type": "stream",
     "text": [
      "Setup complete.\n"
     ]
    }
   ],
   "source": [
    "# SETUP. You don't need to worry for now about what this code does or how it works.\n",
    "from learntools.core import binder; binder.bind(globals())\n",
    "from learntools.python.ex2 import *\n",
    "print('Setup complete.')"
   ]
  },
  {
   "cell_type": "markdown",
   "id": "95c10e7f-71e5-4632-b946-a3d0a664c80a",
   "metadata": {},
   "source": [
    "## Question 1:"
   ]
  },
  {
   "cell_type": "markdown",
   "id": "64a2fe2c-6d52-4bbb-821f-58dbaa2b5be6",
   "metadata": {},
   "source": [
    "Complete the body of the following function according to its docstring.\n",
    "\n",
    "HINT: Python has a built-in function `round`."
   ]
  },
  {
   "cell_type": "code",
   "execution_count": 2,
   "id": "445c91cb-7255-48e5-ab79-77cc274f9f77",
   "metadata": {},
   "outputs": [
    {
     "data": {
      "application/javascript": [
       "parent.postMessage({\"jupyterEvent\": \"custom.exercise_interaction\", \"data\": {\"outcomeType\": 1, \"valueTowardsCompletion\": 0.16666666666666666, \"interactionType\": 1, \"questionType\": 2, \"questionId\": \"1_RoundFunctionProblem\", \"learnToolsVersion\": \"0.3.5\", \"failureMessage\": \"\", \"exceptionClass\": \"\", \"trace\": \"\"}}, \"*\")"
      ],
      "text/plain": [
       "<IPython.core.display.Javascript object>"
      ]
     },
     "metadata": {},
     "output_type": "display_data"
    },
    {
     "data": {
      "text/markdown": [
       "<span style=\"color:#33cc33\">Correct</span>"
      ],
      "text/plain": [
       "Correct"
      ]
     },
     "metadata": {},
     "output_type": "display_data"
    }
   ],
   "source": [
    "def round_to_two_places(num):\n",
    "    \"\"\"Return the given number rounded to two decimal places. \n",
    "    \n",
    "    >>> round_to_two_places(3.14159)\n",
    "    3.14\n",
    "    \"\"\"\n",
    "    # Replace this body with your own code.\n",
    "    # (\"pass\" is a keyword that does literally nothing. We used it as a placeholder\n",
    "    # because after we begin a code block, Python requires at least one line of code)\n",
    "    return round(num, 2)\n",
    "\n",
    "# Check your answer\n",
    "q1.check()"
   ]
  },
  {
   "cell_type": "code",
   "execution_count": 3,
   "id": "02e6cee4-d6fc-44a8-bda5-6b4ece56760e",
   "metadata": {},
   "outputs": [],
   "source": [
    "# Uncomment the following for a hint\n",
    "#q1.hint()\n",
    "# Or uncomment the following to peek at the solution\n",
    "#q1.solution()"
   ]
  },
  {
   "cell_type": "markdown",
   "id": "6ecec3e8-07d9-406d-ba8b-e51fad597622",
   "metadata": {},
   "source": [
    "## Question 2:"
   ]
  },
  {
   "cell_type": "markdown",
   "id": "333d213f-18a5-457f-99b6-0304acdce5ec",
   "metadata": {},
   "source": [
    "The help for `round` says that `ndigits` (the second argument) may be negative.\n",
    "What do you think will happen when it is? Try some examples in the following cell?\n",
    "\n",
    "Can you think of a case where this would be useful?"
   ]
  },
  {
   "cell_type": "code",
   "execution_count": 4,
   "id": "f144dec1-c073-4e9e-939e-8ec9e9dd0783",
   "metadata": {},
   "outputs": [
    {
     "data": {
      "text/plain": [
       "13700.0"
      ]
     },
     "execution_count": 4,
     "metadata": {},
     "output_type": "execute_result"
    }
   ],
   "source": [
    "round(13654.4654,-2)"
   ]
  },
  {
   "cell_type": "markdown",
   "id": "985a6114-3fba-4044-b711-61fcfe2780c3",
   "metadata": {},
   "source": [
    "Answer: If you wish to round to the nearest unit, 10, 100, etc, using `round` to the 'negative' position is very helpful."
   ]
  },
  {
   "cell_type": "code",
   "execution_count": 5,
   "id": "540a02eb-f4b2-4c98-97d5-42509dacddc0",
   "metadata": {},
   "outputs": [
    {
     "data": {
      "text/plain": [
       "13654.0"
      ]
     },
     "execution_count": 5,
     "metadata": {},
     "output_type": "execute_result"
    }
   ],
   "source": [
    "round(13654.4654,0)"
   ]
  },
  {
   "cell_type": "code",
   "execution_count": 6,
   "id": "634e8d04-45d9-4998-aea3-6671ff6da76a",
   "metadata": {},
   "outputs": [
    {
     "data": {
      "text/plain": [
       "13650.0"
      ]
     },
     "execution_count": 6,
     "metadata": {},
     "output_type": "execute_result"
    }
   ],
   "source": [
    "round(13654.4654,-1)"
   ]
  },
  {
   "cell_type": "code",
   "execution_count": 7,
   "id": "e055be6c-0222-4351-b180-f26a0ac50504",
   "metadata": {},
   "outputs": [
    {
     "data": {
      "application/javascript": [
       "parent.postMessage({\"jupyterEvent\": \"custom.exercise_interaction\", \"data\": {\"interactionType\": 3, \"questionType\": 4, \"questionId\": \"2_RoundNdigitsProblem\", \"learnToolsVersion\": \"0.3.5\", \"valueTowardsCompletion\": 0.0, \"failureMessage\": \"\", \"exceptionClass\": \"\", \"trace\": \"\", \"outcomeType\": 4}}, \"*\")"
      ],
      "text/plain": [
       "<IPython.core.display.Javascript object>"
      ]
     },
     "metadata": {},
     "output_type": "display_data"
    },
    {
     "data": {
      "text/markdown": [
       "<span style=\"color:#33cc99\">Solution:</span> As you've seen, `ndigits=-1` rounds to the nearest 10, `ndigits=-2` rounds to the nearest 100 and so on. Where might this be useful? Suppose we're dealing with large numbers:\n",
       "\n",
       "> The area of Finland is 338,424 km²  \n",
       "> The area of Greenland is 2,166,086 km²\n",
       "\n",
       "We probably don't care whether it's really 338,424, or 338,425, or 338,177. All those digits of accuracy are just distracting. We can chop them off by calling `round()` with `ndigits=-3`:\n",
       "\n",
       "> The area of Finland is 338,000 km²  \n",
       "> The area of Greenland is 2,166,000 km²\n",
       "\n",
       "(We'll talk about how we would get the commas later when we talk about string formatting :))\n"
      ],
      "text/plain": [
       "Solution: As you've seen, `ndigits=-1` rounds to the nearest 10, `ndigits=-2` rounds to the nearest 100 and so on. Where might this be useful? Suppose we're dealing with large numbers:\n",
       "\n",
       "> The area of Finland is 338,424 km²  \n",
       "> The area of Greenland is 2,166,086 km²\n",
       "\n",
       "We probably don't care whether it's really 338,424, or 338,425, or 338,177. All those digits of accuracy are just distracting. We can chop them off by calling `round()` with `ndigits=-3`:\n",
       "\n",
       "> The area of Finland is 338,000 km²  \n",
       "> The area of Greenland is 2,166,000 km²\n",
       "\n",
       "(We'll talk about how we would get the commas later when we talk about string formatting :))"
      ]
     },
     "metadata": {},
     "output_type": "display_data"
    }
   ],
   "source": [
    "# Check your answer (Run this code cell to receive credit!)\n",
    "q2.solution()"
   ]
  },
  {
   "cell_type": "markdown",
   "id": "f6fe9a43-126c-498d-885e-be7bb17c5953",
   "metadata": {},
   "source": [
    "## Question 3:"
   ]
  },
  {
   "cell_type": "markdown",
   "id": "d7a2ab24-51e9-4507-9e5e-35ff64339cc1",
   "metadata": {},
   "source": [
    "In a previous programming problem, the candy-sharing friends Alice, Bob and Carol tried to split candies evenly. For the sake of their friendship, any candies left over would be smashed. For example, if they collectively bring home 91 candies, they'll take 30 each and smash 1.\n",
    "\n",
    "Below is a simple function that will calculate the number of candies to smash for *any* number of total candies.\n",
    "\n",
    "Modify it so that it optionally takes a second argument representing the number of friends the candies are being split between. If no second argument is provided, it should assume 3 friends, as before.\n",
    "\n",
    "Update the docstring to reflect this new behaviour."
   ]
  },
  {
   "cell_type": "code",
   "execution_count": 8,
   "id": "86709c79-ab1b-45d6-941e-12fa0f2814db",
   "metadata": {},
   "outputs": [],
   "source": [
    "def to_smash(total_candies, num_of_friends=3):\n",
    "    \"\"\"Return the number of leftover candies that must be smashed after distributing\n",
    "    the given number of candies evenly between 3 friends.\n",
    "    \n",
    "    >>> to_smash(91)\n",
    "    1\n",
    "    \"\"\"\n",
    "    return total_candies % num_of_friends"
   ]
  },
  {
   "cell_type": "code",
   "execution_count": 9,
   "id": "be18cc33-67e9-4e50-abf4-42fdbf5d0e5c",
   "metadata": {},
   "outputs": [
    {
     "data": {
      "text/plain": [
       "4"
      ]
     },
     "execution_count": 9,
     "metadata": {},
     "output_type": "execute_result"
    }
   ],
   "source": [
    "to_smash(100, 6)"
   ]
  },
  {
   "cell_type": "code",
   "execution_count": 10,
   "id": "4a27b783-1766-4c16-9f09-f2ebf8364a72",
   "metadata": {},
   "outputs": [
    {
     "data": {
      "text/plain": [
       "58"
      ]
     },
     "execution_count": 10,
     "metadata": {},
     "output_type": "execute_result"
    }
   ],
   "source": [
    "to_smash(1234564, 78)"
   ]
  },
  {
   "cell_type": "code",
   "execution_count": 11,
   "id": "e619277e-c2b8-44ac-a09a-b38800011d66",
   "metadata": {},
   "outputs": [
    {
     "data": {
      "text/plain": [
       "0"
      ]
     },
     "execution_count": 11,
     "metadata": {},
     "output_type": "execute_result"
    }
   ],
   "source": [
    "to_smash(50,5)"
   ]
  },
  {
   "cell_type": "code",
   "execution_count": 12,
   "id": "8e14f603-3131-4dc4-a5eb-3c679d4383e8",
   "metadata": {},
   "outputs": [
    {
     "data": {
      "application/javascript": [
       "parent.postMessage({\"jupyterEvent\": \"custom.exercise_interaction\", \"data\": {\"outcomeType\": 1, \"valueTowardsCompletion\": 0.16666666666666666, \"interactionType\": 1, \"questionType\": 2, \"questionId\": \"3_CandySmashingFunctionProblem\", \"learnToolsVersion\": \"0.3.5\", \"failureMessage\": \"\", \"exceptionClass\": \"\", \"trace\": \"\"}}, \"*\")"
      ],
      "text/plain": [
       "<IPython.core.display.Javascript object>"
      ]
     },
     "metadata": {},
     "output_type": "display_data"
    },
    {
     "data": {
      "text/markdown": [
       "<span style=\"color:#33cc33\">Correct</span>"
      ],
      "text/plain": [
       "Correct"
      ]
     },
     "metadata": {},
     "output_type": "display_data"
    }
   ],
   "source": [
    "# Check your answer\n",
    "q3.check()"
   ]
  },
  {
   "cell_type": "code",
   "execution_count": 13,
   "id": "c1428ddc-c44e-447b-ba10-d96c2a0c5795",
   "metadata": {},
   "outputs": [],
   "source": [
    "# Uncomment the following for a hint\n",
    "#q3.hint()\n",
    "# Or uncomment the following to peek at the solution\n",
    "#q3.solution()"
   ]
  },
  {
   "cell_type": "markdown",
   "id": "9b3e13a9-e132-44b1-a59e-6aaa5c99d496",
   "metadata": {},
   "source": [
    "## Question 4: (Optional)"
   ]
  },
  {
   "cell_type": "markdown",
   "id": "c07b350c-0f8b-482b-81d6-120b4be51a9a",
   "metadata": {},
   "source": [
    "It may not be fun, but reading and understanding error messages will be an important part of your Python career.\n",
    "\n",
    "Each code cell below contains some commented-out buggy code. For each cell...\n",
    "\n",
    "1. Read the code and predict what you think will happen when it's run.\n",
    "2. Then uncomment the code and run it to see what happens. (**Tip**: In the kernel editor, you can highlight several lines and press `ctrl`+`/` to toggle commenting.)\n",
    "3. Fix the code (so that it accomplishes its intended purpose without throwing an exception)\n",
    "\n",
    "$\\textcolor{blue}{(\\textit{Comment from Shaun:}\\ \\text{Since Kaggle's exercises always have the answer already entered, I have to guess/make up code that would give an error...})}$ \n",
    "\n",
    "<!-- TODO: should this be autochecked? Delta is probably pretty small. -->"
   ]
  },
  {
   "cell_type": "code",
   "execution_count": 14,
   "id": "43b1fb31-57ea-4558-b972-dc5eceae05a5",
   "metadata": {},
   "outputs": [
    {
     "ename": "TypeError",
     "evalue": "round_to_two_places() takes 1 positional argument but 2 were given",
     "output_type": "error",
     "traceback": [
      "\u001b[1;31m---------------------------------------------------------------------------\u001b[0m",
      "\u001b[1;31mTypeError\u001b[0m                                 Traceback (most recent call last)",
      "Cell \u001b[1;32mIn[14], line 2\u001b[0m\n\u001b[0;32m      1\u001b[0m \u001b[38;5;66;03m# Cell 1 with mistake\u001b[39;00m\n\u001b[1;32m----> 2\u001b[0m round_to_two_places(\u001b[38;5;241m9.9999\u001b[39m,\u001b[38;5;241m2\u001b[39m)\n",
      "\u001b[1;31mTypeError\u001b[0m: round_to_two_places() takes 1 positional argument but 2 were given"
     ]
    }
   ],
   "source": [
    "# Cell 1 with mistake\n",
    "round_to_two_places(9.9999,2)"
   ]
  },
  {
   "cell_type": "code",
   "execution_count": null,
   "id": "1a04ac92-b049-4cd9-8012-7d67401dc0ac",
   "metadata": {},
   "outputs": [],
   "source": [
    "# Cell 1 with correction\n",
    "round_to_two_places(9.9999)"
   ]
  },
  {
   "cell_type": "code",
   "execution_count": null,
   "id": "1fa7bf45-d572-40d6-ba5f-54996fd11c57",
   "metadata": {},
   "outputs": [],
   "source": [
    "# Cell 2 with mistake\n",
    "x = -'ten'\n",
    "y = 'five'\n",
    "# Which of the two variables above has the smallest absolute value?\n",
    "smallest_abs = min(abs(x),abs(y))\n",
    "print(smallest_abs)"
   ]
  },
  {
   "cell_type": "code",
   "execution_count": null,
   "id": "01ccfe1a-80a2-4ee3-9e5a-44c96447f1e5",
   "metadata": {},
   "outputs": [],
   "source": [
    "# Cell 2 with correction\n",
    "x = -10\n",
    "y = 5\n",
    "# Which of the two variables above has the smallest absolute value?\n",
    "smallest_abs = min(abs(x),abs(y))\n",
    "print(smallest_abs)"
   ]
  },
  {
   "cell_type": "code",
   "execution_count": null,
   "id": "415a1084-e0a7-48d3-aae5-abe9d9b9e5b7",
   "metadata": {},
   "outputs": [],
   "source": [
    "# Cell 3 with mistake\n",
    "def f(x):\n",
    "    y = abs(x)\n",
    "    return f(x)\n",
    "\n",
    "print(f(5))"
   ]
  },
  {
   "cell_type": "code",
   "execution_count": null,
   "id": "495a13d0-72eb-49da-b05d-e0fcd9273c49",
   "metadata": {},
   "outputs": [],
   "source": [
    "# Cell with correction\n",
    "def f(x):\n",
    "    y = abs(x)\n",
    "    return y\n",
    "\n",
    "print(f(5))"
   ]
  },
  {
   "cell_type": "code",
   "execution_count": null,
   "id": "4e8d24ac-2e64-40d8-8207-08365985e760",
   "metadata": {},
   "outputs": [],
   "source": []
  }
 ],
 "metadata": {
  "kernelspec": {
   "display_name": "Python [conda env:base] *",
   "language": "python",
   "name": "conda-base-py"
  },
  "language_info": {
   "codemirror_mode": {
    "name": "ipython",
    "version": 3
   },
   "file_extension": ".py",
   "mimetype": "text/x-python",
   "name": "python",
   "nbconvert_exporter": "python",
   "pygments_lexer": "ipython3",
   "version": "3.12.7"
  }
 },
 "nbformat": 4,
 "nbformat_minor": 5
}
