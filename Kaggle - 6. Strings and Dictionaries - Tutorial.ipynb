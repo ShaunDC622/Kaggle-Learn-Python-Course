{
 "cells": [
  {
   "cell_type": "markdown",
   "id": "9067d4ce-4c05-40c5-98b8-597269598e44",
   "metadata": {},
   "source": [
    "# Strings and Dictionaries"
   ]
  },
  {
   "cell_type": "code",
   "execution_count": 1,
   "id": "9db1a5ee-fdf7-416c-8761-b3773a210ff9",
   "metadata": {},
   "outputs": [
    {
     "name": "stdout",
     "output_type": "stream",
     "text": [
      "Requirement already satisfied: jupyterlab-mathjax2 in c:\\users\\shaun de carvalho\\anaconda3\\lib\\site-packages (4.0.0)\n",
      "Note: you may need to restart the kernel to use updated packages.\n"
     ]
    }
   ],
   "source": [
    "pip install jupyterlab-mathjax2"
   ]
  },
  {
   "cell_type": "markdown",
   "id": "607f2d70-4772-44d3-8720-593639a67af5",
   "metadata": {},
   "source": [
    "## Strings"
   ]
  },
  {
   "cell_type": "markdown",
   "id": "11de4f9a-a8b9-4faf-8541-ba1829cf8f40",
   "metadata": {},
   "source": [
    "The Python language shines bright in the manipulation of strings. This section will cover some of Python's built-in string methods and formatting operations.\n",
    "\n",
    "Such string manipulation patterns come up often in the context of **data science** work."
   ]
  },
  {
   "cell_type": "markdown",
   "id": "6cc63e3a-b83c-43b0-a73e-8b26353cf8ad",
   "metadata": {},
   "source": [
    "### String syntax"
   ]
  },
  {
   "cell_type": "markdown",
   "id": "f2994cc3-f946-47d4-9a5e-54daadf928f0",
   "metadata": {},
   "source": [
    "As a recap, strings in Python can be defined using either single or double quotations; they are functionally equivalent. The example below confirms this:"
   ]
  },
  {
   "cell_type": "code",
   "execution_count": 2,
   "id": "bcf8b511-714b-4f45-9024-3cdfaea5f3aa",
   "metadata": {},
   "outputs": [
    {
     "data": {
      "text/plain": [
       "True"
      ]
     },
     "execution_count": 2,
     "metadata": {},
     "output_type": "execute_result"
    }
   ],
   "source": [
    "x = 'Pluto is a planet'\n",
    "y = \"Pluto is a planet\"\n",
    "x == y"
   ]
  },
  {
   "cell_type": "markdown",
   "id": "b0805954-c7b8-4713-a9f1-02f9e12276e4",
   "metadata": {},
   "source": [
    "You might be asking yourself when it would be preferable to use one version over the other; it depends on the context. Double quotes are convenient if the string contains a single quote character; an example is a string that makes use of an apostrophe.\n",
    "\n",
    "Similarly, it is easy to create a string that contains double quotes if you wrap it in single quotes:"
   ]
  },
  {
   "cell_type": "code",
   "execution_count": 3,
   "id": "3a562ab1-7643-424f-9a99-4477db4cc85e",
   "metadata": {},
   "outputs": [
    {
     "name": "stdout",
     "output_type": "stream",
     "text": [
      "Pluto's a planet!\n",
      "My dog is named \"Pluto\"\n"
     ]
    }
   ],
   "source": [
    "print(\"Pluto's a planet!\")\n",
    "print('My dog is named \"Pluto\"')"
   ]
  },
  {
   "cell_type": "markdown",
   "id": "3bb3a57f-9f37-4e61-a9d2-687c2a681df6",
   "metadata": {},
   "source": [
    "If we try to stick with one type of quotation for strings, you could run into problems. An example of this is below:"
   ]
  },
  {
   "cell_type": "code",
   "execution_count": 4,
   "id": "a9dcd213-ef50-4d77-b999-9d02327c31fd",
   "metadata": {},
   "outputs": [
    {
     "ename": "SyntaxError",
     "evalue": "unterminated string literal (detected at line 1) (1561186517.py, line 1)",
     "output_type": "error",
     "traceback": [
      "\u001b[1;36m  Cell \u001b[1;32mIn[4], line 1\u001b[1;36m\u001b[0m\n\u001b[1;33m    'Pluto's a planet!'\u001b[0m\n\u001b[1;37m                      ^\u001b[0m\n\u001b[1;31mSyntaxError\u001b[0m\u001b[1;31m:\u001b[0m unterminated string literal (detected at line 1)\n"
     ]
    }
   ],
   "source": [
    "'Pluto's a planet!'"
   ]
  },
  {
   "cell_type": "markdown",
   "id": "357bb9a4-46b8-471f-a86c-92090d8e665f",
   "metadata": {},
   "source": [
    "One way to fix or resolve this is to use a backslash to the apostrophe:"
   ]
  },
  {
   "cell_type": "code",
   "execution_count": 5,
   "id": "de3c8e28-1185-4359-8693-c7d997ce91e8",
   "metadata": {},
   "outputs": [
    {
     "data": {
      "text/plain": [
       "\"Pluto's a planet!\""
      ]
     },
     "execution_count": 5,
     "metadata": {},
     "output_type": "execute_result"
    }
   ],
   "source": [
    "'Pluto\\'s a planet!'"
   ]
  },
  {
   "cell_type": "markdown",
   "id": "156f9bd8-3d86-4eb1-8153-77754deb9101",
   "metadata": {},
   "source": [
    "The table below summarises the uses of backslash in strings:\n",
    "\n",
    "(i)  \\ '  gives  '. An example of this is: 'What\\'s up?' gives What's up? .\n",
    "\n",
    "(ii)  \\ \"  gives  \". An example of this is: \"That's \\\"cool\\\"\" gives That's \"cool\" .\n",
    "\n",
    "(iii)  \\ \\  gives \\. An example of this is: \"Look, a mountain: / \\ \\ \" gives Look, a mountain: /\\ .\n",
    "\n",
    "(iv)  \\n   gives  . An example of this is: \"1\\n 2 3\" gives \n",
    "\n",
    "1 <br> 2 3 ."
   ]
  },
  {
   "cell_type": "markdown",
   "id": "c1ce649c-2ec2-4db0-808d-0ea79f9f1d61",
   "metadata": {},
   "source": [
    "The last point above, `\\n`, represents the *newline* character; it causes Python to start a new line. See an example below:"
   ]
  },
  {
   "cell_type": "code",
   "execution_count": 6,
   "id": "043faa72-bf98-4538-8643-e2978972fa16",
   "metadata": {},
   "outputs": [
    {
     "name": "stdout",
     "output_type": "stream",
     "text": [
      "hello\n",
      "world\n"
     ]
    }
   ],
   "source": [
    "hello = \"hello\\nworld\"\n",
    "print(hello)"
   ]
  },
  {
   "cell_type": "markdown",
   "id": "0d2fcde6-36d9-449e-9e86-12087760c5e4",
   "metadata": {},
   "source": [
    "In addition, Python's triple quote syntax for strings lets us include newlines literally, i.e. by just hitting 'Enter' on our keyboard, rather than using the special '\\n' sequence. We have already seen this in the docstrings we use to document our functions, but we can use them anywhere we want to define a string; see the example below:"
   ]
  },
  {
   "cell_type": "code",
   "execution_count": 7,
   "id": "afb6d262-c950-417c-b44f-1c43e3f02efd",
   "metadata": {},
   "outputs": [
    {
     "name": "stdout",
     "output_type": "stream",
     "text": [
      "hello\n",
      "world\n"
     ]
    }
   ],
   "source": [
    "triplequoted_hello = \"\"\"hello\n",
    "world\"\"\"\n",
    "print(triplequoted_hello)"
   ]
  },
  {
   "cell_type": "code",
   "execution_count": 8,
   "id": "6b096698-0a81-453a-a7e5-9613dde6a3c9",
   "metadata": {},
   "outputs": [
    {
     "data": {
      "text/plain": [
       "True"
      ]
     },
     "execution_count": 8,
     "metadata": {},
     "output_type": "execute_result"
    }
   ],
   "source": [
    "triplequoted_hello == hello # Are these the same?"
   ]
  },
  {
   "cell_type": "markdown",
   "id": "bffd78e1-c5e5-420e-b242-50dacb93e9e6",
   "metadata": {},
   "source": [
    "The `print()` function automatically adds a newline character unless we specify a value for the keyword argument end other than the default value of `'\\n'`:"
   ]
  },
  {
   "cell_type": "code",
   "execution_count": 9,
   "id": "884e3476-0bf6-4e17-adb5-954003556add",
   "metadata": {},
   "outputs": [
    {
     "name": "stdout",
     "output_type": "stream",
     "text": [
      "hello\n",
      "world\n",
      "hellopluto"
     ]
    }
   ],
   "source": [
    "print(\"hello\")\n",
    "print(\"world\")\n",
    "print(\"hello\", end='')\n",
    "print(\"pluto\", end='')"
   ]
  },
  {
   "cell_type": "markdown",
   "id": "dec9c8ad-2257-4cf7-b7f3-fee45f0538a7",
   "metadata": {},
   "source": [
    "### Strings are sequences"
   ]
  },
  {
   "cell_type": "markdown",
   "id": "bb320a99-46e0-4d85-97ec-de8d42cc4e41",
   "metadata": {},
   "source": [
    "Strings can be thought of as sequences of characters. Almost everything we have seen that we can do to a list can also be done to a string."
   ]
  },
  {
   "cell_type": "code",
   "execution_count": 10,
   "id": "0ed7ca9d-f5d8-4136-bb92-d7e176a0e434",
   "metadata": {},
   "outputs": [
    {
     "data": {
      "text/plain": [
       "'P'"
      ]
     },
     "execution_count": 10,
     "metadata": {},
     "output_type": "execute_result"
    }
   ],
   "source": [
    "# Indexing\n",
    "planet = 'Pluto'\n",
    "planet[0]"
   ]
  },
  {
   "cell_type": "code",
   "execution_count": 11,
   "id": "5a5a849b-8dd6-4ebc-af38-bb99105f9100",
   "metadata": {},
   "outputs": [
    {
     "data": {
      "text/plain": [
       "'o'"
      ]
     },
     "execution_count": 11,
     "metadata": {},
     "output_type": "execute_result"
    }
   ],
   "source": [
    "planet[-1]"
   ]
  },
  {
   "cell_type": "code",
   "execution_count": 12,
   "id": "f7cc9bfd-b43f-42eb-b4c1-3269aa26f238",
   "metadata": {},
   "outputs": [
    {
     "data": {
      "text/plain": [
       "'u'"
      ]
     },
     "execution_count": 12,
     "metadata": {},
     "output_type": "execute_result"
    }
   ],
   "source": [
    "planet[int(len(planet)/2)]"
   ]
  },
  {
   "cell_type": "code",
   "execution_count": 13,
   "id": "30e4ecd8-8873-471e-be71-dfd658f2960c",
   "metadata": {},
   "outputs": [
    {
     "data": {
      "text/plain": [
       "'uto'"
      ]
     },
     "execution_count": 13,
     "metadata": {},
     "output_type": "execute_result"
    }
   ],
   "source": [
    "# Slicing\n",
    "planet[-3:]"
   ]
  },
  {
   "cell_type": "code",
   "execution_count": 14,
   "id": "d69cb22b-b998-4586-8b35-c3b44ab7e787",
   "metadata": {},
   "outputs": [
    {
     "data": {
      "text/plain": [
       "'Pl'"
      ]
     },
     "execution_count": 14,
     "metadata": {},
     "output_type": "execute_result"
    }
   ],
   "source": [
    "planet[:2]"
   ]
  },
  {
   "cell_type": "code",
   "execution_count": 15,
   "id": "6df067d6-c91e-4a83-817e-af5536cd5038",
   "metadata": {},
   "outputs": [
    {
     "data": {
      "text/plain": [
       "'lu'"
      ]
     },
     "execution_count": 15,
     "metadata": {},
     "output_type": "execute_result"
    }
   ],
   "source": [
    "planet[1:3]"
   ]
  },
  {
   "cell_type": "code",
   "execution_count": 16,
   "id": "4664174b-09b9-4189-ac37-0d151354a1e1",
   "metadata": {},
   "outputs": [
    {
     "data": {
      "text/plain": [
       "5"
      ]
     },
     "execution_count": 16,
     "metadata": {},
     "output_type": "execute_result"
    }
   ],
   "source": [
    "# How long is this string?\n",
    "len(planet)"
   ]
  },
  {
   "cell_type": "code",
   "execution_count": 17,
   "id": "c25265b2-2265-4203-8d38-94493ab20e94",
   "metadata": {},
   "outputs": [
    {
     "data": {
      "text/plain": [
       "55"
      ]
     },
     "execution_count": 17,
     "metadata": {},
     "output_type": "execute_result"
    }
   ],
   "source": [
    "len(planet) + len(planet) * 2*len(planet)"
   ]
  },
  {
   "cell_type": "code",
   "execution_count": 18,
   "id": "25ea9057-5d90-41bc-88c8-e22bec3cb45a",
   "metadata": {},
   "outputs": [
    {
     "data": {
      "text/plain": [
       "['P!', 'l!', 'u!', 't!', 'o!']"
      ]
     },
     "execution_count": 18,
     "metadata": {},
     "output_type": "execute_result"
    }
   ],
   "source": [
    "# We can even loop over them\n",
    "[char +'!' for char in planet]"
   ]
  },
  {
   "cell_type": "markdown",
   "id": "af5ea3ec-e475-4e61-a9c2-65810bf82220",
   "metadata": {},
   "source": [
    "However, a major way strings differ from lists is that they are immutable (like tuples); we cannot modify them. See an example below:"
   ]
  },
  {
   "cell_type": "code",
   "execution_count": 19,
   "id": "a69b7c05-74a7-4a54-a027-c97cb3b788fd",
   "metadata": {},
   "outputs": [
    {
     "ename": "TypeError",
     "evalue": "'str' object does not support item assignment",
     "output_type": "error",
     "traceback": [
      "\u001b[1;31m---------------------------------------------------------------------------\u001b[0m",
      "\u001b[1;31mTypeError\u001b[0m                                 Traceback (most recent call last)",
      "Cell \u001b[1;32mIn[19], line 1\u001b[0m\n\u001b[1;32m----> 1\u001b[0m planet[\u001b[38;5;241m0\u001b[39m] \u001b[38;5;241m=\u001b[39m \u001b[38;5;124m'\u001b[39m\u001b[38;5;124mB\u001b[39m\u001b[38;5;124m'\u001b[39m\n",
      "\u001b[1;31mTypeError\u001b[0m: 'str' object does not support item assignment"
     ]
    }
   ],
   "source": [
    "planet[0] = 'B'\n",
    "# planet.append does not work either"
   ]
  },
  {
   "cell_type": "markdown",
   "id": "1db131e7-ff99-4e6f-85ca-f40e2d22e5fd",
   "metadata": {},
   "source": [
    "### String methods"
   ]
  },
  {
   "cell_type": "markdown",
   "id": "8b0a57ca-5f37-4071-a8f3-0ae19eaf4ad4",
   "metadata": {},
   "source": [
    "Like `list`, the type `str` has lots of very useful methods. Below are a few examples:"
   ]
  },
  {
   "cell_type": "code",
   "execution_count": 20,
   "id": "f145ccff-c1d6-4d85-9565-3e7e011366e2",
   "metadata": {},
   "outputs": [
    {
     "data": {
      "text/plain": [
       "'PLUTO IS A PLANET!'"
      ]
     },
     "execution_count": 20,
     "metadata": {},
     "output_type": "execute_result"
    }
   ],
   "source": [
    "# ALL CAPS\n",
    "claim = \"Pluto is a planet!\"\n",
    "claim.upper()"
   ]
  },
  {
   "cell_type": "code",
   "execution_count": 21,
   "id": "143dc87f-2d35-4bc5-a4c9-aa0ca5fa98e0",
   "metadata": {},
   "outputs": [
    {
     "data": {
      "text/plain": [
       "11"
      ]
     },
     "execution_count": 21,
     "metadata": {},
     "output_type": "execute_result"
    }
   ],
   "source": [
    "# Searching for the first index of a substring\n",
    "claim.index('plan')"
   ]
  },
  {
   "cell_type": "code",
   "execution_count": 22,
   "id": "487b51d1-b418-4d44-94fd-27fcff26ad11",
   "metadata": {},
   "outputs": [
    {
     "data": {
      "text/plain": [
       "True"
      ]
     },
     "execution_count": 22,
     "metadata": {},
     "output_type": "execute_result"
    }
   ],
   "source": [
    "claim.startswith(planet) # This will return True because the string list 'planet' shares the same starting string as 'claim'."
   ]
  },
  {
   "cell_type": "code",
   "execution_count": 23,
   "id": "18e9e951-ecfa-4969-a7a8-6f37974d9634",
   "metadata": {},
   "outputs": [
    {
     "data": {
      "text/plain": [
       "False"
      ]
     },
     "execution_count": 23,
     "metadata": {},
     "output_type": "execute_result"
    }
   ],
   "source": [
    "claim.startswith(\"planet\") # It will return False because the string list 'claim' starts with \"Pluto\", not 'pluto'. It is case sensitive."
   ]
  },
  {
   "cell_type": "code",
   "execution_count": 24,
   "id": "a8b510aa-03f9-4a28-83fb-13df83783762",
   "metadata": {},
   "outputs": [
    {
     "data": {
      "text/plain": [
       "False"
      ]
     },
     "execution_count": 24,
     "metadata": {},
     "output_type": "execute_result"
    }
   ],
   "source": [
    "claim.startswith(\"pluto\")"
   ]
  },
  {
   "cell_type": "code",
   "execution_count": 25,
   "id": "0716ee1c-0d9e-4662-8682-1f4c3b00330f",
   "metadata": {},
   "outputs": [
    {
     "data": {
      "text/plain": [
       "True"
      ]
     },
     "execution_count": 25,
     "metadata": {},
     "output_type": "execute_result"
    }
   ],
   "source": [
    "claim.startswith(\"Pluto\")"
   ]
  },
  {
   "cell_type": "code",
   "execution_count": 26,
   "id": "54fe931a-8f78-4169-96ab-d5dd9b0f50a0",
   "metadata": {},
   "outputs": [
    {
     "data": {
      "text/plain": [
       "False"
      ]
     },
     "execution_count": 26,
     "metadata": {},
     "output_type": "execute_result"
    }
   ],
   "source": [
    "# false because of missing exclamation mark\n",
    "claim.endswith('planet')"
   ]
  },
  {
   "cell_type": "markdown",
   "id": "54512f40-aa8f-4d30-811c-cb5a6f6c09f5",
   "metadata": {},
   "source": [
    "#### Going between strings and lists: `.split()` and `.join()`"
   ]
  },
  {
   "cell_type": "markdown",
   "id": "bf423f6d-0114-401b-b993-cd2b5245fc14",
   "metadata": {},
   "source": [
    "`str.split()` turns a string into a list of smaller strings, breaking on whitespace by default. This is super useful for taking you from one big string to a list of words. An example of this is below:"
   ]
  },
  {
   "cell_type": "code",
   "execution_count": 27,
   "id": "b944a780-f88b-45e0-a8ee-29c22f98274a",
   "metadata": {},
   "outputs": [
    {
     "data": {
      "text/plain": [
       "['Pluto', 'is', 'a', 'planet!']"
      ]
     },
     "execution_count": 27,
     "metadata": {},
     "output_type": "execute_result"
    }
   ],
   "source": [
    "words = claim.split()\n",
    "words"
   ]
  },
  {
   "cell_type": "markdown",
   "id": "c58191e5-bd9c-4d23-9a5c-6f986f020691",
   "metadata": {},
   "source": [
    "There will come a time when you will want to split on something other than whitespace:"
   ]
  },
  {
   "cell_type": "code",
   "execution_count": 28,
   "id": "8aca6513-4c79-4f86-b47b-4412308f954a",
   "metadata": {},
   "outputs": [],
   "source": [
    "datestr = '1956-01-31'\n",
    "year, month, day = datestr.split('-')"
   ]
  },
  {
   "cell_type": "markdown",
   "id": "e9060d3b-3763-44aa-ab31-34843345c643",
   "metadata": {},
   "source": [
    "`str.join()` takes us in the other direction, sewing a list of strings up into one long string, using the string it was called on as a separator. Let us one again use the string list we just split, 'datestr', for demonstration:"
   ]
  },
  {
   "cell_type": "code",
   "execution_count": 29,
   "id": "c8131d77-6356-4711-a3eb-ba98c015a69e",
   "metadata": {},
   "outputs": [
    {
     "data": {
      "text/plain": [
       "'01/31/1956'"
      ]
     },
     "execution_count": 29,
     "metadata": {},
     "output_type": "execute_result"
    }
   ],
   "source": [
    "'/'.join([month, day, year])"
   ]
  },
  {
   "cell_type": "code",
   "execution_count": 30,
   "id": "f290f9a3-9e94-4829-8b2e-d75339df264f",
   "metadata": {},
   "outputs": [
    {
     "data": {
      "text/plain": [
       "'PLUTO 👏 IS 👏 A 👏 PLANET!'"
      ]
     },
     "execution_count": 30,
     "metadata": {},
     "output_type": "execute_result"
    }
   ],
   "source": [
    "# Yes, we can put unicode characters right in our string literals :)\n",
    "' 👏 '.join([word.upper() for word in words])"
   ]
  },
  {
   "cell_type": "markdown",
   "id": "c8b74078-da8e-485f-ae9b-e5f07b1f78d5",
   "metadata": {},
   "source": [
    "#### Building strings with `.format()`"
   ]
  },
  {
   "cell_type": "markdown",
   "id": "d9961516-500e-4ba6-ae3e-20642771af42",
   "metadata": {},
   "source": [
    "We can concatenate (i.e. string together) strings with the `+` operator; see the example below demonstrating this:"
   ]
  },
  {
   "cell_type": "code",
   "execution_count": 31,
   "id": "3056e89b-3215-4a13-b65f-457b131deea3",
   "metadata": {},
   "outputs": [
    {
     "data": {
      "text/plain": [
       "'Pluto, we miss you.'"
      ]
     },
     "execution_count": 31,
     "metadata": {},
     "output_type": "execute_result"
    }
   ],
   "source": [
    "planet + ', we miss you.'"
   ]
  },
  {
   "cell_type": "markdown",
   "id": "530eacb4-4a06-4e4d-9973-8988559c4b27",
   "metadata": {},
   "source": [
    "If you wish to concatenate items that are not the `str` datatype, you have to first convert it using `str()`:"
   ]
  },
  {
   "cell_type": "code",
   "execution_count": 33,
   "id": "cab4cf26-da4b-4f7d-8dde-e28f3a2b490c",
   "metadata": {},
   "outputs": [
    {
     "ename": "TypeError",
     "evalue": "can only concatenate str (not \"int\") to str",
     "output_type": "error",
     "traceback": [
      "\u001b[1;31m---------------------------------------------------------------------------\u001b[0m",
      "\u001b[1;31mTypeError\u001b[0m                                 Traceback (most recent call last)",
      "Cell \u001b[1;32mIn[33], line 2\u001b[0m\n\u001b[0;32m      1\u001b[0m position \u001b[38;5;241m=\u001b[39m \u001b[38;5;241m9\u001b[39m\n\u001b[1;32m----> 2\u001b[0m planet \u001b[38;5;241m+\u001b[39m \u001b[38;5;124m\"\u001b[39m\u001b[38;5;124m, you\u001b[39m\u001b[38;5;124m'\u001b[39m\u001b[38;5;124mll always be the \u001b[39m\u001b[38;5;124m\"\u001b[39m \u001b[38;5;241m+\u001b[39m position \u001b[38;5;241m+\u001b[39m \u001b[38;5;124m\"\u001b[39m\u001b[38;5;124mth planet to me.\u001b[39m\u001b[38;5;124m\"\u001b[39m\n",
      "\u001b[1;31mTypeError\u001b[0m: can only concatenate str (not \"int\") to str"
     ]
    }
   ],
   "source": [
    "position = 9\n",
    "# Instead of taking this approach...\n",
    "planet + \", you'll always be the \" + position + \"th planet to me.\""
   ]
  },
  {
   "cell_type": "code",
   "execution_count": 34,
   "id": "3c1846c1-10e5-45cb-a16c-b21dee4201c8",
   "metadata": {},
   "outputs": [
    {
     "data": {
      "text/plain": [
       "\"Pluto, you'll always be the 9th planet to me.\""
      ]
     },
     "execution_count": 34,
     "metadata": {},
     "output_type": "execute_result"
    }
   ],
   "source": [
    "# Use this approach without fail:\n",
    "planet + \", you'll always be the \" + str(position) + \"th planet to me.\""
   ]
  },
  {
   "cell_type": "markdown",
   "id": "8c213c13-2a8b-417e-a21c-580d4ebcd1ae",
   "metadata": {},
   "source": [
    "It is becoming rather tedious typing out these with the approach we are currently using; let us rather make use of `str.format()` to aid us. See below:"
   ]
  },
  {
   "cell_type": "code",
   "execution_count": 35,
   "id": "aebf0678-592d-4e17-a883-8d7589883544",
   "metadata": {},
   "outputs": [
    {
     "data": {
      "text/plain": [
       "\"Pluto, you'll always be the 9th planet to me.\""
      ]
     },
     "execution_count": 35,
     "metadata": {},
     "output_type": "execute_result"
    }
   ],
   "source": [
    "\"{}, you'll always be the {}th planet to me.\".format(planet, position)"
   ]
  },
  {
   "cell_type": "markdown",
   "id": "230ce855-7e20-4e99-b377-f67fcb6bbc89",
   "metadata": {},
   "source": [
    "It should be clear that `.format` will put into the place of `{}` the values we place in its arguments in the order both of them follow, i.e. in a respective manner.\n",
    " <br> <br>\n",
    "It is important to note that we did not need to convert 'position' using `str()` since `format()` does it already in its stead. \n",
    "<br>\n",
    "It can do a lot more than just that; let us see below what else it can do:"
   ]
  },
  {
   "cell_type": "code",
   "execution_count": 47,
   "id": "0aeba301-1a61-4e85-a39b-9e27ce7274cc",
   "metadata": {},
   "outputs": [
    {
     "data": {
      "text/plain": [
       "\"Pluto weighs about 1.3e+22 kilograms (0.218% of Earth's mass). It is home to 52,910,390 Plutonians.\""
      ]
     },
     "execution_count": 47,
     "metadata": {},
     "output_type": "execute_result"
    }
   ],
   "source": [
    "pluto_mass = 1.303 * 10**22\n",
    "earth_mass = 5.9722 * 10**24\n",
    "population = 52910390\n",
    "#         2 sig figures   3 decimal pts, format as percentage     separate with commas\n",
    "\"{} weighs about {:.2} kilograms ({:.3%} of Earth's mass). It is home to {:,} Plutonians.\".format(\n",
    "    planet, pluto_mass, pluto_mass / earth_mass, population)"
   ]
  },
  {
   "cell_type": "markdown",
   "id": "dea44176-e6e0-49e7-8832-77000aa0e5d3",
   "metadata": {},
   "source": [
    "Another example is as seen below:"
   ]
  },
  {
   "cell_type": "code",
   "execution_count": 53,
   "id": "095b588a-d049-4aef-8e98-f97cd78f7279",
   "metadata": {},
   "outputs": [
    {
     "name": "stdout",
     "output_type": "stream",
     "text": [
      "Pluto's a planet.\n",
      "No, it's a dwarf planet.\n",
      "planet!\n",
      "dwarf planet!\n"
     ]
    }
   ],
   "source": [
    "# Referring to format() arguments by index; remember that indexes start from 0\n",
    "s = \"\"\"Pluto's a {0}.\n",
    "No, it's a {1}.\n",
    "{0}!\n",
    "{1}!\"\"\".format('planet', 'dwarf planet')\n",
    "print(s)"
   ]
  },
  {
   "cell_type": "markdown",
   "id": "25e48225-25e4-491c-9f78-824d587408a9",
   "metadata": {},
   "source": [
    "## Dictionaries"
   ]
  },
  {
   "cell_type": "markdown",
   "id": "95964d8d-a993-4b61-b34e-3b7485c8c88a",
   "metadata": {},
   "source": [
    "Dictionaries are a built-in Python data structure for mapping keys to values. An example of this is:"
   ]
  },
  {
   "cell_type": "code",
   "execution_count": 1,
   "id": "2efa7246-175d-4eb3-a787-73929e9f64b8",
   "metadata": {},
   "outputs": [],
   "source": [
    "numbers = {'one':1, 'two':2, 'three':3}"
   ]
  },
  {
   "cell_type": "markdown",
   "id": "e6740460-ad0e-412d-a220-e940b9b0a0f9",
   "metadata": {},
   "source": [
    "In this case, the strings `'one'`, `'two'`, and `'three'` are the **keys**, and the integers 1, 2 and 3 are their corresponding values. Also, note that dictionaries use curly brackets to contain their values within and key-value pairs are separated by a colon."
   ]
  },
  {
   "cell_type": "markdown",
   "id": "e6cee802-e535-4d06-8bd9-e2e0a7840b51",
   "metadata": {},
   "source": [
    "We can access the values of keys in dictionaries by calling on them using square brackets after the name of the dictionary:"
   ]
  },
  {
   "cell_type": "code",
   "execution_count": 2,
   "id": "0d9fce9d-2cf5-4df9-ad38-141c281215fb",
   "metadata": {},
   "outputs": [
    {
     "data": {
      "text/plain": [
       "2"
      ]
     },
     "execution_count": 2,
     "metadata": {},
     "output_type": "execute_result"
    }
   ],
   "source": [
    "numbers['two']"
   ]
  },
  {
   "cell_type": "markdown",
   "id": "e65b2ee6-d4f1-4b1c-a7c0-b06495ceb301",
   "metadata": {},
   "source": [
    "Think of it as looking up a word in an actual dictionary, you know, the book, and it returns the definition of said word."
   ]
  },
  {
   "cell_type": "markdown",
   "id": "d2fb6c03-41dc-4883-94ac-f15456c777ab",
   "metadata": {},
   "source": [
    "We can also add new key-value pairs to dictionaries by assigning them as follows:"
   ]
  },
  {
   "cell_type": "code",
   "execution_count": 3,
   "id": "df706c64-dd9a-417e-8639-56830773244a",
   "metadata": {},
   "outputs": [
    {
     "data": {
      "text/plain": [
       "{'one': 1, 'two': 2, 'three': 3, 'twelve': 12}"
      ]
     },
     "execution_count": 3,
     "metadata": {},
     "output_type": "execute_result"
    }
   ],
   "source": [
    "numbers['twelve'] = 12\n",
    "numbers"
   ]
  },
  {
   "cell_type": "markdown",
   "id": "32fbdbef-8bcb-4e0a-8c49-0bb7d064d988",
   "metadata": {},
   "source": [
    "If we wish to change the value of an already existing key, we can reassign its value as follows:"
   ]
  },
  {
   "cell_type": "code",
   "execution_count": 5,
   "id": "98d0582f-0117-4943-8b90-9d6716baf995",
   "metadata": {},
   "outputs": [
    {
     "data": {
      "text/plain": [
       "{'one': 'Mars', 'two': 2, 'three': 3, 'twelve': 12}"
      ]
     },
     "execution_count": 5,
     "metadata": {},
     "output_type": "execute_result"
    }
   ],
   "source": [
    "numbers['one'] = 'Mars'\n",
    "numbers"
   ]
  },
  {
   "cell_type": "markdown",
   "id": "da18fc75-7e76-46f9-b6da-bd1b6e88a8be",
   "metadata": {},
   "source": [
    "Python has *dictionary comprehensions* with a syntax similar to the list comprehensions we saw in the previous tutorial."
   ]
  },
  {
   "cell_type": "code",
   "execution_count": 6,
   "id": "9a0bd474-77cd-4172-9784-259de8b5db2f",
   "metadata": {},
   "outputs": [],
   "source": [
    "planets = ['Mercury', 'Venus', 'Earth', 'Mars', 'Jupiter', 'Saturn', 'Uranus', 'Neptune']"
   ]
  },
  {
   "cell_type": "code",
   "execution_count": 7,
   "id": "97be1a88-1cd4-4164-8081-0d84b1b3dc58",
   "metadata": {},
   "outputs": [],
   "source": [
    "planet_to_initial = {planet: planet[0] for planet in planets}"
   ]
  },
  {
   "cell_type": "code",
   "execution_count": 8,
   "id": "159bdf4f-7019-48bb-b58d-b137c525a74d",
   "metadata": {},
   "outputs": [
    {
     "data": {
      "text/plain": [
       "{'Mercury': 'M',\n",
       " 'Venus': 'V',\n",
       " 'Earth': 'E',\n",
       " 'Mars': 'M',\n",
       " 'Jupiter': 'J',\n",
       " 'Saturn': 'S',\n",
       " 'Uranus': 'U',\n",
       " 'Neptune': 'N'}"
      ]
     },
     "execution_count": 8,
     "metadata": {},
     "output_type": "execute_result"
    }
   ],
   "source": [
    "planet_to_initial"
   ]
  },
  {
   "cell_type": "markdown",
   "id": "678df8bd-092b-4f16-8ef8-12576df67dba",
   "metadata": {},
   "source": [
    "The `in` operator tells us whether something is a key in the dictionary; see the examples below:"
   ]
  },
  {
   "cell_type": "code",
   "execution_count": 9,
   "id": "a9731a9d-103b-4123-a869-cc7325a18e15",
   "metadata": {},
   "outputs": [
    {
     "data": {
      "text/plain": [
       "True"
      ]
     },
     "execution_count": 9,
     "metadata": {},
     "output_type": "execute_result"
    }
   ],
   "source": [
    "'Saturn' in planet_to_initial"
   ]
  },
  {
   "cell_type": "code",
   "execution_count": 10,
   "id": "5c969aa7-853c-4c26-87fe-eab2dd982d0a",
   "metadata": {},
   "outputs": [
    {
     "data": {
      "text/plain": [
       "False"
      ]
     },
     "execution_count": 10,
     "metadata": {},
     "output_type": "execute_result"
    }
   ],
   "source": [
    "'Nibiru' in planet_to_initial"
   ]
  },
  {
   "cell_type": "markdown",
   "id": "2573eae0-f3c5-4e05-9bce-7f3e5cb76b78",
   "metadata": {},
   "source": [
    "A for loop over a dictionary will loop over its keys:"
   ]
  },
  {
   "cell_type": "code",
   "execution_count": 11,
   "id": "631ebc01-4063-4685-b038-fee986c44d48",
   "metadata": {},
   "outputs": [
    {
     "name": "stdout",
     "output_type": "stream",
     "text": [
      "one = Mars\n",
      "two = 2\n",
      "three = 3\n",
      "twelve = 12\n"
     ]
    }
   ],
   "source": [
    "for k in numbers:\n",
    "    print(\"{} = {}\".format(k, numbers[k]))"
   ]
  },
  {
   "cell_type": "markdown",
   "id": "a0fd33b4-7162-4654-be4e-f5eafeee26ea",
   "metadata": {},
   "source": [
    "We can access a collection of all the keys or values with `dict.keys()` and `dict.values()`, respectively:"
   ]
  },
  {
   "cell_type": "code",
   "execution_count": 12,
   "id": "77f7e567-b672-4e8d-972d-ab502e59fe3e",
   "metadata": {},
   "outputs": [
    {
     "data": {
      "text/plain": [
       "'E J M M N S U V'"
      ]
     },
     "execution_count": 12,
     "metadata": {},
     "output_type": "execute_result"
    }
   ],
   "source": [
    "# Get all the initials, sort them alphabetically, and put them in a space-separated string.\n",
    "' '.join(sorted(planet_to_initial.values()))"
   ]
  },
  {
   "cell_type": "markdown",
   "id": "9ad258c5-3488-4e3e-aa01-8a7c987fd79b",
   "metadata": {},
   "source": [
    "The very useful `dict.items()` method lets us iterate over the keys and values of a dictionary simultaneously. (In Python jargon, an **item** refers to a key-value pair.)"
   ]
  },
  {
   "cell_type": "code",
   "execution_count": 14,
   "id": "02098bf4-9f5e-42aa-940e-bece3836ed97",
   "metadata": {},
   "outputs": [
    {
     "name": "stdout",
     "output_type": "stream",
     "text": [
      "   Mercury begins with \"M\".\n",
      "     Venus begins with \"V\".\n",
      "     Earth begins with \"E\".\n",
      "      Mars begins with \"M\".\n",
      "   Jupiter begins with \"J\".\n",
      "    Saturn begins with \"S\".\n",
      "    Uranus begins with \"U\".\n",
      "   Neptune begins with \"N\".\n"
     ]
    }
   ],
   "source": [
    "for planet, initial in planet_to_initial.items():\n",
    "    print(\"{} begins with \\\"{}\\\".\".format(planet.rjust(10), initial))"
   ]
  },
  {
   "cell_type": "markdown",
   "id": "b7d265bc-d7b3-43dd-99c0-93f7e44b17f1",
   "metadata": {},
   "source": [
    "To read a full inventory of dictionaries' methods, run the cell below to read the full help page:"
   ]
  },
  {
   "cell_type": "code",
   "execution_count": 15,
   "id": "9c70ab51-af1a-4d11-bdf2-8639817b021a",
   "metadata": {},
   "outputs": [
    {
     "name": "stdout",
     "output_type": "stream",
     "text": [
      "Help on class dict in module builtins:\n",
      "\n",
      "class dict(object)\n",
      " |  dict() -> new empty dictionary\n",
      " |  dict(mapping) -> new dictionary initialized from a mapping object's\n",
      " |      (key, value) pairs\n",
      " |  dict(iterable) -> new dictionary initialized as if via:\n",
      " |      d = {}\n",
      " |      for k, v in iterable:\n",
      " |          d[k] = v\n",
      " |  dict(**kwargs) -> new dictionary initialized with the name=value pairs\n",
      " |      in the keyword argument list.  For example:  dict(one=1, two=2)\n",
      " |\n",
      " |  Built-in subclasses:\n",
      " |      StgDict\n",
      " |\n",
      " |  Methods defined here:\n",
      " |\n",
      " |  __contains__(self, key, /)\n",
      " |      True if the dictionary has the specified key, else False.\n",
      " |\n",
      " |  __delitem__(self, key, /)\n",
      " |      Delete self[key].\n",
      " |\n",
      " |  __eq__(self, value, /)\n",
      " |      Return self==value.\n",
      " |\n",
      " |  __ge__(self, value, /)\n",
      " |      Return self>=value.\n",
      " |\n",
      " |  __getattribute__(self, name, /)\n",
      " |      Return getattr(self, name).\n",
      " |\n",
      " |  __getitem__(self, key, /)\n",
      " |      Return self[key].\n",
      " |\n",
      " |  __gt__(self, value, /)\n",
      " |      Return self>value.\n",
      " |\n",
      " |  __init__(self, /, *args, **kwargs)\n",
      " |      Initialize self.  See help(type(self)) for accurate signature.\n",
      " |\n",
      " |  __ior__(self, value, /)\n",
      " |      Return self|=value.\n",
      " |\n",
      " |  __iter__(self, /)\n",
      " |      Implement iter(self).\n",
      " |\n",
      " |  __le__(self, value, /)\n",
      " |      Return self<=value.\n",
      " |\n",
      " |  __len__(self, /)\n",
      " |      Return len(self).\n",
      " |\n",
      " |  __lt__(self, value, /)\n",
      " |      Return self<value.\n",
      " |\n",
      " |  __ne__(self, value, /)\n",
      " |      Return self!=value.\n",
      " |\n",
      " |  __or__(self, value, /)\n",
      " |      Return self|value.\n",
      " |\n",
      " |  __repr__(self, /)\n",
      " |      Return repr(self).\n",
      " |\n",
      " |  __reversed__(self, /)\n",
      " |      Return a reverse iterator over the dict keys.\n",
      " |\n",
      " |  __ror__(self, value, /)\n",
      " |      Return value|self.\n",
      " |\n",
      " |  __setitem__(self, key, value, /)\n",
      " |      Set self[key] to value.\n",
      " |\n",
      " |  __sizeof__(...)\n",
      " |      D.__sizeof__() -> size of D in memory, in bytes\n",
      " |\n",
      " |  clear(...)\n",
      " |      D.clear() -> None.  Remove all items from D.\n",
      " |\n",
      " |  copy(...)\n",
      " |      D.copy() -> a shallow copy of D\n",
      " |\n",
      " |  get(self, key, default=None, /)\n",
      " |      Return the value for key if key is in the dictionary, else default.\n",
      " |\n",
      " |  items(...)\n",
      " |      D.items() -> a set-like object providing a view on D's items\n",
      " |\n",
      " |  keys(...)\n",
      " |      D.keys() -> a set-like object providing a view on D's keys\n",
      " |\n",
      " |  pop(...)\n",
      " |      D.pop(k[,d]) -> v, remove specified key and return the corresponding value.\n",
      " |\n",
      " |      If the key is not found, return the default if given; otherwise,\n",
      " |      raise a KeyError.\n",
      " |\n",
      " |  popitem(self, /)\n",
      " |      Remove and return a (key, value) pair as a 2-tuple.\n",
      " |\n",
      " |      Pairs are returned in LIFO (last-in, first-out) order.\n",
      " |      Raises KeyError if the dict is empty.\n",
      " |\n",
      " |  setdefault(self, key, default=None, /)\n",
      " |      Insert key with a value of default if key is not in the dictionary.\n",
      " |\n",
      " |      Return the value for key if key is in the dictionary, else default.\n",
      " |\n",
      " |  update(...)\n",
      " |      D.update([E, ]**F) -> None.  Update D from dict/iterable E and F.\n",
      " |      If E is present and has a .keys() method, then does:  for k in E: D[k] = E[k]\n",
      " |      If E is present and lacks a .keys() method, then does:  for k, v in E: D[k] = v\n",
      " |      In either case, this is followed by: for k in F:  D[k] = F[k]\n",
      " |\n",
      " |  values(...)\n",
      " |      D.values() -> an object providing a view on D's values\n",
      " |\n",
      " |  ----------------------------------------------------------------------\n",
      " |  Class methods defined here:\n",
      " |\n",
      " |  __class_getitem__(...)\n",
      " |      See PEP 585\n",
      " |\n",
      " |  fromkeys(iterable, value=None, /)\n",
      " |      Create a new dictionary with keys from iterable and values set to value.\n",
      " |\n",
      " |  ----------------------------------------------------------------------\n",
      " |  Static methods defined here:\n",
      " |\n",
      " |  __new__(*args, **kwargs)\n",
      " |      Create and return a new object.  See help(type) for accurate signature.\n",
      " |\n",
      " |  ----------------------------------------------------------------------\n",
      " |  Data and other attributes defined here:\n",
      " |\n",
      " |  __hash__ = None\n",
      "\n"
     ]
    }
   ],
   "source": [
    "help(dict)"
   ]
  },
  {
   "cell_type": "code",
   "execution_count": null,
   "id": "49217559-28d4-4ba0-b6b0-e4eab0357484",
   "metadata": {},
   "outputs": [],
   "source": []
  }
 ],
 "metadata": {
  "kernelspec": {
   "display_name": "Python [conda env:base] *",
   "language": "python",
   "name": "conda-base-py"
  },
  "language_info": {
   "codemirror_mode": {
    "name": "ipython",
    "version": 3
   },
   "file_extension": ".py",
   "mimetype": "text/x-python",
   "name": "python",
   "nbconvert_exporter": "python",
   "pygments_lexer": "ipython3",
   "version": "3.12.7"
  }
 },
 "nbformat": 4,
 "nbformat_minor": 5
}
