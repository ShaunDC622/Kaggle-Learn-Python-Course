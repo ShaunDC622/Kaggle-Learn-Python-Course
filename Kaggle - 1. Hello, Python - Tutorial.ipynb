{
 "cells": [
  {
   "cell_type": "markdown",
   "id": "05a5bd39-678c-490c-9e10-40d4907b1eeb",
   "metadata": {},
   "source": [
    "## The purpose of this section is to introduce  Python syntax, variable assignment, and numbers."
   ]
  },
  {
   "cell_type": "markdown",
   "id": "ec08c0e7-789b-4c59-aa64-78e8a1c57ccb",
   "metadata": {},
   "source": [
    "# 1. Hello, Python"
   ]
  },
  {
   "cell_type": "code",
   "execution_count": 18,
   "id": "b4408997-fa83-48e1-a9ff-7ed35c762afd",
   "metadata": {},
   "outputs": [
    {
     "name": "stdout",
     "output_type": "stream",
     "text": [
      "0\n"
     ]
    }
   ],
   "source": [
    "spam_amount = 0       #defining the variable spam_amount with the assigned value of 0\n",
    "print(spam_amount)    #printing out the value of the variable"
   ]
  },
  {
   "cell_type": "code",
   "execution_count": 19,
   "id": "8de60dee-2cf2-4dbe-be7e-0f23e0ba1a5b",
   "metadata": {},
   "outputs": [
    {
     "name": "stdout",
     "output_type": "stream",
     "text": [
      "4\n"
     ]
    }
   ],
   "source": [
    "# Ordering Spam, egg, Spam, Spam, bacon and Spam (4 more servings of Spam)\n",
    "spam_amount = spam_amount + 4\n",
    "print(spam_amount) "
   ]
  },
  {
   "cell_type": "markdown",
   "id": "555761a0-b575-4671-8aa1-4ed38938834c",
   "metadata": {},
   "source": [
    "The cell above reassigns the value of the variable \"spam_amount\" by adding 4 to its existing value."
   ]
  },
  {
   "cell_type": "code",
   "execution_count": 20,
   "id": "b96b6687-94de-4c5a-99c9-3db0fbb7ced9",
   "metadata": {},
   "outputs": [
    {
     "name": "stdout",
     "output_type": "stream",
     "text": [
      "But I don't want ANY spam!\n"
     ]
    }
   ],
   "source": [
    "if spam_amount > 0:\n",
    "    print(\"But I don't want ANY spam!\")\n",
    " #An if condition that, if met, will print the string above.\n",
    " #There is no else statement, so if the if statement was not met, running the cell would have no return."
   ]
  },
  {
   "cell_type": "code",
   "execution_count": 21,
   "id": "a9b162b0-92d9-49b0-b57b-60623da23cae",
   "metadata": {},
   "outputs": [
    {
     "name": "stdout",
     "output_type": "stream",
     "text": [
      "Spam Spam Spam Spam \n"
     ]
    }
   ],
   "source": [
    "viking_song = \"Spam \" * spam_amount  \n",
    "#Defining a new variable that multiplies the string \"Spam\" with the value recorded in spam_amount\n",
    "print(viking_song)\n",
    "#Prints out the value recorded in the variable \"viking_song\"."
   ]
  },
  {
   "cell_type": "markdown",
   "id": "02b930f3-03f8-4ebd-b318-68d3bb8ce3ae",
   "metadata": {},
   "source": [
    "# 2. Number and arithmetic in Python"
   ]
  },
  {
   "cell_type": "code",
   "execution_count": 23,
   "id": "d2676bd4-162e-473b-96c7-10ce784d35ed",
   "metadata": {},
   "outputs": [
    {
     "data": {
      "text/plain": [
       "int"
      ]
     },
     "execution_count": 23,
     "metadata": {},
     "output_type": "execute_result"
    }
   ],
   "source": [
    "spam_amount = 0\n",
    "type(spam_amount)"
   ]
  },
  {
   "cell_type": "markdown",
   "id": "45be44ac-1059-4efb-83c8-98d74f215a3f",
   "metadata": {},
   "source": [
    "The cell above assigns the variable \"spam_amount\" with the value of 0, thus making it an integer-valued variable.\n",
    "The function 'type' returns the type of data that is within its argument, i.e. what you put in the round brackets."
   ]
  },
  {
   "cell_type": "code",
   "execution_count": 24,
   "id": "0f6d2045-49f5-4456-987a-76bb80b25b4a",
   "metadata": {},
   "outputs": [
    {
     "data": {
      "text/plain": [
       "float"
      ]
     },
     "execution_count": 24,
     "metadata": {},
     "output_type": "execute_result"
    }
   ],
   "source": [
    "float_var = 1.1\n",
    "type(float_var)"
   ]
  },
  {
   "cell_type": "markdown",
   "id": "1b7a881b-8226-44b7-8dc1-902315406dba",
   "metadata": {},
   "source": [
    "A 'float' is what we normally consider a real/measured/decimal number. The difference between float and int is that int is a data type related to counting, either forward or backwards, which is exactly what an integer is. The simple difference between the two data types is that one has a decimal point and the other doesn't."
   ]
  },
  {
   "cell_type": "code",
   "execution_count": 36,
   "id": "d1b94253-ff24-4103-ac22-1f16e6da5388",
   "metadata": {},
   "outputs": [
    {
     "name": "stdout",
     "output_type": "stream",
     "text": [
      "<class 'int'> <class 'float'> <class 'float'>\n"
     ]
    }
   ],
   "source": [
    "float_var_v1 = 1\n",
    "float_var_v2 = 1.0\n",
    "float_var_v3 = 1.5\n",
    "\n",
    "print(type(float_var_v1), type(float_var_v2), type(float_var_v3))"
   ]
  },
  {
   "cell_type": "markdown",
   "id": "771eda30-348a-44d2-a46a-23582a8888e7",
   "metadata": {},
   "source": [
    "Notice how the difference between float_var_v1 and float_var_v2 is essentially a decimal point and the 0 following. Therefore, float_var_v1 is, in fact, not a float variable, but an integer variable. float_var_v3 is included for completeness of the demonstration."
   ]
  },
  {
   "cell_type": "code",
   "execution_count": 48,
   "id": "fe903b30-5c0f-4aa8-9dc1-5ffe65b9fc98",
   "metadata": {},
   "outputs": [
    {
     "name": "stdout",
     "output_type": "stream",
     "text": [
      "2.5\n",
      "3.0\n",
      "8\n",
      "4\n",
      "12\n",
      "3.142857142857143\n",
      "3.141592653589793\n"
     ]
    }
   ],
   "source": [
    "print(5/2)\n",
    "print(6/2)\n",
    "print(6+2)\n",
    "print(6-2)\n",
    "print(6*2)\n",
    "print(22/7)\n",
    "\n",
    "import math    #importing the math package to make use of the universal constant pi.\n",
    "print(math.pi)"
   ]
  },
  {
   "cell_type": "markdown",
   "id": "a5c64b31-70d4-404e-a8d6-e632abc033bd",
   "metadata": {},
   "source": [
    "Division, even with integers, returns a float. Addition, subtraction and multiplication of integers returns an int."
   ]
  },
  {
   "cell_type": "code",
   "execution_count": 52,
   "id": "1cec3b68-2270-4ff1-86df-66d2d480a0af",
   "metadata": {},
   "outputs": [
    {
     "name": "stdout",
     "output_type": "stream",
     "text": [
      "2\n",
      "3\n",
      "0.5\n",
      "0.0\n"
     ]
    }
   ],
   "source": [
    "#Floor division\n",
    "print(5//2)  # 5 divided by 2 is 2.5, but the floor value takes it to 2.\n",
    "print(6//2)  # 6 divided by 3 is 3.0, so the floor value makes it the integer 3.\n",
    "######################################################################################\n",
    "print(5/2 - 5//2)  # returns what was removed from the floor function to return the floor value\n",
    "print(6/2 - 6//2)  # Notice that the subtraction between a float and an int returns a float."
   ]
  },
  {
   "cell_type": "markdown",
   "id": "be7d18a9-d1d2-4ee0-9fc7-bee070a31050",
   "metadata": {},
   "source": [
    "All floor divisions return integers."
   ]
  },
  {
   "cell_type": "code",
   "execution_count": 57,
   "id": "6f723ed3-50da-4875-baa0-3827b7ffd451",
   "metadata": {},
   "outputs": [
    {
     "name": "stdout",
     "output_type": "stream",
     "text": [
      "1\n",
      "2\n",
      "0\n",
      "0\n"
     ]
    }
   ],
   "source": [
    "#Modulus\n",
    "print(5%2) # this reads as 5 mod 2, which means the remainder of the division 5/2\n",
    "#-----------------------------------------------------------------------------------------------------------\n",
    "# Recall that we don't have to read a division result in decimal or fraction format; in the case of 5/2, \n",
    "# we can read the result as 2 remainder 1. The remainder 1 is the result of 5 mod 2.\n",
    "#-----------------------------------------------------------------------------------------------------------\n",
    "print(2%5) # the division 2/5 can be read as 0 remainder 2; therefore 2 mod 5 is 2.\n",
    "#-----------------------------------------------------------------------------------------------------------\n",
    "print(6%3) # the division 6/3 is 3 with no remainders.\n",
    "print(-18%3) # the division 6/3 is 3 with no remainders."
   ]
  },
  {
   "cell_type": "markdown",
   "id": "c5325f9e-ead7-4e43-ad69-b08d9987470f",
   "metadata": {},
   "source": [
    "For p mod q, if p = nq where n is an element of the set of integers, then the result is always 0."
   ]
  },
  {
   "cell_type": "code",
   "execution_count": 67,
   "id": "b0276e30-232f-4bc9-815f-8f017b685bc7",
   "metadata": {},
   "outputs": [
    {
     "name": "stdout",
     "output_type": "stream",
     "text": [
      "4\n",
      "11\n",
      "3\n",
      "6\n",
      "3.0\n",
      "3\n",
      "2\n"
     ]
    }
   ],
   "source": [
    "#PEMDAS\n",
    "print(5 - 2 + 1)        # 5 minus 2 plus 1\n",
    "print(5 * 2 + 1)        # 5 times 2 plus 1\n",
    "print(5 - 2 * 1)        # 2 times 1, then 5 subtracts the result\n",
    "print((5 - 2) * 2)      # 5 minus 2, then multiply the result by 2\n",
    "print(5 - 2 / 1)        # 2 divided by 1, then 5 subtracts the result\n",
    "print(5 // 2 + 1)       # floor division of 5 by 2, then add 1\n",
    "print((5 % 2)**3 + 1)  # 5 mod 2, raise the result to the power of 3, and then add 1"
   ]
  },
  {
   "cell_type": "code",
   "execution_count": 68,
   "id": "5632337d-867f-4627-802d-4bec561ad216",
   "metadata": {},
   "outputs": [
    {
     "name": "stdout",
     "output_type": "stream",
     "text": [
      "Height in meters = 26.9 ?\n"
     ]
    }
   ],
   "source": [
    "hat_height_cm = 25\n",
    "my_height_cm = 190\n",
    "# How tall am I, in meters, when wearing my hat?\n",
    "total_height_meters = hat_height_cm + my_height_cm / 100\n",
    "print(\"Height in meters =\", total_height_meters, \"?\")"
   ]
  },
  {
   "cell_type": "markdown",
   "id": "9ec83362-9da7-4c2f-a918-223478b62ca3",
   "metadata": {},
   "source": [
    "Above is a demonstration of poorly constructing the mathematics to compute the total height. Below is the proper way to do it:"
   ]
  },
  {
   "cell_type": "code",
   "execution_count": 69,
   "id": "49026837-bcb1-4765-8385-85ec0a27687b",
   "metadata": {},
   "outputs": [
    {
     "name": "stdout",
     "output_type": "stream",
     "text": [
      "Height in meters = 2.15\n"
     ]
    }
   ],
   "source": [
    "total_height_meters = (hat_height_cm + my_height_cm) / 100\n",
    "print(\"Height in meters =\", total_height_meters)"
   ]
  },
  {
   "cell_type": "markdown",
   "id": "7e7772d5-a0fa-4afc-9580-bb1933358e93",
   "metadata": {},
   "source": [
    "Parentheses saves the day! Math's safety net."
   ]
  },
  {
   "cell_type": "markdown",
   "id": "7b864642-82f5-455d-b6d3-dbc58812400e",
   "metadata": {},
   "source": [
    "# Built-in math functions"
   ]
  },
  {
   "cell_type": "code",
   "execution_count": 73,
   "id": "fc2d28f1-24a0-43a9-9a03-301eefa9f0d2",
   "metadata": {},
   "outputs": [
    {
     "name": "stdout",
     "output_type": "stream",
     "text": [
      "1\n",
      "1.0\n",
      "3\n",
      "3.0\n"
     ]
    }
   ],
   "source": [
    "print(min(1, 2, 3))   #prints the minimum value in the list provided\n",
    "print(min(1.0, 2, 3)) #min can distinguish values between float and int data types\n",
    "print(max(1, 2, 3))   #prints the maximum value in the list provided\n",
    "print(max(1, 2, 3.0)) #max can distinguish values between float and int data types"
   ]
  },
  {
   "cell_type": "code",
   "execution_count": 74,
   "id": "6baa89df-828e-42f2-a4fc-5100934a57a2",
   "metadata": {},
   "outputs": [
    {
     "name": "stdout",
     "output_type": "stream",
     "text": [
      "123\n",
      "123\n",
      "-123\n"
     ]
    }
   ],
   "source": [
    "print(abs(123))\n",
    "print(abs(-123))\n",
    "print(-abs(123))"
   ]
  },
  {
   "cell_type": "markdown",
   "id": "3c801a5e-087e-481c-a5d3-2324e602b834",
   "metadata": {},
   "source": [
    "The absolute value of a number always returns a positive value; it is a piecewise function that ensures the result is always positive. The third print is a cheeky one since the result of using abs is then multiplied by -1 which makes the result negative."
   ]
  },
  {
   "cell_type": "code",
   "execution_count": 78,
   "id": "b03f44e5-cd97-494c-8e4f-23dde336054b",
   "metadata": {},
   "outputs": [
    {
     "name": "stdout",
     "output_type": "stream",
     "text": [
      "10.0\n",
      "3\n",
      "808\n"
     ]
    }
   ],
   "source": [
    "#Converting data types\n",
    "print(float(7))        # 7 is an int, and it gets converted to a float, i.e. 7 --> 7.0\n",
    "print(int(3.833))      # 3.833 is a float, and it gets converted to an int. \n",
    "                       # This normally doesn't make sense, but Python treats this situation like a\n",
    "                       # floor function in this case.\n",
    "print(int('807') + 1)  # Converts the string to an int to perform a mathematical operation"
   ]
  },
  {
   "cell_type": "code",
   "execution_count": 79,
   "id": "6e743117-9820-485e-a0a8-ea12346df123",
   "metadata": {},
   "outputs": [
    {
     "data": {
      "text/plain": [
       "83"
      ]
     },
     "execution_count": 79,
     "metadata": {},
     "output_type": "execute_result"
    }
   ],
   "source": [
    "int(float(str(83.34))) # it is possible to chain the conversions starting from the inner function working outwards"
   ]
  },
  {
   "cell_type": "markdown",
   "id": "6f315398-d0cf-4320-8e5c-06303c12f7b6",
   "metadata": {},
   "source": [
    "This ends the tutorial section of the 1st topic of the course; next will be the corresponding exercise section."
   ]
  },
  {
   "cell_type": "code",
   "execution_count": null,
   "id": "2123dbab-75d6-4ec7-bc1f-8cb8e08788e0",
   "metadata": {},
   "outputs": [],
   "source": []
  }
 ],
 "metadata": {
  "kernelspec": {
   "display_name": "Python [conda env:base] *",
   "language": "python",
   "name": "conda-base-py"
  },
  "language_info": {
   "codemirror_mode": {
    "name": "ipython",
    "version": 3
   },
   "file_extension": ".py",
   "mimetype": "text/x-python",
   "name": "python",
   "nbconvert_exporter": "python",
   "pygments_lexer": "ipython3",
   "version": "3.12.7"
  }
 },
 "nbformat": 4,
 "nbformat_minor": 5
}
