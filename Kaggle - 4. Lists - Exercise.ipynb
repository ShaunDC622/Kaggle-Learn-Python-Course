{
 "cells": [
  {
   "cell_type": "markdown",
   "id": "c5425132-499c-4d22-b5b0-c5ddc94380d0",
   "metadata": {},
   "source": [
    "# Setup"
   ]
  },
  {
   "cell_type": "code",
   "execution_count": 1,
   "id": "ed514b41-4e0d-4092-8d58-cd58a78c474a",
   "metadata": {},
   "outputs": [
    {
     "name": "stdout",
     "output_type": "stream",
     "text": [
      "Setup complete.\n"
     ]
    }
   ],
   "source": [
    "from learntools.core import binder; binder.bind(globals())\n",
    "from learntools.python.ex4 import *\n",
    "print('Setup complete.')"
   ]
  },
  {
   "cell_type": "markdown",
   "id": "a65be838-f788-447f-9928-0fa320cd1545",
   "metadata": {},
   "source": [
    "# Exercise"
   ]
  },
  {
   "cell_type": "markdown",
   "id": "faa08285-9cbf-4363-ac52-52f50abc89ba",
   "metadata": {},
   "source": [
    "## Question 1"
   ]
  },
  {
   "cell_type": "markdown",
   "id": "d3841f29-c107-4ce6-95aa-badb4b9c66f1",
   "metadata": {},
   "source": [
    "Complete the function below according to its docstring."
   ]
  },
  {
   "cell_type": "code",
   "execution_count": 2,
   "id": "0c143980-5a12-4c1f-b486-715eb23d6e8c",
   "metadata": {},
   "outputs": [],
   "source": [
    "def select_second(L):\n",
    "    \"\"\"Return the second element of the given list. If the list has no second\n",
    "    element, return None.\n",
    "    \"\"\"\n",
    "    if len(L) < 2:\n",
    "        return None\n",
    "    return L[1]"
   ]
  },
  {
   "cell_type": "code",
   "execution_count": 3,
   "id": "13414885-7318-474e-bc14-c18a129ad2dc",
   "metadata": {},
   "outputs": [],
   "source": [
    "list_eg = [1,2,3,4,5]"
   ]
  },
  {
   "cell_type": "code",
   "execution_count": 4,
   "id": "f70ea623-f221-4a89-aad9-6da5199bdc91",
   "metadata": {},
   "outputs": [
    {
     "data": {
      "text/plain": [
       "2"
      ]
     },
     "execution_count": 4,
     "metadata": {},
     "output_type": "execute_result"
    }
   ],
   "source": [
    "select_second(list_eg)"
   ]
  },
  {
   "cell_type": "code",
   "execution_count": 5,
   "id": "09f0a9ca-38c6-4cf2-874f-76d0bd8c0836",
   "metadata": {},
   "outputs": [
    {
     "data": {
      "application/javascript": [
       "parent.postMessage({\"jupyterEvent\": \"custom.exercise_interaction\", \"data\": {\"outcomeType\": 1, \"valueTowardsCompletion\": 0.2, \"interactionType\": 1, \"questionType\": 2, \"questionId\": \"1_SelectSecondItem\", \"learnToolsVersion\": \"0.3.5\", \"failureMessage\": \"\", \"exceptionClass\": \"\", \"trace\": \"\"}}, \"*\")"
      ],
      "text/plain": [
       "<IPython.core.display.Javascript object>"
      ]
     },
     "metadata": {},
     "output_type": "display_data"
    },
    {
     "data": {
      "text/markdown": [
       "<span style=\"color:#33cc33\">Correct</span>"
      ],
      "text/plain": [
       "Correct"
      ]
     },
     "metadata": {},
     "output_type": "display_data"
    }
   ],
   "source": [
    "# Check your answer\n",
    "q1.check()"
   ]
  },
  {
   "cell_type": "code",
   "execution_count": 6,
   "id": "d50ebbd4-13f5-415a-a1d0-6a815e157762",
   "metadata": {},
   "outputs": [],
   "source": [
    "#Uncomment to receive a hint and/or check the solution if needed\n",
    "#q1.hint()\n",
    "#q1.solution()"
   ]
  },
  {
   "cell_type": "markdown",
   "id": "9e54dec9-c1d6-4325-820d-0cdef049b5e6",
   "metadata": {},
   "source": [
    "## Question 2"
   ]
  },
  {
   "cell_type": "markdown",
   "id": "c588396c-2114-47a0-8d1d-8798c28e163e",
   "metadata": {},
   "source": [
    "You are analysing sports teams. Members of each team are stored in a list. The Coach is the first name in the list, the captain is the second name in the list, and the other players are listed after that. These lists are stored in another list, which starts with the best team and proceeds through the list to the worst team last.\n",
    "\n",
    "Complete the function below to select the captain of the worst team."
   ]
  },
  {
   "cell_type": "code",
   "execution_count": 7,
   "id": "f97f1537-f4d3-4797-8d1f-d2513b156255",
   "metadata": {},
   "outputs": [],
   "source": [
    "def losing_team_captain(teams):\n",
    "    \"\"\"Given a list of teams, where each team is a list of names, return the 2nd player (captain)\n",
    "    from the last listed team\n",
    "    \"\"\"\n",
    "    return teams[-1][1]"
   ]
  },
  {
   "cell_type": "markdown",
   "id": "f05c6b72-f9d8-4871-a5da-08da7aa73a28",
   "metadata": {},
   "source": [
    "Note that the first square brackets select the last list in the teams list, which we can confidently assume is the worst team. The second square brackets select the person in the index 1 position, which is the second item in the list, which has been described to be where the team captain is placed."
   ]
  },
  {
   "cell_type": "code",
   "execution_count": 8,
   "id": "0488d99e-08a2-4e57-a8be-f5a05ef33031",
   "metadata": {},
   "outputs": [
    {
     "data": {
      "application/javascript": [
       "parent.postMessage({\"jupyterEvent\": \"custom.exercise_interaction\", \"data\": {\"outcomeType\": 1, \"valueTowardsCompletion\": 0.2, \"interactionType\": 1, \"questionType\": 2, \"questionId\": \"2_LosingTeamCaptain\", \"learnToolsVersion\": \"0.3.5\", \"failureMessage\": \"\", \"exceptionClass\": \"\", \"trace\": \"\"}}, \"*\")"
      ],
      "text/plain": [
       "<IPython.core.display.Javascript object>"
      ]
     },
     "metadata": {},
     "output_type": "display_data"
    },
    {
     "data": {
      "text/markdown": [
       "<span style=\"color:#33cc33\">Correct</span>"
      ],
      "text/plain": [
       "Correct"
      ]
     },
     "metadata": {},
     "output_type": "display_data"
    }
   ],
   "source": [
    "# Check your answer\n",
    "q2.check()"
   ]
  },
  {
   "cell_type": "code",
   "execution_count": 9,
   "id": "5eade509-7e93-411c-917e-fc6b21ecddd3",
   "metadata": {},
   "outputs": [],
   "source": [
    "#Uncomment to receive a hint and/or check the solution if needed\n",
    "#q2.hint()\n",
    "#q2.solution()"
   ]
  },
  {
   "cell_type": "markdown",
   "id": "35f7ad19-00ce-4ecb-9a33-bee85b992025",
   "metadata": {},
   "source": [
    "## Question 3"
   ]
  },
  {
   "cell_type": "markdown",
   "id": "7b07b155-a88e-4ba2-acc7-92c18b70b9f8",
   "metadata": {},
   "source": [
    "The next iteration of Mario Kart will feature an extra-infuriating new item: the Purple Shell. When used, it warps the last-place racer into first place and the first-place racer into last place. \n",
    "\n",
    "Complete the function below to implement the Purple Shell's effect."
   ]
  },
  {
   "cell_type": "code",
   "execution_count": 10,
   "id": "403b279f-79ab-424d-8a2e-3df0df928aa1",
   "metadata": {},
   "outputs": [],
   "source": [
    "def purple_shell(racers):\n",
    "    \"\"\"Given a list of racers, set the first place racer (at the front of the list) to last\n",
    "    place and vice versa.\n",
    "    \n",
    "    >>> r = [\"Mario\", \"Bowser\", \"Luigi\"]\n",
    "    >>> purple_shell(r)\n",
    "    >>> r\n",
    "    [\"Luigi\", \"Bowser\", \"Mario\"]\n",
    "    \"\"\"\n",
    "    racers[0], racers[-1] = racers[-1], racers[0]"
   ]
  },
  {
   "cell_type": "code",
   "execution_count": 11,
   "id": "02a2d90b-8d7c-47ad-b9e8-26033d7e3114",
   "metadata": {},
   "outputs": [
    {
     "data": {
      "application/javascript": [
       "parent.postMessage({\"jupyterEvent\": \"custom.exercise_interaction\", \"data\": {\"outcomeType\": 1, \"valueTowardsCompletion\": 0.2, \"interactionType\": 1, \"questionType\": 2, \"questionId\": \"3_PurpleShell\", \"learnToolsVersion\": \"0.3.5\", \"failureMessage\": \"\", \"exceptionClass\": \"\", \"trace\": \"\"}}, \"*\")"
      ],
      "text/plain": [
       "<IPython.core.display.Javascript object>"
      ]
     },
     "metadata": {},
     "output_type": "display_data"
    },
    {
     "data": {
      "text/markdown": [
       "<span style=\"color:#33cc33\">Correct</span>"
      ],
      "text/plain": [
       "Correct"
      ]
     },
     "metadata": {},
     "output_type": "display_data"
    }
   ],
   "source": [
    "# Check your answer\n",
    "q3.check()"
   ]
  },
  {
   "cell_type": "code",
   "execution_count": 12,
   "id": "bb241eaa-6399-42f0-9849-c3ec26648b4f",
   "metadata": {},
   "outputs": [
    {
     "data": {
      "application/javascript": [
       "parent.postMessage({\"jupyterEvent\": \"custom.exercise_interaction\", \"data\": {\"interactionType\": 3, \"questionType\": 2, \"questionId\": \"3_PurpleShell\", \"learnToolsVersion\": \"0.3.5\", \"valueTowardsCompletion\": 0.0, \"failureMessage\": \"\", \"exceptionClass\": \"\", \"trace\": \"\", \"outcomeType\": 4}}, \"*\")"
      ],
      "text/plain": [
       "<IPython.core.display.Javascript object>"
      ]
     },
     "metadata": {},
     "output_type": "display_data"
    },
    {
     "data": {
      "text/markdown": [
       "<span style=\"color:#33cc99\">Solution:</span> \n",
       "```python\n",
       "def purple_shell(racers):\n",
       "    # One slick way to do the swap is x[0], x[-1] = x[-1], x[0].\n",
       "    temp = racers[0]\n",
       "    racers[0] = racers[-1]\n",
       "    racers[-1] = temp\n",
       "```"
      ],
      "text/plain": [
       "Solution: \n",
       "```python\n",
       "def purple_shell(racers):\n",
       "    # One slick way to do the swap is x[0], x[-1] = x[-1], x[0].\n",
       "    temp = racers[0]\n",
       "    racers[0] = racers[-1]\n",
       "    racers[-1] = temp\n",
       "```"
      ]
     },
     "metadata": {},
     "output_type": "display_data"
    }
   ],
   "source": [
    "#Uncomment to receive a hint and/or check the solution if needed\n",
    "#q3.hint()\n",
    "q3.solution()"
   ]
  },
  {
   "cell_type": "markdown",
   "id": "49f414fb-ab32-4c5f-b8a9-af87880a9864",
   "metadata": {},
   "source": [
    "The \"slick\" way is actually confusing to me; I prefer the method used above."
   ]
  },
  {
   "cell_type": "markdown",
   "id": "c6ec7b94-51a4-49dd-8d94-4df8bb402b9b",
   "metadata": {},
   "source": [
    "## Question 4"
   ]
  },
  {
   "cell_type": "markdown",
   "id": "300e25ff-9eaa-4405-bac3-39bee736c80f",
   "metadata": {},
   "source": [
    "What are the lengths of the following lists? Fill in the variable lengths with your predictions. (Try to make a prediction for each list without just calling len() on it.)"
   ]
  },
  {
   "cell_type": "code",
   "execution_count": 17,
   "id": "786a792a-9a96-4a44-9728-13c83baa860d",
   "metadata": {},
   "outputs": [],
   "source": [
    "a = [1, 2, 3]\n",
    "b = [1, [2, 3]]\n",
    "c = []\n",
    "d = [1, 2, 3][1:]"
   ]
  },
  {
   "cell_type": "markdown",
   "id": "0f63c4ae-9e8a-461e-b6c2-60ba4ec785ea",
   "metadata": {},
   "source": [
    "Put your predictions in the list below. Lengths should contain 4 numbers, the first being the length of a, the second being the length of b and so on."
   ]
  },
  {
   "cell_type": "code",
   "execution_count": 15,
   "id": "e9b9f9d7-ea8f-4fb3-8a17-053aaa41d7af",
   "metadata": {},
   "outputs": [],
   "source": [
    "lengths = [3, 2, 0, 2]"
   ]
  },
  {
   "cell_type": "code",
   "execution_count": 16,
   "id": "8e5a0531-cad0-4634-8fb2-bcec6705f507",
   "metadata": {},
   "outputs": [
    {
     "data": {
      "application/javascript": [
       "parent.postMessage({\"jupyterEvent\": \"custom.exercise_interaction\", \"data\": {\"outcomeType\": 1, \"valueTowardsCompletion\": 0.2, \"interactionType\": 1, \"questionType\": 1, \"questionId\": \"4_UnderstandLen\", \"learnToolsVersion\": \"0.3.5\", \"failureMessage\": \"\", \"exceptionClass\": \"\", \"trace\": \"\"}}, \"*\")"
      ],
      "text/plain": [
       "<IPython.core.display.Javascript object>"
      ]
     },
     "metadata": {},
     "output_type": "display_data"
    },
    {
     "data": {
      "text/markdown": [
       "<span style=\"color:#33cc33\">Correct:</span> \n",
       "\n",
       "\n",
       "- a: There are three items in this list. Nothing tricky yet.\n",
       "- b: The list `[2, 3]` counts as a single item. It has one item before it. So we have 2 items in the list\n",
       "- c: The empty list has 0 items\n",
       "- d: The expression is the same as the list `[2, 3]`, which has length 2."
      ],
      "text/plain": [
       "Correct: \n",
       "\n",
       "\n",
       "- a: There are three items in this list. Nothing tricky yet.\n",
       "- b: The list `[2, 3]` counts as a single item. It has one item before it. So we have 2 items in the list\n",
       "- c: The empty list has 0 items\n",
       "- d: The expression is the same as the list `[2, 3]`, which has length 2."
      ]
     },
     "metadata": {},
     "output_type": "display_data"
    }
   ],
   "source": [
    "# Check your answer\n",
    "q4.check()"
   ]
  },
  {
   "cell_type": "code",
   "execution_count": 18,
   "id": "edfc7354-602d-4e78-838e-e1cede3c160d",
   "metadata": {},
   "outputs": [],
   "source": [
    "#Uncomment to receive a hint and/or check the solution if needed\n",
    "#q4.hint()\n",
    "#q4.solution()"
   ]
  },
  {
   "cell_type": "markdown",
   "id": "89b67a92-8767-4cfa-93fc-9cf12ee66a32",
   "metadata": {},
   "source": [
    "## Question 5"
   ]
  },
  {
   "cell_type": "markdown",
   "id": "85c9380b-5d48-4842-85a0-a076fca7e1ae",
   "metadata": {},
   "source": [
    "We're using lists to record people who attended our party and what order they arrived in. For example, the following list represents a party with 7 guests, in which Adela showed up first and Ford was the last to arrive:"
   ]
  },
  {
   "cell_type": "code",
   "execution_count": 20,
   "id": "f09cd012-0183-4337-9048-909f2160e5b9",
   "metadata": {},
   "outputs": [],
   "source": [
    "party_attendees = ['Adela', 'Fleda', 'Owen', 'May', 'Mona', 'Gilbert', 'Ford']"
   ]
  },
  {
   "cell_type": "markdown",
   "id": "240bbb5d-e496-479a-b118-040c981ac6b2",
   "metadata": {},
   "source": [
    "A guest is considered 'fashionably late' if they arrive after at least half of the party's guests. However, they must not be the very last guest (that's taking it too far). In the above example, Mona and Gilbert are the only guests who were fashionably late.\n",
    "\n",
    "Complete the function below, which takes a list of party attendees as well as a person, and tells us whether that person is fashionably late."
   ]
  },
  {
   "cell_type": "code",
   "execution_count": 21,
   "id": "c605c6ed-c51f-4849-9b49-ac914e3183b8",
   "metadata": {},
   "outputs": [],
   "source": [
    "def fashionably_late(arrivals, name):\n",
    "    \"\"\"Given an ordered list of arrivals to the party and a name, return whether the guest with that\n",
    "    name was fashionably late.\n",
    "    \"\"\"\n",
    "    order = arrivals.index(name)\n",
    "    return order >= len(arrivals) / 2 and order != len(arrivals) - 1"
   ]
  },
  {
   "cell_type": "markdown",
   "id": "204dc798-973e-475b-9808-c6fb20f37143",
   "metadata": {},
   "source": [
    "If it's not clear, the `order` is a variable that has been assigned the index value of the name within the arrivals list. The `return` line requires that the index position of the person is at greater or equal to half of the already arrived attendees, but that is not its only requirement. The second requirement is that they must not be the last guest; this was done as seen above. However, a far simpler was would have been to write: `name != arrivals[-1]`"
   ]
  },
  {
   "cell_type": "code",
   "execution_count": 22,
   "id": "ac93012d-418e-4521-a21a-a7e9d375efa0",
   "metadata": {},
   "outputs": [
    {
     "data": {
      "text/plain": [
       "False"
      ]
     },
     "execution_count": 22,
     "metadata": {},
     "output_type": "execute_result"
    }
   ],
   "source": [
    "fashionably_late(party_attendees, 'Owen')"
   ]
  },
  {
   "cell_type": "code",
   "execution_count": 23,
   "id": "990e0fb2-28a4-4c67-8bad-c4a7dfd5ba1b",
   "metadata": {},
   "outputs": [
    {
     "data": {
      "text/plain": [
       "True"
      ]
     },
     "execution_count": 23,
     "metadata": {},
     "output_type": "execute_result"
    }
   ],
   "source": [
    "fashionably_late(party_attendees, 'Mona')"
   ]
  },
  {
   "cell_type": "code",
   "execution_count": 30,
   "id": "33078026-9dce-4db3-b8e0-b8eae57e40ce",
   "metadata": {},
   "outputs": [],
   "source": [
    "def fashionably_late1(arrivals, name):\n",
    "    \"\"\"Given an ordered list of arrivals to the party and a name, return whether the guest with that\n",
    "    name was fashionably late.\n",
    "    \"\"\"\n",
    "    order = arrivals.index(name)\n",
    "    return order >= len(arrivals) / 2 and name != arrivals[-1]"
   ]
  },
  {
   "cell_type": "code",
   "execution_count": 31,
   "id": "5a22d126-1bb8-4e77-907f-e8311caa34b9",
   "metadata": {},
   "outputs": [
    {
     "data": {
      "text/plain": [
       "False"
      ]
     },
     "execution_count": 31,
     "metadata": {},
     "output_type": "execute_result"
    }
   ],
   "source": [
    "fashionably_late1(party_attendees, 'Owen')"
   ]
  },
  {
   "cell_type": "code",
   "execution_count": 32,
   "id": "e3dcbdd3-f519-40e2-b5a8-8ff26718a8a5",
   "metadata": {},
   "outputs": [
    {
     "data": {
      "text/plain": [
       "True"
      ]
     },
     "execution_count": 32,
     "metadata": {},
     "output_type": "execute_result"
    }
   ],
   "source": [
    "fashionably_late1(party_attendees, 'Mona')"
   ]
  },
  {
   "cell_type": "code",
   "execution_count": 33,
   "id": "404f45d4-4b43-4d4a-bc84-833fd0b8236f",
   "metadata": {},
   "outputs": [
    {
     "data": {
      "text/plain": [
       "True"
      ]
     },
     "execution_count": 33,
     "metadata": {},
     "output_type": "execute_result"
    }
   ],
   "source": [
    "fashionably_late1(party_attendees, 'Gilbert')"
   ]
  },
  {
   "cell_type": "code",
   "execution_count": 34,
   "id": "811aa58f-42a4-4594-8310-bcc796f91867",
   "metadata": {},
   "outputs": [
    {
     "data": {
      "text/plain": [
       "False"
      ]
     },
     "execution_count": 34,
     "metadata": {},
     "output_type": "execute_result"
    }
   ],
   "source": [
    "fashionably_late1(party_attendees, 'Ford')"
   ]
  },
  {
   "cell_type": "code",
   "execution_count": 36,
   "id": "bd648f06-cd31-42ca-9453-071b6835b9c4",
   "metadata": {},
   "outputs": [
    {
     "data": {
      "application/javascript": [
       "parent.postMessage({\"jupyterEvent\": \"custom.exercise_interaction\", \"data\": {\"outcomeType\": 1, \"valueTowardsCompletion\": 0.2, \"interactionType\": 1, \"questionType\": 2, \"questionId\": \"5_FashionablyLate\", \"learnToolsVersion\": \"0.3.5\", \"failureMessage\": \"\", \"exceptionClass\": \"\", \"trace\": \"\"}}, \"*\")"
      ],
      "text/plain": [
       "<IPython.core.display.Javascript object>"
      ]
     },
     "metadata": {},
     "output_type": "display_data"
    },
    {
     "data": {
      "text/markdown": [
       "<span style=\"color:#33cc33\">Correct</span>"
      ],
      "text/plain": [
       "Correct"
      ]
     },
     "metadata": {},
     "output_type": "display_data"
    }
   ],
   "source": [
    "# Check your answer\n",
    "q5.check()"
   ]
  },
  {
   "cell_type": "code",
   "execution_count": 37,
   "id": "82d1ff9d-ad2a-47e8-9444-91306ad79c0a",
   "metadata": {},
   "outputs": [],
   "source": [
    "#Uncomment to receive a hint and/or check the solution if needed\n",
    "#q5.hint()\n",
    "#q5.solution()"
   ]
  }
 ],
 "metadata": {
  "kernelspec": {
   "display_name": "Python [conda env:base] *",
   "language": "python",
   "name": "conda-base-py"
  },
  "language_info": {
   "codemirror_mode": {
    "name": "ipython",
    "version": 3
   },
   "file_extension": ".py",
   "mimetype": "text/x-python",
   "name": "python",
   "nbconvert_exporter": "python",
   "pygments_lexer": "ipython3",
   "version": "3.12.7"
  }
 },
 "nbformat": 4,
 "nbformat_minor": 5
}
