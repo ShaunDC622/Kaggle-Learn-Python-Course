{
 "cells": [
  {
   "cell_type": "markdown",
   "id": "10626ff9-2fb0-42b9-b3a7-617779be3983",
   "metadata": {},
   "source": [
    "# Booleans and Conditionals"
   ]
  },
  {
   "cell_type": "markdown",
   "id": "cbad2344-2a04-4ffd-bac4-dc8dbd675631",
   "metadata": {},
   "source": [
    "## Booleans: what are they?"
   ]
  },
  {
   "cell_type": "markdown",
   "id": "0d935c57-7a75-448e-9e89-50a02286e344",
   "metadata": {},
   "source": [
    "Another type of datatype you will come across when using Python is `bool`, which is a shorthand for boolean. Booleans take on two values: `True` and `False`. Below is a very simplistic example:"
   ]
  },
  {
   "cell_type": "code",
   "execution_count": 1,
   "id": "8d354840-6dbd-4415-8ae5-010faf40c57b",
   "metadata": {},
   "outputs": [
    {
     "name": "stdout",
     "output_type": "stream",
     "text": [
      "True\n",
      "<class 'bool'>\n"
     ]
    }
   ],
   "source": [
    "x = True\n",
    "print(x)\n",
    "print(type(x))"
   ]
  },
  {
   "cell_type": "markdown",
   "id": "ac1e1116-d1b4-4a85-aa55-dbb103f0eed8",
   "metadata": {},
   "source": [
    "## Comparison Operations\n",
    "\n",
    "Instead of assigning variables with boolean values, we usually get them from $\\textbf{boolean operators}$. These are operators that usually answer yes/no questions. Below are some of these operators and their meanings:"
   ]
  },
  {
   "cell_type": "markdown",
   "id": "69517283-10c4-4e49-93b3-24af3061669f",
   "metadata": {},
   "source": [
    "a == b:  a equal to b,\n",
    "\n",
    "a != b:  a not equal to b,\n",
    "\n",
    "a < b:  a less than b, \n",
    "\n",
    "a > b:  a greater than b, \n",
    "\n",
    "a <= b:  a less than or equal to b, and\n",
    "\n",
    "a >= b:  a greater than or equal to b"
   ]
  },
  {
   "cell_type": "markdown",
   "id": "3933234a-bd44-4ce2-ace6-57057a5529b4",
   "metadata": {},
   "source": [
    "Now, let's create a function that outputs a boolean response:"
   ]
  },
  {
   "cell_type": "code",
   "execution_count": 2,
   "id": "193e580c-cac4-4ff7-a577-fcfdfaef3c5c",
   "metadata": {},
   "outputs": [],
   "source": [
    "def can_run_for_president(age):\n",
    "    \"\"\"Can someone of the given age run for president in the US?\"\"\"\n",
    "    # The US Constitution says you must be at least 35 years old\n",
    "    return age >= 35"
   ]
  },
  {
   "cell_type": "code",
   "execution_count": 3,
   "id": "44f4c0e8-344c-4ec5-a4de-3dba6c3c331b",
   "metadata": {},
   "outputs": [
    {
     "name": "stdout",
     "output_type": "stream",
     "text": [
      "Can a 19-year-old run for president? False\n",
      "Can a 45-year-old run for president? True\n"
     ]
    }
   ],
   "source": [
    "print(\"Can a 19-year-old run for president?\", can_run_for_president(19))\n",
    "# This should return False since the boolean operator \"asks\": is 19 greater than or equal to 35, to which the answer is no, or more appropriately: False\n",
    "print(\"Can a 45-year-old run for president?\", can_run_for_president(45))\n",
    "# This should return True since the boolean operator \"asks\": is 45 greater than or equal to 35, to which the answer is yes, or more appropriately: True"
   ]
  },
  {
   "cell_type": "markdown",
   "id": "428fd33f-22d4-4eb2-a4b3-0d2239f5da53",
   "metadata": {},
   "source": [
    "You can also get boolean outputs by running boolean operators with specified values:"
   ]
  },
  {
   "cell_type": "code",
   "execution_count": 4,
   "id": "80ec859a-11d3-4e73-8333-0a08a0c4647f",
   "metadata": {},
   "outputs": [
    {
     "data": {
      "text/plain": [
       "True"
      ]
     },
     "execution_count": 4,
     "metadata": {},
     "output_type": "execute_result"
    }
   ],
   "source": [
    "3.0 == 3"
   ]
  },
  {
   "cell_type": "markdown",
   "id": "8c992810-ff5b-4739-9019-6df7154d835a",
   "metadata": {},
   "source": [
    "The values are true even though their datatypes are not the same:"
   ]
  },
  {
   "cell_type": "code",
   "execution_count": 7,
   "id": "ecd70b23-aec6-4da3-a1f0-de0ae76cb55d",
   "metadata": {},
   "outputs": [
    {
     "data": {
      "text/plain": [
       "False"
      ]
     },
     "execution_count": 7,
     "metadata": {},
     "output_type": "execute_result"
    }
   ],
   "source": [
    "type(3.0) == type(3)"
   ]
  },
  {
   "cell_type": "code",
   "execution_count": 8,
   "id": "17ada932-a69f-44f5-a4fc-1aed84ac70ee",
   "metadata": {},
   "outputs": [
    {
     "data": {
      "text/plain": [
       "False"
      ]
     },
     "execution_count": 8,
     "metadata": {},
     "output_type": "execute_result"
    }
   ],
   "source": [
    "'3' == 3"
   ]
  },
  {
   "cell_type": "markdown",
   "id": "ae32fecc-d1e4-4f6e-8585-7d61df3f171b",
   "metadata": {},
   "source": [
    "It is possible to combine comparison operators with arithmetic operators. An example, demonstrated below, is checking if a number is odd by checking that the modulus with 2 returns 1:"
   ]
  },
  {
   "cell_type": "code",
   "execution_count": 9,
   "id": "dcfbb350-3fe0-48cc-a256-0ccb56c50e38",
   "metadata": {},
   "outputs": [],
   "source": [
    "def is_odd(n):\n",
    "    return (n % 2) == 1"
   ]
  },
  {
   "cell_type": "code",
   "execution_count": 10,
   "id": "19a002fc-6494-464d-bfef-b60aaf6ab40d",
   "metadata": {},
   "outputs": [
    {
     "name": "stdout",
     "output_type": "stream",
     "text": [
      "Is 100 odd? False\n"
     ]
    }
   ],
   "source": [
    "print(\"Is 100 odd?\", is_odd(100))"
   ]
  },
  {
   "cell_type": "code",
   "execution_count": 11,
   "id": "f16828f8-9152-417f-9f14-99b883d9e1e8",
   "metadata": {},
   "outputs": [
    {
     "name": "stdout",
     "output_type": "stream",
     "text": [
      "Is -1 odd? True\n"
     ]
    }
   ],
   "source": [
    "print(\"Is -1 odd?\", is_odd(-1))"
   ]
  },
  {
   "cell_type": "markdown",
   "id": "e43573d4-8d92-45d2-b61e-e0890a6cddbc",
   "metadata": {},
   "source": [
    "It is important to keep in mind that the double equal sign, `==`, is used to compare values, whereas the single equal sign, `=`, is used to assign values to variables in Python."
   ]
  },
  {
   "cell_type": "markdown",
   "id": "8978ad7e-790c-485f-b874-1766f4190a33",
   "metadata": {},
   "source": [
    "## Combining Boolean Values"
   ]
  },
  {
   "cell_type": "markdown",
   "id": "eefb3406-4651-44f7-a8dc-e83d10c48604",
   "metadata": {},
   "source": [
    "It is possible to combine boolean values by making use of `and`, `or`, and `not`. Let's update one of our defined functions during this section using these logical operators:"
   ]
  },
  {
   "cell_type": "code",
   "execution_count": 12,
   "id": "3c4aa97b-3da5-4506-b5d5-005f4f0bd493",
   "metadata": {},
   "outputs": [],
   "source": [
    "def can_run_for_president(age, is_natural_born_citizen):\n",
    "    \"\"\"Can someone of the given age and citizenship status run for president in the US?\"\"\"\n",
    "    # The US Constitution says you must be a natural born citizen *and* at least 35 years old\n",
    "    return (age >= 35) and is_natural_born_citizen "
   ]
  },
  {
   "cell_type": "code",
   "execution_count": 13,
   "id": "b1d53d8e-128b-4b39-9cf6-1e6276a31d46",
   "metadata": {},
   "outputs": [
    {
     "name": "stdout",
     "output_type": "stream",
     "text": [
      "False\n"
     ]
    }
   ],
   "source": [
    "print(can_run_for_president(19, True))"
   ]
  },
  {
   "cell_type": "code",
   "execution_count": 14,
   "id": "b7c6094f-2f20-42f8-a513-1f3499237cc9",
   "metadata": {},
   "outputs": [
    {
     "name": "stdout",
     "output_type": "stream",
     "text": [
      "False\n"
     ]
    }
   ],
   "source": [
    "print(can_run_for_president(55, False))"
   ]
  },
  {
   "cell_type": "code",
   "execution_count": 15,
   "id": "502ace47-97a8-43c7-aabd-bd043b5c77ea",
   "metadata": {},
   "outputs": [
    {
     "name": "stdout",
     "output_type": "stream",
     "text": [
      "True\n"
     ]
    }
   ],
   "source": [
    "print(can_run_for_president(57, True))"
   ]
  },
  {
   "cell_type": "markdown",
   "id": "7caa5ff3-4484-4ad2-90a7-0f9c7d9033ea",
   "metadata": {},
   "source": [
    "Here is a perhaps a simple or tricky line of code using boolean values, can you guess what the value is?"
   ]
  },
  {
   "cell_type": "code",
   "execution_count": 16,
   "id": "f7dc5c81-050d-4eca-8641-5c0834593d00",
   "metadata": {},
   "outputs": [
    {
     "data": {
      "text/plain": [
       "True"
      ]
     },
     "execution_count": 16,
     "metadata": {},
     "output_type": "execute_result"
    }
   ],
   "source": [
    "True or True and False"
   ]
  },
  {
   "cell_type": "markdown",
   "id": "f9a5140d-9bf3-4155-8d09-0081244b04a4",
   "metadata": {},
   "source": [
    "The reason for this result is as follows: when `or` and `and` are used together, `and` is evaluated first. The statement \"True and False\" will return a `False` result. Why? Because a true statement and a false statement cannot be true together, their result is false. Another way of thinking about this is the binary values, 0 and 1, where 0 represents `False` and 1 represents `True`. The `and` acts as a multiplication of sorts (this shouldn't come as a surprise since multiplication is done before addition), and we know that 1 $\\times$ 0 = 0, thus \"True and False\" is `False`.\n",
    "\n",
    "Since the `and` was evaluated and gave a `False` result, when you consider \"True or False\", the result is `True` since if at least one statement is true in an or statement, the result is automatically `True`. It also helps to think of `or` as an addition of sorts and thus 1 + 0 = 1, thus \"True or False\" is `True`.\n",
    "\n",
    "If you have learnt about logic gates, this is something you already understand perfectly."
   ]
  },
  {
   "cell_type": "markdown",
   "id": "eed31601-9b15-4015-85a3-00b4be3fb892",
   "metadata": {},
   "source": [
    "Kaggle has more scenarios it considers that test your thinking using logic, logical operators and operations, and `True` and `False`. I won't be discussing it here, but feel free to check it out: https://www.kaggle.com/code/colinmorris/booleans-and-conditionals?scriptVersionId=126670518&cellId=17"
   ]
  },
  {
   "cell_type": "markdown",
   "id": "7c7f5119-cd4c-45a4-a657-ceb4bfe95784",
   "metadata": {},
   "source": [
    "## Conditionals"
   ]
  },
  {
   "cell_type": "markdown",
   "id": "f4e52faa-7555-466e-b3ef-a3547ce6eebc",
   "metadata": {},
   "source": [
    "Where you will find booleans being used most often are when they are paired with conditionals, `if`, `elif`, `else`, etc. Conditional statements, which are more commonly known as 'if-then' statements, allow you to control which parts of your code/function are executed if certain requirements are met. I like to think about them as logical piecewise functions (if you don't know what a piecewise function is, don't worry about it).\n",
    "\n",
    "Let us consider an example:"
   ]
  },
  {
   "cell_type": "code",
   "execution_count": 19,
   "id": "57508649-8ac5-4ceb-976c-d4dcb4db20b8",
   "metadata": {},
   "outputs": [],
   "source": [
    "def inspect(x):\n",
    "    if x == 0:\n",
    "        print(x, \"is zero\")\n",
    "    elif x > 0:\n",
    "        print(x, \"is positive\")\n",
    "    elif x < 0:\n",
    "        print(x, \"is negative\")\n",
    "    else:\n",
    "        print(x, \"is unlike anything I've ever seen...\")"
   ]
  },
  {
   "cell_type": "markdown",
   "id": "0fd54252-b1b3-4d86-b6ea-967144ace071",
   "metadata": {},
   "source": [
    "Let us now test the function \"inspect(x)\", but passing some values through it."
   ]
  },
  {
   "cell_type": "code",
   "execution_count": 28,
   "id": "2fc437ff-1055-48c3-b732-ec1bb9bc3b43",
   "metadata": {},
   "outputs": [
    {
     "name": "stdout",
     "output_type": "stream",
     "text": [
      "0 is zero\n"
     ]
    }
   ],
   "source": [
    "inspect(0)"
   ]
  },
  {
   "cell_type": "code",
   "execution_count": 21,
   "id": "b3bcc147-c735-4f20-a8bb-22adbb56bc2a",
   "metadata": {},
   "outputs": [
    {
     "name": "stdout",
     "output_type": "stream",
     "text": [
      "5 is positive\n"
     ]
    }
   ],
   "source": [
    "inspect(5)"
   ]
  },
  {
   "cell_type": "code",
   "execution_count": 22,
   "id": "c9e50b89-27a3-4e4b-8119-828aed4a4f34",
   "metadata": {},
   "outputs": [
    {
     "name": "stdout",
     "output_type": "stream",
     "text": [
      "-4 is negative\n"
     ]
    }
   ],
   "source": [
    "inspect(-4)"
   ]
  },
  {
   "cell_type": "markdown",
   "id": "8a85c7cb-d969-42ce-949d-5efd33605e8e",
   "metadata": {},
   "source": [
    "Note that after giving a name to the function and the condition is provided, you need to type in the colon, `:`. This is the proper syntax for defining functions and using conditionals. Another important syntax rule to follow is that after a colon is used, you must indent the code; after the first colon is used after the function's name, all conditionals are indented, and after each colon for a conditional, their respective conditions are indented too. These indentations occur because the code is separated into a separate block after a colon is used."
   ]
  },
  {
   "cell_type": "markdown",
   "id": "46400761-15a6-4e63-8339-ada70f50ade9",
   "metadata": {},
   "source": [
    "Let us study this further by considering a different defined function below:"
   ]
  },
  {
   "cell_type": "code",
   "execution_count": 30,
   "id": "5c74eba3-d521-492b-951f-035d8231229f",
   "metadata": {},
   "outputs": [],
   "source": [
    "def f(x):\n",
    "    if x > 0:\n",
    "        print(\"Only printed when x is positive; x =\", x)\n",
    "        print(\"Also only printed when x is positive; x =\", x)\n",
    "    print(\"Always printed, regardless of x's value; x =\", x)"
   ]
  },
  {
   "cell_type": "markdown",
   "id": "364ab0c2-5008-4e52-af2f-8f25ccb7a8fa",
   "metadata": {},
   "source": [
    "Take great consideration of the body structure and shape (i.e. where the indentations are). After the if-statement, there is an indentation with 2 print calls: if x > 0, then both of those print statements will occur. However, notice that the last print statement is indented due to the colon after the function name and not the conditional; this means that regardless of the value of x, that last line will always print. \n",
    "\n",
    "Let's see this with three examples:"
   ]
  },
  {
   "cell_type": "code",
   "execution_count": 31,
   "id": "192f643c-3ea7-4d9d-824c-78f3ed7f9030",
   "metadata": {},
   "outputs": [
    {
     "name": "stdout",
     "output_type": "stream",
     "text": [
      "Only printed when x is positive; x = 2\n",
      "Also only printed when x is positive; x = 2\n",
      "Always printed, regardless of x's value; x = 2\n"
     ]
    }
   ],
   "source": [
    "f(2)"
   ]
  },
  {
   "cell_type": "code",
   "execution_count": 32,
   "id": "fea2f9b5-d534-4bd6-b48e-08d302d5c25b",
   "metadata": {},
   "outputs": [
    {
     "name": "stdout",
     "output_type": "stream",
     "text": [
      "Always printed, regardless of x's value; x = 0\n"
     ]
    }
   ],
   "source": [
    "f(0)"
   ]
  },
  {
   "cell_type": "code",
   "execution_count": 33,
   "id": "ec6d4b91-60d9-4840-b8ff-2888e1943bc5",
   "metadata": {},
   "outputs": [
    {
     "name": "stdout",
     "output_type": "stream",
     "text": [
      "Always printed, regardless of x's value; x = -2\n"
     ]
    }
   ],
   "source": [
    "f(-2)"
   ]
  },
  {
   "cell_type": "markdown",
   "id": "a765e868-15ad-4c28-a150-d73e80df1f50",
   "metadata": {},
   "source": [
    "Important lesson: the position of the indentations matters A LOT!"
   ]
  },
  {
   "cell_type": "markdown",
   "id": "255a8304-97ef-47e4-a46b-59809207847b",
   "metadata": {},
   "source": [
    "## Boolean conversion"
   ]
  },
  {
   "cell_type": "markdown",
   "id": "88d3da22-da7b-47fe-a8ab-484d6503f391",
   "metadata": {},
   "source": [
    "We have seen the conversion of datatypes from one form to another, like integers to floats, and vice versa, by using `float()` and `int()` respectively, but did you know it is possible to do this conversion approach when it comes to converting values into a boolean? Well, it is with the use of `bool()`!"
   ]
  },
  {
   "cell_type": "code",
   "execution_count": 35,
   "id": "0560516e-05ff-4989-b761-59a59d167c70",
   "metadata": {},
   "outputs": [
    {
     "name": "stdout",
     "output_type": "stream",
     "text": [
      "True\n",
      "False\n",
      "True\n",
      "False\n"
     ]
    }
   ],
   "source": [
    "print(bool(1)) # All numbers, except for 0, are treated as True\n",
    "print(bool(0)) # 0 is the only number treated as False\n",
    "print(bool(\"asf\")) # All strings are treated as true, except the empty string \"\"\n",
    "print(bool(\"\")) # Empty strings are treated as False\n",
    "# Generally empty sequences (strings, lists, and other types we've yet to see, like lists and tuples) are \"falsey\" and the rest are \"truthy\""
   ]
  },
  {
   "cell_type": "markdown",
   "id": "6db0e9c7-460f-4cfd-a7dd-107f48819d77",
   "metadata": {},
   "source": [
    "It is possible to use non-boolean objects in `if` conditions and other places where a boolean would be expected. Python will implicitly treat them as their corresponding boolean value; an example of this is seen below:"
   ]
  },
  {
   "cell_type": "code",
   "execution_count": 36,
   "id": "f248a95b-8d0b-4ff2-905f-f07410ebc1ba",
   "metadata": {},
   "outputs": [
    {
     "name": "stdout",
     "output_type": "stream",
     "text": [
      "spam\n"
     ]
    }
   ],
   "source": [
    "if 0:\n",
    "    print(0)\n",
    "elif \"spam\":\n",
    "    print(\"spam\")"
   ]
  },
  {
   "cell_type": "markdown",
   "id": "115b430d-4a56-4656-9ff0-5b77d2b7165e",
   "metadata": {},
   "source": [
    "This concludes the tutorial portion of section 3; next will be the exercise portion for this section."
   ]
  },
  {
   "cell_type": "code",
   "execution_count": null,
   "id": "5ba9c122-0b03-4608-921e-5638cb8fb064",
   "metadata": {},
   "outputs": [],
   "source": []
  }
 ],
 "metadata": {
  "kernelspec": {
   "display_name": "Python [conda env:base] *",
   "language": "python",
   "name": "conda-base-py"
  },
  "language_info": {
   "codemirror_mode": {
    "name": "ipython",
    "version": 3
   },
   "file_extension": ".py",
   "mimetype": "text/x-python",
   "name": "python",
   "nbconvert_exporter": "python",
   "pygments_lexer": "ipython3",
   "version": "3.12.7"
  }
 },
 "nbformat": 4,
 "nbformat_minor": 5
}
